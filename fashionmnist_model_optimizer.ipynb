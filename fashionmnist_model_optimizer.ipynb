{
 "cells": [
  {
   "cell_type": "markdown",
   "metadata": {
    "id": "0BL-NITwDKZi"
   },
   "source": [
    "## Implementation using TensorFlow on fashion minst dataset."
   ]
  },
  {
   "cell_type": "code",
   "execution_count": 1,
   "metadata": {},
   "outputs": [],
   "source": [
    "# ! pip install -U \"ray[data,train,tune,serve]\""
   ]
  },
  {
   "cell_type": "code",
   "execution_count": 2,
   "metadata": {
    "id": "q7jewJ3bDKZi"
   },
   "outputs": [],
   "source": [
    "import ray\n",
    "from ray import tune, train\n",
    "import tensorflow as tf"
   ]
  },
  {
   "cell_type": "code",
   "execution_count": 3,
   "metadata": {},
   "outputs": [
    {
     "name": "stderr",
     "output_type": "stream",
     "text": [
      "2024-02-23 11:29:54,382\tINFO worker.py:1715 -- Started a local Ray instance. View the dashboard at \u001b[1m\u001b[32mhttp://127.0.0.1:8265 \u001b[39m\u001b[22m\n"
     ]
    },
    {
     "data": {
      "application/vnd.jupyter.widget-view+json": {
       "model_id": "f6acbd5155d54425b0cb8ac60ab118ea",
       "version_major": 2,
       "version_minor": 0
      },
      "text/html": [
       "<div class=\"lm-Widget p-Widget lm-Panel p-Panel jp-Cell-outputWrapper\">\n",
       "    <div style=\"margin-left: 50px;display: flex;flex-direction: row;align-items: center\">\n",
       "        <div class=\"jp-RenderedHTMLCommon\" style=\"display: flex; flex-direction: row;\">\n",
       "  <svg viewBox=\"0 0 567 224\" fill=\"none\" xmlns=\"http://www.w3.org/2000/svg\" style=\"height: 3em;\">\n",
       "    <g clip-path=\"url(#clip0_4338_178347)\">\n",
       "        <path d=\"M341.29 165.561H355.29L330.13 129.051C345.63 123.991 354.21 112.051 354.21 94.2307C354.21 71.3707 338.72 58.1807 311.88 58.1807H271V165.561H283.27V131.661H311.8C314.25 131.661 316.71 131.501 319.01 131.351L341.25 165.561H341.29ZM283.29 119.851V70.0007H311.82C331.3 70.0007 342.34 78.2907 342.34 94.5507C342.34 111.271 331.34 119.861 311.82 119.861L283.29 119.851ZM451.4 138.411L463.4 165.561H476.74L428.74 58.1807H416L367.83 165.561H380.83L392.83 138.411H451.4ZM446.19 126.601H398L422 72.1407L446.24 126.601H446.19ZM526.11 128.741L566.91 58.1807H554.35L519.99 114.181L485.17 58.1807H472.44L514.01 129.181V165.541H526.13V128.741H526.11Z\" fill=\"var(--jp-ui-font-color0)\"/>\n",
       "        <path d=\"M82.35 104.44C84.0187 97.8827 87.8248 92.0678 93.1671 87.9146C98.5094 83.7614 105.083 81.5067 111.85 81.5067C118.617 81.5067 125.191 83.7614 130.533 87.9146C135.875 92.0678 139.681 97.8827 141.35 104.44H163.75C164.476 101.562 165.622 98.8057 167.15 96.2605L127.45 56.5605C121.071 60.3522 113.526 61.6823 106.235 60.3005C98.9443 58.9187 92.4094 54.9203 87.8602 49.0574C83.3109 43.1946 81.0609 35.8714 81.5332 28.4656C82.0056 21.0599 85.1679 14.0819 90.4252 8.8446C95.6824 3.60726 102.672 0.471508 110.08 0.0272655C117.487 -0.416977 124.802 1.86091 130.647 6.4324C136.493 11.0039 140.467 17.5539 141.821 24.8501C143.175 32.1463 141.816 39.6859 138 46.0505L177.69 85.7505C182.31 82.9877 187.58 81.4995 192.962 81.4375C198.345 81.3755 203.648 82.742 208.33 85.3976C213.012 88.0532 216.907 91.9029 219.616 96.5544C222.326 101.206 223.753 106.492 223.753 111.875C223.753 117.258 222.326 122.545 219.616 127.197C216.907 131.848 213.012 135.698 208.33 138.353C203.648 141.009 198.345 142.375 192.962 142.313C187.58 142.251 182.31 140.763 177.69 138L138 177.7C141.808 184.071 143.155 191.614 141.79 198.91C140.424 206.205 136.44 212.75 130.585 217.313C124.731 221.875 117.412 224.141 110.004 223.683C102.596 223.226 95.6103 220.077 90.3621 214.828C85.1139 209.58 81.9647 202.595 81.5072 195.187C81.0497 187.779 83.3154 180.459 87.878 174.605C92.4405 168.751 98.9853 164.766 106.281 163.401C113.576 162.035 121.119 163.383 127.49 167.19L167.19 127.49C165.664 124.941 164.518 122.182 163.79 119.3H141.39C139.721 125.858 135.915 131.673 130.573 135.826C125.231 139.98 118.657 142.234 111.89 142.234C105.123 142.234 98.5494 139.98 93.2071 135.826C87.8648 131.673 84.0587 125.858 82.39 119.3H60C58.1878 126.495 53.8086 132.78 47.6863 136.971C41.5641 141.163 34.1211 142.972 26.7579 142.059C19.3947 141.146 12.6191 137.574 7.70605 132.014C2.79302 126.454 0.0813599 119.29 0.0813599 111.87C0.0813599 104.451 2.79302 97.2871 7.70605 91.7272C12.6191 86.1673 19.3947 82.5947 26.7579 81.6817C34.1211 80.7686 41.5641 82.5781 47.6863 86.7696C53.8086 90.9611 58.1878 97.2456 60 104.44H82.35ZM100.86 204.32C103.407 206.868 106.759 208.453 110.345 208.806C113.93 209.159 117.527 208.258 120.522 206.256C123.517 204.254 125.725 201.276 126.771 197.828C127.816 194.38 127.633 190.677 126.253 187.349C124.874 184.021 122.383 181.274 119.205 179.577C116.027 177.88 112.359 177.337 108.826 178.042C105.293 178.746 102.113 180.654 99.8291 183.44C97.5451 186.226 96.2979 189.718 96.3 193.32C96.2985 195.364 96.7006 197.388 97.4831 199.275C98.2656 201.163 99.4132 202.877 100.86 204.32ZM204.32 122.88C206.868 120.333 208.453 116.981 208.806 113.396C209.159 109.811 208.258 106.214 206.256 103.219C204.254 100.223 201.275 98.0151 197.827 96.97C194.38 95.9249 190.676 96.1077 187.348 97.4873C184.02 98.8669 181.274 101.358 179.577 104.536C177.879 107.714 177.337 111.382 178.041 114.915C178.746 118.448 180.653 121.627 183.439 123.911C186.226 126.195 189.717 127.443 193.32 127.44C195.364 127.443 197.388 127.042 199.275 126.259C201.163 125.476 202.878 124.328 204.32 122.88ZM122.88 19.4205C120.333 16.8729 116.981 15.2876 113.395 14.9347C109.81 14.5817 106.213 15.483 103.218 17.4849C100.223 19.4868 98.0146 22.4654 96.9696 25.9131C95.9245 29.3608 96.1073 33.0642 97.4869 36.3922C98.8665 39.7202 101.358 42.4668 104.535 44.1639C107.713 45.861 111.381 46.4036 114.914 45.6992C118.447 44.9949 121.627 43.0871 123.911 40.301C126.195 37.515 127.442 34.0231 127.44 30.4205C127.44 28.3772 127.038 26.3539 126.255 24.4664C125.473 22.5788 124.326 20.8642 122.88 19.4205ZM19.42 100.86C16.8725 103.408 15.2872 106.76 14.9342 110.345C14.5813 113.93 15.4826 117.527 17.4844 120.522C19.4863 123.518 22.4649 125.726 25.9127 126.771C29.3604 127.816 33.0638 127.633 36.3918 126.254C39.7198 124.874 42.4664 122.383 44.1635 119.205C45.8606 116.027 46.4032 112.359 45.6988 108.826C44.9944 105.293 43.0866 102.114 40.3006 99.8296C37.5145 97.5455 34.0227 96.2983 30.42 96.3005C26.2938 96.3018 22.337 97.9421 19.42 100.86ZM100.86 100.86C98.3125 103.408 96.7272 106.76 96.3742 110.345C96.0213 113.93 96.9226 117.527 98.9244 120.522C100.926 123.518 103.905 125.726 107.353 126.771C110.8 127.816 114.504 127.633 117.832 126.254C121.16 124.874 123.906 122.383 125.604 119.205C127.301 116.027 127.843 112.359 127.139 108.826C126.434 105.293 124.527 102.114 121.741 99.8296C118.955 97.5455 115.463 96.2983 111.86 96.3005C109.817 96.299 107.793 96.701 105.905 97.4835C104.018 98.2661 102.303 99.4136 100.86 100.86Z\" fill=\"#00AEEF\"/>\n",
       "    </g>\n",
       "    <defs>\n",
       "        <clipPath id=\"clip0_4338_178347\">\n",
       "            <rect width=\"566.93\" height=\"223.75\" fill=\"white\"/>\n",
       "        </clipPath>\n",
       "    </defs>\n",
       "  </svg>\n",
       "</div>\n",
       "\n",
       "        <table class=\"jp-RenderedHTMLCommon\" style=\"border-collapse: collapse;color: var(--jp-ui-font-color1);font-size: var(--jp-ui-font-size1);\">\n",
       "    <tr>\n",
       "        <td style=\"text-align: left\"><b>Python version:</b></td>\n",
       "        <td style=\"text-align: left\"><b>3.11.5</b></td>\n",
       "    </tr>\n",
       "    <tr>\n",
       "        <td style=\"text-align: left\"><b>Ray version:</b></td>\n",
       "        <td style=\"text-align: left\"><b>2.9.2</b></td>\n",
       "    </tr>\n",
       "    <tr>\n",
       "    <td style=\"text-align: left\"><b>Dashboard:</b></td>\n",
       "    <td style=\"text-align: left\"><b><a href=\"http://127.0.0.1:8265\" target=\"_blank\">http://127.0.0.1:8265</a></b></td>\n",
       "</tr>\n",
       "\n",
       "</table>\n",
       "\n",
       "    </div>\n",
       "</div>\n"
      ],
      "text/plain": [
       "RayContext(dashboard_url='127.0.0.1:8265', python_version='3.11.5', ray_version='2.9.2', ray_commit='fce7a361807580953364e2da964f9498f3123bf9', protocol_version=None)"
      ]
     },
     "execution_count": 3,
     "metadata": {},
     "output_type": "execute_result"
    }
   ],
   "source": [
    "ray.init()"
   ]
  },
  {
   "cell_type": "code",
   "execution_count": 4,
   "metadata": {},
   "outputs": [],
   "source": [
    "# Define a function to train the model\n",
    "def train_model(config):\n",
    "    from fashionmnist_model import FMM\n",
    "    X_train, y_train, X_test, y_test = FMM.load_data()\n",
    "    X_train, X_test = FMM.reshape_data(X_train, X_test) \n",
    "    \n",
    "    # Define a TensorFlow model\n",
    "    model = tf.keras.Sequential(\n",
    "        [\n",
    "            tf.keras.layers.Flatten(input_shape=(28, 28)),\n",
    "            tf.keras.layers.Dense(config[\"units_1\"], activation=\"relu\"),\n",
    "            tf.keras.layers.Dropout(config[\"dropouts_1\"]),\n",
    "            tf.keras.layers.BatchNormalization(),\n",
    "            tf.keras.layers.Dense(config[\"units_2\"], activation=\"relu\"),\n",
    "            tf.keras.layers.Dropout(config[\"dropouts_2\"]),\n",
    "            tf.keras.layers.BatchNormalization(),\n",
    "            tf.keras.layers.Dense(10, activation=\"softmax\"),\n",
    "        ]\n",
    "    )\n",
    "\n",
    "    model.compile(\n",
    "        loss=\"sparse_categorical_crossentropy\",\n",
    "        metrics=[\"accuracy\"],\n",
    "    )\n",
    "\n",
    "    # Train the model\n",
    "    model.fit(X_train, y_train, epochs=30, batch_size=config[\"batch_size\"], verbose=0, validation_split=0.2)\n",
    "\n",
    "    # Evaluate the model\n",
    "    _, accuracy = model.evaluate(X_test, y_test)\n",
    "    train.report({\"test_accuracy\": accuracy})"
   ]
  },
  {
   "cell_type": "code",
   "execution_count": 5,
   "metadata": {},
   "outputs": [],
   "source": [
    "search_space = {\n",
    "    \"units_1\": tune.grid_search([64, 128, 256]), \n",
    "    \"units_2\": tune.grid_search([64, 128, 256]),\n",
    "    \"dropouts_1\": tune.grid_search([0.1, 0.5]),\n",
    "    \"dropouts_2\": tune.grid_search([0.1, 0.5]),\n",
    "    \"batch_size\": tune.grid_search([32, 64, 128]),\n",
    "}"
   ]
  },
  {
   "cell_type": "code",
   "execution_count": 6,
   "metadata": {
    "id": "9g8A7WBWDKZj"
   },
   "outputs": [
    {
     "name": "stderr",
     "output_type": "stream",
     "text": [
      "2024-02-23 11:29:54,989\tINFO tune.py:583 -- [output] This uses the legacy output and progress reporter, as Jupyter notebooks are not supported by the new engine, yet. For more information, please see https://github.com/ray-project/ray/issues/36949\n"
     ]
    },
    {
     "data": {
      "text/html": [
       "<div class=\"tuneStatus\">\n",
       "  <div style=\"display: flex;flex-direction: row\">\n",
       "    <div style=\"display: flex;flex-direction: column;\">\n",
       "      <h3>Tune Status</h3>\n",
       "      <table>\n",
       "<tbody>\n",
       "<tr><td>Current time:</td><td>2024-02-23 12:23:16</td></tr>\n",
       "<tr><td>Running for: </td><td>00:53:19.44        </td></tr>\n",
       "<tr><td>Memory:      </td><td>5.2/8.0 GiB        </td></tr>\n",
       "</tbody>\n",
       "</table>\n",
       "    </div>\n",
       "    <div class=\"vDivider\"></div>\n",
       "    <div class=\"systemInfo\">\n",
       "      <h3>System Info</h3>\n",
       "      Using FIFO scheduling algorithm.<br>Logical resource usage: 1.0/8 CPUs, 0/0 GPUs\n",
       "    </div>\n",
       "    \n",
       "  </div>\n",
       "  <div class=\"hDivider\"></div>\n",
       "  <div class=\"trialStatus\">\n",
       "    <h3>Trial Status</h3>\n",
       "    <table>\n",
       "<thead>\n",
       "<tr><th>Trial name             </th><th>status    </th><th>loc            </th><th style=\"text-align: right;\">  batch_size</th><th style=\"text-align: right;\">  dropouts_1</th><th style=\"text-align: right;\">  dropouts_2</th><th style=\"text-align: right;\">  units_1</th><th style=\"text-align: right;\">  units_2</th><th style=\"text-align: right;\">  iter</th><th style=\"text-align: right;\">  total time (s)</th><th style=\"text-align: right;\">  test_accuracy</th></tr>\n",
       "</thead>\n",
       "<tbody>\n",
       "<tr><td>train_model_c6df2_00000</td><td>TERMINATED</td><td>127.0.0.1:58859</td><td style=\"text-align: right;\">          32</td><td style=\"text-align: right;\">         0.1</td><td style=\"text-align: right;\">         0.1</td><td style=\"text-align: right;\">       64</td><td style=\"text-align: right;\">       64</td><td style=\"text-align: right;\">     1</td><td style=\"text-align: right;\">        202.94  </td><td style=\"text-align: right;\">         0.8735</td></tr>\n",
       "<tr><td>train_model_c6df2_00001</td><td>TERMINATED</td><td>127.0.0.1:58860</td><td style=\"text-align: right;\">          64</td><td style=\"text-align: right;\">         0.1</td><td style=\"text-align: right;\">         0.1</td><td style=\"text-align: right;\">       64</td><td style=\"text-align: right;\">       64</td><td style=\"text-align: right;\">     1</td><td style=\"text-align: right;\">        123.483 </td><td style=\"text-align: right;\">         0.8764</td></tr>\n",
       "<tr><td>train_model_c6df2_00002</td><td>TERMINATED</td><td>127.0.0.1:58861</td><td style=\"text-align: right;\">         128</td><td style=\"text-align: right;\">         0.1</td><td style=\"text-align: right;\">         0.1</td><td style=\"text-align: right;\">       64</td><td style=\"text-align: right;\">       64</td><td style=\"text-align: right;\">     1</td><td style=\"text-align: right;\">         64.6698</td><td style=\"text-align: right;\">         0.8707</td></tr>\n",
       "<tr><td>train_model_c6df2_00003</td><td>TERMINATED</td><td>127.0.0.1:58862</td><td style=\"text-align: right;\">          32</td><td style=\"text-align: right;\">         0.5</td><td style=\"text-align: right;\">         0.1</td><td style=\"text-align: right;\">       64</td><td style=\"text-align: right;\">       64</td><td style=\"text-align: right;\">     1</td><td style=\"text-align: right;\">        207.037 </td><td style=\"text-align: right;\">         0.855 </td></tr>\n",
       "<tr><td>train_model_c6df2_00004</td><td>TERMINATED</td><td>127.0.0.1:58863</td><td style=\"text-align: right;\">          64</td><td style=\"text-align: right;\">         0.5</td><td style=\"text-align: right;\">         0.1</td><td style=\"text-align: right;\">       64</td><td style=\"text-align: right;\">       64</td><td style=\"text-align: right;\">     1</td><td style=\"text-align: right;\">        121.923 </td><td style=\"text-align: right;\">         0.8574</td></tr>\n",
       "<tr><td>train_model_c6df2_00005</td><td>TERMINATED</td><td>127.0.0.1:58864</td><td style=\"text-align: right;\">         128</td><td style=\"text-align: right;\">         0.5</td><td style=\"text-align: right;\">         0.1</td><td style=\"text-align: right;\">       64</td><td style=\"text-align: right;\">       64</td><td style=\"text-align: right;\">     1</td><td style=\"text-align: right;\">         65.7461</td><td style=\"text-align: right;\">         0.8594</td></tr>\n",
       "<tr><td>train_model_c6df2_00006</td><td>TERMINATED</td><td>127.0.0.1:58865</td><td style=\"text-align: right;\">          32</td><td style=\"text-align: right;\">         0.1</td><td style=\"text-align: right;\">         0.5</td><td style=\"text-align: right;\">       64</td><td style=\"text-align: right;\">       64</td><td style=\"text-align: right;\">     1</td><td style=\"text-align: right;\">        208.218 </td><td style=\"text-align: right;\">         0.869 </td></tr>\n",
       "<tr><td>train_model_c6df2_00007</td><td>TERMINATED</td><td>127.0.0.1:58866</td><td style=\"text-align: right;\">          64</td><td style=\"text-align: right;\">         0.1</td><td style=\"text-align: right;\">         0.5</td><td style=\"text-align: right;\">       64</td><td style=\"text-align: right;\">       64</td><td style=\"text-align: right;\">     1</td><td style=\"text-align: right;\">        123.605 </td><td style=\"text-align: right;\">         0.8717</td></tr>\n",
       "<tr><td>train_model_c6df2_00008</td><td>TERMINATED</td><td>127.0.0.1:58861</td><td style=\"text-align: right;\">         128</td><td style=\"text-align: right;\">         0.1</td><td style=\"text-align: right;\">         0.5</td><td style=\"text-align: right;\">       64</td><td style=\"text-align: right;\">       64</td><td style=\"text-align: right;\">     1</td><td style=\"text-align: right;\">         72.0395</td><td style=\"text-align: right;\">         0.8628</td></tr>\n",
       "<tr><td>train_model_c6df2_00009</td><td>TERMINATED</td><td>127.0.0.1:58864</td><td style=\"text-align: right;\">          32</td><td style=\"text-align: right;\">         0.5</td><td style=\"text-align: right;\">         0.5</td><td style=\"text-align: right;\">       64</td><td style=\"text-align: right;\">       64</td><td style=\"text-align: right;\">     1</td><td style=\"text-align: right;\">        218.835 </td><td style=\"text-align: right;\">         0.8416</td></tr>\n",
       "<tr><td>train_model_c6df2_00010</td><td>TERMINATED</td><td>127.0.0.1:58863</td><td style=\"text-align: right;\">          64</td><td style=\"text-align: right;\">         0.5</td><td style=\"text-align: right;\">         0.5</td><td style=\"text-align: right;\">       64</td><td style=\"text-align: right;\">       64</td><td style=\"text-align: right;\">     1</td><td style=\"text-align: right;\">        107.167 </td><td style=\"text-align: right;\">         0.8572</td></tr>\n",
       "<tr><td>train_model_c6df2_00011</td><td>TERMINATED</td><td>127.0.0.1:58860</td><td style=\"text-align: right;\">         128</td><td style=\"text-align: right;\">         0.5</td><td style=\"text-align: right;\">         0.5</td><td style=\"text-align: right;\">       64</td><td style=\"text-align: right;\">       64</td><td style=\"text-align: right;\">     1</td><td style=\"text-align: right;\">         60.3798</td><td style=\"text-align: right;\">         0.8524</td></tr>\n",
       "<tr><td>train_model_c6df2_00012</td><td>TERMINATED</td><td>127.0.0.1:58866</td><td style=\"text-align: right;\">          32</td><td style=\"text-align: right;\">         0.1</td><td style=\"text-align: right;\">         0.1</td><td style=\"text-align: right;\">      128</td><td style=\"text-align: right;\">       64</td><td style=\"text-align: right;\">     1</td><td style=\"text-align: right;\">        230.177 </td><td style=\"text-align: right;\">         0.8784</td></tr>\n",
       "<tr><td>train_model_c6df2_00013</td><td>TERMINATED</td><td>127.0.0.1:58861</td><td style=\"text-align: right;\">          64</td><td style=\"text-align: right;\">         0.1</td><td style=\"text-align: right;\">         0.1</td><td style=\"text-align: right;\">      128</td><td style=\"text-align: right;\">       64</td><td style=\"text-align: right;\">     1</td><td style=\"text-align: right;\">        121.607 </td><td style=\"text-align: right;\">         0.8563</td></tr>\n",
       "<tr><td>train_model_c6df2_00014</td><td>TERMINATED</td><td>127.0.0.1:58860</td><td style=\"text-align: right;\">         128</td><td style=\"text-align: right;\">         0.1</td><td style=\"text-align: right;\">         0.1</td><td style=\"text-align: right;\">      128</td><td style=\"text-align: right;\">       64</td><td style=\"text-align: right;\">     1</td><td style=\"text-align: right;\">         79.6494</td><td style=\"text-align: right;\">         0.8759</td></tr>\n",
       "<tr><td>train_model_c6df2_00015</td><td>TERMINATED</td><td>127.0.0.1:58859</td><td style=\"text-align: right;\">          32</td><td style=\"text-align: right;\">         0.5</td><td style=\"text-align: right;\">         0.1</td><td style=\"text-align: right;\">      128</td><td style=\"text-align: right;\">       64</td><td style=\"text-align: right;\">     1</td><td style=\"text-align: right;\">        265.928 </td><td style=\"text-align: right;\">         0.8682</td></tr>\n",
       "<tr><td>train_model_c6df2_00016</td><td>TERMINATED</td><td>127.0.0.1:58862</td><td style=\"text-align: right;\">          64</td><td style=\"text-align: right;\">         0.5</td><td style=\"text-align: right;\">         0.1</td><td style=\"text-align: right;\">      128</td><td style=\"text-align: right;\">       64</td><td style=\"text-align: right;\">     1</td><td style=\"text-align: right;\">        137.518 </td><td style=\"text-align: right;\">         0.8718</td></tr>\n",
       "<tr><td>train_model_c6df2_00017</td><td>TERMINATED</td><td>127.0.0.1:58865</td><td style=\"text-align: right;\">         128</td><td style=\"text-align: right;\">         0.5</td><td style=\"text-align: right;\">         0.1</td><td style=\"text-align: right;\">      128</td><td style=\"text-align: right;\">       64</td><td style=\"text-align: right;\">     1</td><td style=\"text-align: right;\">         87.4975</td><td style=\"text-align: right;\">         0.8725</td></tr>\n",
       "<tr><td>train_model_c6df2_00018</td><td>TERMINATED</td><td>127.0.0.1:58863</td><td style=\"text-align: right;\">          32</td><td style=\"text-align: right;\">         0.1</td><td style=\"text-align: right;\">         0.5</td><td style=\"text-align: right;\">      128</td><td style=\"text-align: right;\">       64</td><td style=\"text-align: right;\">     1</td><td style=\"text-align: right;\">        279.083 </td><td style=\"text-align: right;\">         0.8749</td></tr>\n",
       "<tr><td>train_model_c6df2_00019</td><td>TERMINATED</td><td>127.0.0.1:58861</td><td style=\"text-align: right;\">          64</td><td style=\"text-align: right;\">         0.1</td><td style=\"text-align: right;\">         0.5</td><td style=\"text-align: right;\">      128</td><td style=\"text-align: right;\">       64</td><td style=\"text-align: right;\">     1</td><td style=\"text-align: right;\">        136.317 </td><td style=\"text-align: right;\">         0.8764</td></tr>\n",
       "<tr><td>train_model_c6df2_00020</td><td>TERMINATED</td><td>127.0.0.1:58860</td><td style=\"text-align: right;\">         128</td><td style=\"text-align: right;\">         0.1</td><td style=\"text-align: right;\">         0.5</td><td style=\"text-align: right;\">      128</td><td style=\"text-align: right;\">       64</td><td style=\"text-align: right;\">     1</td><td style=\"text-align: right;\">         80.2557</td><td style=\"text-align: right;\">         0.8774</td></tr>\n",
       "<tr><td>train_model_c6df2_00021</td><td>TERMINATED</td><td>127.0.0.1:58864</td><td style=\"text-align: right;\">          32</td><td style=\"text-align: right;\">         0.5</td><td style=\"text-align: right;\">         0.5</td><td style=\"text-align: right;\">      128</td><td style=\"text-align: right;\">       64</td><td style=\"text-align: right;\">     1</td><td style=\"text-align: right;\">        323.553 </td><td style=\"text-align: right;\">         0.8576</td></tr>\n",
       "<tr><td>train_model_c6df2_00022</td><td>TERMINATED</td><td>127.0.0.1:58865</td><td style=\"text-align: right;\">          64</td><td style=\"text-align: right;\">         0.5</td><td style=\"text-align: right;\">         0.5</td><td style=\"text-align: right;\">      128</td><td style=\"text-align: right;\">       64</td><td style=\"text-align: right;\">     1</td><td style=\"text-align: right;\">        147.389 </td><td style=\"text-align: right;\">         0.8633</td></tr>\n",
       "<tr><td>train_model_c6df2_00023</td><td>TERMINATED</td><td>127.0.0.1:58860</td><td style=\"text-align: right;\">         128</td><td style=\"text-align: right;\">         0.5</td><td style=\"text-align: right;\">         0.5</td><td style=\"text-align: right;\">      128</td><td style=\"text-align: right;\">       64</td><td style=\"text-align: right;\">     1</td><td style=\"text-align: right;\">         91.3089</td><td style=\"text-align: right;\">         0.8696</td></tr>\n",
       "<tr><td>train_model_c6df2_00024</td><td>TERMINATED</td><td>127.0.0.1:58862</td><td style=\"text-align: right;\">          32</td><td style=\"text-align: right;\">         0.1</td><td style=\"text-align: right;\">         0.1</td><td style=\"text-align: right;\">      256</td><td style=\"text-align: right;\">       64</td><td style=\"text-align: right;\">     1</td><td style=\"text-align: right;\">        387.229 </td><td style=\"text-align: right;\">         0.8791</td></tr>\n",
       "<tr><td>train_model_c6df2_00025</td><td>TERMINATED</td><td>127.0.0.1:58866</td><td style=\"text-align: right;\">          64</td><td style=\"text-align: right;\">         0.1</td><td style=\"text-align: right;\">         0.1</td><td style=\"text-align: right;\">      256</td><td style=\"text-align: right;\">       64</td><td style=\"text-align: right;\">     1</td><td style=\"text-align: right;\">        198.287 </td><td style=\"text-align: right;\">         0.8755</td></tr>\n",
       "<tr><td>train_model_c6df2_00026</td><td>TERMINATED</td><td>127.0.0.1:58861</td><td style=\"text-align: right;\">         128</td><td style=\"text-align: right;\">         0.1</td><td style=\"text-align: right;\">         0.1</td><td style=\"text-align: right;\">      256</td><td style=\"text-align: right;\">       64</td><td style=\"text-align: right;\">     1</td><td style=\"text-align: right;\">        114.091 </td><td style=\"text-align: right;\">         0.8723</td></tr>\n",
       "<tr><td>train_model_c6df2_00027</td><td>TERMINATED</td><td>127.0.0.1:58860</td><td style=\"text-align: right;\">          32</td><td style=\"text-align: right;\">         0.5</td><td style=\"text-align: right;\">         0.1</td><td style=\"text-align: right;\">      256</td><td style=\"text-align: right;\">       64</td><td style=\"text-align: right;\">     1</td><td style=\"text-align: right;\">        397.584 </td><td style=\"text-align: right;\">         0.8699</td></tr>\n",
       "<tr><td>train_model_c6df2_00028</td><td>TERMINATED</td><td>127.0.0.1:58865</td><td style=\"text-align: right;\">          64</td><td style=\"text-align: right;\">         0.5</td><td style=\"text-align: right;\">         0.1</td><td style=\"text-align: right;\">      256</td><td style=\"text-align: right;\">       64</td><td style=\"text-align: right;\">     1</td><td style=\"text-align: right;\">        244.936 </td><td style=\"text-align: right;\">         0.8662</td></tr>\n",
       "<tr><td>train_model_c6df2_00029</td><td>TERMINATED</td><td>127.0.0.1:58859</td><td style=\"text-align: right;\">         128</td><td style=\"text-align: right;\">         0.5</td><td style=\"text-align: right;\">         0.1</td><td style=\"text-align: right;\">      256</td><td style=\"text-align: right;\">       64</td><td style=\"text-align: right;\">     1</td><td style=\"text-align: right;\">        146.459 </td><td style=\"text-align: right;\">         0.8717</td></tr>\n",
       "<tr><td>train_model_c6df2_00030</td><td>TERMINATED</td><td>127.0.0.1:58863</td><td style=\"text-align: right;\">          32</td><td style=\"text-align: right;\">         0.1</td><td style=\"text-align: right;\">         0.5</td><td style=\"text-align: right;\">      256</td><td style=\"text-align: right;\">       64</td><td style=\"text-align: right;\">     1</td><td style=\"text-align: right;\">        380.275 </td><td style=\"text-align: right;\">         0.8754</td></tr>\n",
       "<tr><td>train_model_c6df2_00031</td><td>TERMINATED</td><td>127.0.0.1:58861</td><td style=\"text-align: right;\">          64</td><td style=\"text-align: right;\">         0.1</td><td style=\"text-align: right;\">         0.5</td><td style=\"text-align: right;\">      256</td><td style=\"text-align: right;\">       64</td><td style=\"text-align: right;\">     1</td><td style=\"text-align: right;\">        254.763 </td><td style=\"text-align: right;\">         0.8757</td></tr>\n",
       "<tr><td>train_model_c6df2_00032</td><td>TERMINATED</td><td>127.0.0.1:58866</td><td style=\"text-align: right;\">         128</td><td style=\"text-align: right;\">         0.1</td><td style=\"text-align: right;\">         0.5</td><td style=\"text-align: right;\">      256</td><td style=\"text-align: right;\">       64</td><td style=\"text-align: right;\">     1</td><td style=\"text-align: right;\">        146.639 </td><td style=\"text-align: right;\">         0.8751</td></tr>\n",
       "<tr><td>train_model_c6df2_00033</td><td>TERMINATED</td><td>127.0.0.1:58864</td><td style=\"text-align: right;\">          32</td><td style=\"text-align: right;\">         0.5</td><td style=\"text-align: right;\">         0.5</td><td style=\"text-align: right;\">      256</td><td style=\"text-align: right;\">       64</td><td style=\"text-align: right;\">     1</td><td style=\"text-align: right;\">        343.76  </td><td style=\"text-align: right;\">         0.8685</td></tr>\n",
       "<tr><td>train_model_c6df2_00034</td><td>TERMINATED</td><td>127.0.0.1:58859</td><td style=\"text-align: right;\">          64</td><td style=\"text-align: right;\">         0.5</td><td style=\"text-align: right;\">         0.5</td><td style=\"text-align: right;\">      256</td><td style=\"text-align: right;\">       64</td><td style=\"text-align: right;\">     1</td><td style=\"text-align: right;\">        225.441 </td><td style=\"text-align: right;\">         0.8738</td></tr>\n",
       "<tr><td>train_model_c6df2_00035</td><td>TERMINATED</td><td>127.0.0.1:58865</td><td style=\"text-align: right;\">         128</td><td style=\"text-align: right;\">         0.5</td><td style=\"text-align: right;\">         0.5</td><td style=\"text-align: right;\">      256</td><td style=\"text-align: right;\">       64</td><td style=\"text-align: right;\">     1</td><td style=\"text-align: right;\">        129.951 </td><td style=\"text-align: right;\">         0.8768</td></tr>\n",
       "<tr><td>train_model_c6df2_00036</td><td>TERMINATED</td><td>127.0.0.1:58866</td><td style=\"text-align: right;\">          32</td><td style=\"text-align: right;\">         0.1</td><td style=\"text-align: right;\">         0.1</td><td style=\"text-align: right;\">       64</td><td style=\"text-align: right;\">      128</td><td style=\"text-align: right;\">     1</td><td style=\"text-align: right;\">        271.284 </td><td style=\"text-align: right;\">         0.8711</td></tr>\n",
       "<tr><td>train_model_c6df2_00037</td><td>TERMINATED</td><td>127.0.0.1:58862</td><td style=\"text-align: right;\">          64</td><td style=\"text-align: right;\">         0.1</td><td style=\"text-align: right;\">         0.1</td><td style=\"text-align: right;\">       64</td><td style=\"text-align: right;\">      128</td><td style=\"text-align: right;\">     1</td><td style=\"text-align: right;\">        147.837 </td><td style=\"text-align: right;\">         0.8789</td></tr>\n",
       "<tr><td>train_model_c6df2_00038</td><td>TERMINATED</td><td>127.0.0.1:58861</td><td style=\"text-align: right;\">         128</td><td style=\"text-align: right;\">         0.1</td><td style=\"text-align: right;\">         0.1</td><td style=\"text-align: right;\">       64</td><td style=\"text-align: right;\">      128</td><td style=\"text-align: right;\">     1</td><td style=\"text-align: right;\">         86.3517</td><td style=\"text-align: right;\">         0.8845</td></tr>\n",
       "<tr><td>train_model_c6df2_00039</td><td>TERMINATED</td><td>127.0.0.1:58865</td><td style=\"text-align: right;\">          32</td><td style=\"text-align: right;\">         0.5</td><td style=\"text-align: right;\">         0.1</td><td style=\"text-align: right;\">       64</td><td style=\"text-align: right;\">      128</td><td style=\"text-align: right;\">     1</td><td style=\"text-align: right;\">        245.123 </td><td style=\"text-align: right;\">         0.8594</td></tr>\n",
       "<tr><td>train_model_c6df2_00040</td><td>TERMINATED</td><td>127.0.0.1:58860</td><td style=\"text-align: right;\">          64</td><td style=\"text-align: right;\">         0.5</td><td style=\"text-align: right;\">         0.1</td><td style=\"text-align: right;\">       64</td><td style=\"text-align: right;\">      128</td><td style=\"text-align: right;\">     1</td><td style=\"text-align: right;\">        129.867 </td><td style=\"text-align: right;\">         0.8656</td></tr>\n",
       "<tr><td>train_model_c6df2_00041</td><td>TERMINATED</td><td>127.0.0.1:58859</td><td style=\"text-align: right;\">         128</td><td style=\"text-align: right;\">         0.5</td><td style=\"text-align: right;\">         0.1</td><td style=\"text-align: right;\">       64</td><td style=\"text-align: right;\">      128</td><td style=\"text-align: right;\">     1</td><td style=\"text-align: right;\">         79.5353</td><td style=\"text-align: right;\">         0.8615</td></tr>\n",
       "<tr><td>train_model_c6df2_00042</td><td>TERMINATED</td><td>127.0.0.1:58861</td><td style=\"text-align: right;\">          32</td><td style=\"text-align: right;\">         0.1</td><td style=\"text-align: right;\">         0.5</td><td style=\"text-align: right;\">       64</td><td style=\"text-align: right;\">      128</td><td style=\"text-align: right;\">     1</td><td style=\"text-align: right;\">        261.394 </td><td style=\"text-align: right;\">         0.8629</td></tr>\n",
       "<tr><td>train_model_c6df2_00043</td><td>TERMINATED</td><td>127.0.0.1:58862</td><td style=\"text-align: right;\">          64</td><td style=\"text-align: right;\">         0.1</td><td style=\"text-align: right;\">         0.5</td><td style=\"text-align: right;\">       64</td><td style=\"text-align: right;\">      128</td><td style=\"text-align: right;\">     1</td><td style=\"text-align: right;\">        131.046 </td><td style=\"text-align: right;\">         0.8687</td></tr>\n",
       "<tr><td>train_model_c6df2_00044</td><td>TERMINATED</td><td>127.0.0.1:58863</td><td style=\"text-align: right;\">         128</td><td style=\"text-align: right;\">         0.1</td><td style=\"text-align: right;\">         0.5</td><td style=\"text-align: right;\">       64</td><td style=\"text-align: right;\">      128</td><td style=\"text-align: right;\">     1</td><td style=\"text-align: right;\">         86.567 </td><td style=\"text-align: right;\">         0.8766</td></tr>\n",
       "<tr><td>train_model_c6df2_00045</td><td>TERMINATED</td><td>127.0.0.1:58859</td><td style=\"text-align: right;\">          32</td><td style=\"text-align: right;\">         0.5</td><td style=\"text-align: right;\">         0.5</td><td style=\"text-align: right;\">       64</td><td style=\"text-align: right;\">      128</td><td style=\"text-align: right;\">     1</td><td style=\"text-align: right;\">        263.845 </td><td style=\"text-align: right;\">         0.8521</td></tr>\n",
       "<tr><td>train_model_c6df2_00046</td><td>TERMINATED</td><td>127.0.0.1:58864</td><td style=\"text-align: right;\">          64</td><td style=\"text-align: right;\">         0.5</td><td style=\"text-align: right;\">         0.5</td><td style=\"text-align: right;\">       64</td><td style=\"text-align: right;\">      128</td><td style=\"text-align: right;\">     1</td><td style=\"text-align: right;\">        144.911 </td><td style=\"text-align: right;\">         0.8574</td></tr>\n",
       "<tr><td>train_model_c6df2_00047</td><td>TERMINATED</td><td>127.0.0.1:58860</td><td style=\"text-align: right;\">         128</td><td style=\"text-align: right;\">         0.5</td><td style=\"text-align: right;\">         0.5</td><td style=\"text-align: right;\">       64</td><td style=\"text-align: right;\">      128</td><td style=\"text-align: right;\">     1</td><td style=\"text-align: right;\">         83.8854</td><td style=\"text-align: right;\">         0.8601</td></tr>\n",
       "<tr><td>train_model_c6df2_00048</td><td>TERMINATED</td><td>127.0.0.1:58866</td><td style=\"text-align: right;\">          32</td><td style=\"text-align: right;\">         0.1</td><td style=\"text-align: right;\">         0.1</td><td style=\"text-align: right;\">      128</td><td style=\"text-align: right;\">      128</td><td style=\"text-align: right;\">     1</td><td style=\"text-align: right;\">        281.201 </td><td style=\"text-align: right;\">         0.8805</td></tr>\n",
       "<tr><td>train_model_c6df2_00049</td><td>TERMINATED</td><td>127.0.0.1:58863</td><td style=\"text-align: right;\">          64</td><td style=\"text-align: right;\">         0.1</td><td style=\"text-align: right;\">         0.1</td><td style=\"text-align: right;\">      128</td><td style=\"text-align: right;\">      128</td><td style=\"text-align: right;\">     1</td><td style=\"text-align: right;\">        170.961 </td><td style=\"text-align: right;\">         0.875 </td></tr>\n",
       "<tr><td>train_model_c6df2_00050</td><td>TERMINATED</td><td>127.0.0.1:58862</td><td style=\"text-align: right;\">         128</td><td style=\"text-align: right;\">         0.1</td><td style=\"text-align: right;\">         0.1</td><td style=\"text-align: right;\">      128</td><td style=\"text-align: right;\">      128</td><td style=\"text-align: right;\">     1</td><td style=\"text-align: right;\">        107.485 </td><td style=\"text-align: right;\">         0.8826</td></tr>\n",
       "<tr><td>train_model_c6df2_00051</td><td>TERMINATED</td><td>127.0.0.1:58860</td><td style=\"text-align: right;\">          32</td><td style=\"text-align: right;\">         0.5</td><td style=\"text-align: right;\">         0.1</td><td style=\"text-align: right;\">      128</td><td style=\"text-align: right;\">      128</td><td style=\"text-align: right;\">     1</td><td style=\"text-align: right;\">        306.206 </td><td style=\"text-align: right;\">         0.868 </td></tr>\n",
       "<tr><td>train_model_c6df2_00052</td><td>TERMINATED</td><td>127.0.0.1:58865</td><td style=\"text-align: right;\">          64</td><td style=\"text-align: right;\">         0.5</td><td style=\"text-align: right;\">         0.1</td><td style=\"text-align: right;\">      128</td><td style=\"text-align: right;\">      128</td><td style=\"text-align: right;\">     1</td><td style=\"text-align: right;\">        162.365 </td><td style=\"text-align: right;\">         0.868 </td></tr>\n",
       "<tr><td>train_model_c6df2_00053</td><td>TERMINATED</td><td>127.0.0.1:58864</td><td style=\"text-align: right;\">         128</td><td style=\"text-align: right;\">         0.5</td><td style=\"text-align: right;\">         0.1</td><td style=\"text-align: right;\">      128</td><td style=\"text-align: right;\">      128</td><td style=\"text-align: right;\">     1</td><td style=\"text-align: right;\">        148.81  </td><td style=\"text-align: right;\">         0.8779</td></tr>\n",
       "<tr><td>train_model_c6df2_00054</td><td>TERMINATED</td><td>127.0.0.1:58861</td><td style=\"text-align: right;\">          32</td><td style=\"text-align: right;\">         0.1</td><td style=\"text-align: right;\">         0.5</td><td style=\"text-align: right;\">      128</td><td style=\"text-align: right;\">      128</td><td style=\"text-align: right;\">     1</td><td style=\"text-align: right;\">        334.549 </td><td style=\"text-align: right;\">         0.8757</td></tr>\n",
       "<tr><td>train_model_c6df2_00055</td><td>TERMINATED</td><td>127.0.0.1:58862</td><td style=\"text-align: right;\">          64</td><td style=\"text-align: right;\">         0.1</td><td style=\"text-align: right;\">         0.5</td><td style=\"text-align: right;\">      128</td><td style=\"text-align: right;\">      128</td><td style=\"text-align: right;\">     1</td><td style=\"text-align: right;\">        149.523 </td><td style=\"text-align: right;\">         0.8783</td></tr>\n",
       "<tr><td>train_model_c6df2_00056</td><td>TERMINATED</td><td>127.0.0.1:58863</td><td style=\"text-align: right;\">         128</td><td style=\"text-align: right;\">         0.1</td><td style=\"text-align: right;\">         0.5</td><td style=\"text-align: right;\">      128</td><td style=\"text-align: right;\">      128</td><td style=\"text-align: right;\">     1</td><td style=\"text-align: right;\">         88.5144</td><td style=\"text-align: right;\">         0.8764</td></tr>\n",
       "<tr><td>train_model_c6df2_00057</td><td>TERMINATED</td><td>127.0.0.1:58859</td><td style=\"text-align: right;\">          32</td><td style=\"text-align: right;\">         0.5</td><td style=\"text-align: right;\">         0.5</td><td style=\"text-align: right;\">      128</td><td style=\"text-align: right;\">      128</td><td style=\"text-align: right;\">     1</td><td style=\"text-align: right;\">        396.98  </td><td style=\"text-align: right;\">         0.859 </td></tr>\n",
       "<tr><td>train_model_c6df2_00058</td><td>TERMINATED</td><td>127.0.0.1:58865</td><td style=\"text-align: right;\">          64</td><td style=\"text-align: right;\">         0.5</td><td style=\"text-align: right;\">         0.5</td><td style=\"text-align: right;\">      128</td><td style=\"text-align: right;\">      128</td><td style=\"text-align: right;\">     1</td><td style=\"text-align: right;\">        212.105 </td><td style=\"text-align: right;\">         0.8674</td></tr>\n",
       "<tr><td>train_model_c6df2_00059</td><td>TERMINATED</td><td>127.0.0.1:58863</td><td style=\"text-align: right;\">         128</td><td style=\"text-align: right;\">         0.5</td><td style=\"text-align: right;\">         0.5</td><td style=\"text-align: right;\">      128</td><td style=\"text-align: right;\">      128</td><td style=\"text-align: right;\">     1</td><td style=\"text-align: right;\">        121.185 </td><td style=\"text-align: right;\">         0.8662</td></tr>\n",
       "<tr><td>train_model_c6df2_00060</td><td>TERMINATED</td><td>127.0.0.1:58864</td><td style=\"text-align: right;\">          32</td><td style=\"text-align: right;\">         0.1</td><td style=\"text-align: right;\">         0.1</td><td style=\"text-align: right;\">      256</td><td style=\"text-align: right;\">      128</td><td style=\"text-align: right;\">     1</td><td style=\"text-align: right;\">        516.397 </td><td style=\"text-align: right;\">         0.8819</td></tr>\n",
       "<tr><td>train_model_c6df2_00061</td><td>TERMINATED</td><td>127.0.0.1:58866</td><td style=\"text-align: right;\">          64</td><td style=\"text-align: right;\">         0.1</td><td style=\"text-align: right;\">         0.1</td><td style=\"text-align: right;\">      256</td><td style=\"text-align: right;\">      128</td><td style=\"text-align: right;\">     1</td><td style=\"text-align: right;\">        278.089 </td><td style=\"text-align: right;\">         0.8818</td></tr>\n",
       "<tr><td>train_model_c6df2_00062</td><td>TERMINATED</td><td>127.0.0.1:58862</td><td style=\"text-align: right;\">         128</td><td style=\"text-align: right;\">         0.1</td><td style=\"text-align: right;\">         0.1</td><td style=\"text-align: right;\">      256</td><td style=\"text-align: right;\">      128</td><td style=\"text-align: right;\">     1</td><td style=\"text-align: right;\">        144.886 </td><td style=\"text-align: right;\">         0.8829</td></tr>\n",
       "<tr><td>train_model_c6df2_00063</td><td>TERMINATED</td><td>127.0.0.1:58860</td><td style=\"text-align: right;\">          32</td><td style=\"text-align: right;\">         0.5</td><td style=\"text-align: right;\">         0.1</td><td style=\"text-align: right;\">      256</td><td style=\"text-align: right;\">      128</td><td style=\"text-align: right;\">     1</td><td style=\"text-align: right;\">        543.079 </td><td style=\"text-align: right;\">         0.8758</td></tr>\n",
       "<tr><td>train_model_c6df2_00064</td><td>TERMINATED</td><td>127.0.0.1:58863</td><td style=\"text-align: right;\">          64</td><td style=\"text-align: right;\">         0.5</td><td style=\"text-align: right;\">         0.1</td><td style=\"text-align: right;\">      256</td><td style=\"text-align: right;\">      128</td><td style=\"text-align: right;\">     1</td><td style=\"text-align: right;\">        322.518 </td><td style=\"text-align: right;\">         0.8801</td></tr>\n",
       "<tr><td>train_model_c6df2_00065</td><td>TERMINATED</td><td>127.0.0.1:58862</td><td style=\"text-align: right;\">         128</td><td style=\"text-align: right;\">         0.5</td><td style=\"text-align: right;\">         0.1</td><td style=\"text-align: right;\">      256</td><td style=\"text-align: right;\">      128</td><td style=\"text-align: right;\">     1</td><td style=\"text-align: right;\">        197.696 </td><td style=\"text-align: right;\">         0.8727</td></tr>\n",
       "<tr><td>train_model_c6df2_00066</td><td>TERMINATED</td><td>127.0.0.1:58865</td><td style=\"text-align: right;\">          32</td><td style=\"text-align: right;\">         0.1</td><td style=\"text-align: right;\">         0.5</td><td style=\"text-align: right;\">      256</td><td style=\"text-align: right;\">      128</td><td style=\"text-align: right;\">     1</td><td style=\"text-align: right;\">        535.647 </td><td style=\"text-align: right;\">         0.8825</td></tr>\n",
       "<tr><td>train_model_c6df2_00067</td><td>TERMINATED</td><td>127.0.0.1:58861</td><td style=\"text-align: right;\">          64</td><td style=\"text-align: right;\">         0.1</td><td style=\"text-align: right;\">         0.5</td><td style=\"text-align: right;\">      256</td><td style=\"text-align: right;\">      128</td><td style=\"text-align: right;\">     1</td><td style=\"text-align: right;\">        329.225 </td><td style=\"text-align: right;\">         0.8781</td></tr>\n",
       "<tr><td>train_model_c6df2_00068</td><td>TERMINATED</td><td>127.0.0.1:58866</td><td style=\"text-align: right;\">         128</td><td style=\"text-align: right;\">         0.1</td><td style=\"text-align: right;\">         0.5</td><td style=\"text-align: right;\">      256</td><td style=\"text-align: right;\">      128</td><td style=\"text-align: right;\">     1</td><td style=\"text-align: right;\">        196.955 </td><td style=\"text-align: right;\">         0.8815</td></tr>\n",
       "<tr><td>train_model_c6df2_00069</td><td>TERMINATED</td><td>127.0.0.1:58859</td><td style=\"text-align: right;\">          32</td><td style=\"text-align: right;\">         0.5</td><td style=\"text-align: right;\">         0.5</td><td style=\"text-align: right;\">      256</td><td style=\"text-align: right;\">      128</td><td style=\"text-align: right;\">     1</td><td style=\"text-align: right;\">        505.923 </td><td style=\"text-align: right;\">         0.8687</td></tr>\n",
       "<tr><td>train_model_c6df2_00070</td><td>TERMINATED</td><td>127.0.0.1:58862</td><td style=\"text-align: right;\">          64</td><td style=\"text-align: right;\">         0.5</td><td style=\"text-align: right;\">         0.5</td><td style=\"text-align: right;\">      256</td><td style=\"text-align: right;\">      128</td><td style=\"text-align: right;\">     1</td><td style=\"text-align: right;\">        305.523 </td><td style=\"text-align: right;\">         0.8752</td></tr>\n",
       "<tr><td>train_model_c6df2_00071</td><td>TERMINATED</td><td>127.0.0.1:58863</td><td style=\"text-align: right;\">         128</td><td style=\"text-align: right;\">         0.5</td><td style=\"text-align: right;\">         0.5</td><td style=\"text-align: right;\">      256</td><td style=\"text-align: right;\">      128</td><td style=\"text-align: right;\">     1</td><td style=\"text-align: right;\">        173.436 </td><td style=\"text-align: right;\">         0.8767</td></tr>\n",
       "<tr><td>train_model_c6df2_00072</td><td>TERMINATED</td><td>127.0.0.1:58866</td><td style=\"text-align: right;\">          32</td><td style=\"text-align: right;\">         0.1</td><td style=\"text-align: right;\">         0.1</td><td style=\"text-align: right;\">       64</td><td style=\"text-align: right;\">      256</td><td style=\"text-align: right;\">     1</td><td style=\"text-align: right;\">        402.447 </td><td style=\"text-align: right;\">         0.8723</td></tr>\n",
       "<tr><td>train_model_c6df2_00073</td><td>TERMINATED</td><td>127.0.0.1:58864</td><td style=\"text-align: right;\">          64</td><td style=\"text-align: right;\">         0.1</td><td style=\"text-align: right;\">         0.1</td><td style=\"text-align: right;\">       64</td><td style=\"text-align: right;\">      256</td><td style=\"text-align: right;\">     1</td><td style=\"text-align: right;\">        231.524 </td><td style=\"text-align: right;\">         0.8707</td></tr>\n",
       "<tr><td>train_model_c6df2_00074</td><td>TERMINATED</td><td>127.0.0.1:58861</td><td style=\"text-align: right;\">         128</td><td style=\"text-align: right;\">         0.1</td><td style=\"text-align: right;\">         0.1</td><td style=\"text-align: right;\">       64</td><td style=\"text-align: right;\">      256</td><td style=\"text-align: right;\">     1</td><td style=\"text-align: right;\">        142.096 </td><td style=\"text-align: right;\">         0.8801</td></tr>\n",
       "<tr><td>train_model_c6df2_00075</td><td>TERMINATED</td><td>127.0.0.1:58863</td><td style=\"text-align: right;\">          32</td><td style=\"text-align: right;\">         0.5</td><td style=\"text-align: right;\">         0.1</td><td style=\"text-align: right;\">       64</td><td style=\"text-align: right;\">      256</td><td style=\"text-align: right;\">     1</td><td style=\"text-align: right;\">        365.934 </td><td style=\"text-align: right;\">         0.858 </td></tr>\n",
       "<tr><td>train_model_c6df2_00076</td><td>TERMINATED</td><td>127.0.0.1:58860</td><td style=\"text-align: right;\">          64</td><td style=\"text-align: right;\">         0.5</td><td style=\"text-align: right;\">         0.1</td><td style=\"text-align: right;\">       64</td><td style=\"text-align: right;\">      256</td><td style=\"text-align: right;\">     1</td><td style=\"text-align: right;\">        212.221 </td><td style=\"text-align: right;\">         0.8355</td></tr>\n",
       "<tr><td>train_model_c6df2_00077</td><td>TERMINATED</td><td>127.0.0.1:58862</td><td style=\"text-align: right;\">         128</td><td style=\"text-align: right;\">         0.5</td><td style=\"text-align: right;\">         0.1</td><td style=\"text-align: right;\">       64</td><td style=\"text-align: right;\">      256</td><td style=\"text-align: right;\">     1</td><td style=\"text-align: right;\">        132.048 </td><td style=\"text-align: right;\">         0.8347</td></tr>\n",
       "<tr><td>train_model_c6df2_00078</td><td>TERMINATED</td><td>127.0.0.1:58861</td><td style=\"text-align: right;\">          32</td><td style=\"text-align: right;\">         0.1</td><td style=\"text-align: right;\">         0.5</td><td style=\"text-align: right;\">       64</td><td style=\"text-align: right;\">      256</td><td style=\"text-align: right;\">     1</td><td style=\"text-align: right;\">        372.128 </td><td style=\"text-align: right;\">         0.8728</td></tr>\n",
       "<tr><td>train_model_c6df2_00079</td><td>TERMINATED</td><td>127.0.0.1:58865</td><td style=\"text-align: right;\">          64</td><td style=\"text-align: right;\">         0.1</td><td style=\"text-align: right;\">         0.5</td><td style=\"text-align: right;\">       64</td><td style=\"text-align: right;\">      256</td><td style=\"text-align: right;\">     1</td><td style=\"text-align: right;\">        216.546 </td><td style=\"text-align: right;\">         0.874 </td></tr>\n",
       "<tr><td>train_model_c6df2_00080</td><td>TERMINATED</td><td>127.0.0.1:58864</td><td style=\"text-align: right;\">         128</td><td style=\"text-align: right;\">         0.1</td><td style=\"text-align: right;\">         0.5</td><td style=\"text-align: right;\">       64</td><td style=\"text-align: right;\">      256</td><td style=\"text-align: right;\">     1</td><td style=\"text-align: right;\">        127.148 </td><td style=\"text-align: right;\">         0.8725</td></tr>\n",
       "<tr><td>train_model_c6df2_00081</td><td>TERMINATED</td><td>127.0.0.1:58862</td><td style=\"text-align: right;\">          32</td><td style=\"text-align: right;\">         0.5</td><td style=\"text-align: right;\">         0.5</td><td style=\"text-align: right;\">       64</td><td style=\"text-align: right;\">      256</td><td style=\"text-align: right;\">     1</td><td style=\"text-align: right;\">        361.227 </td><td style=\"text-align: right;\">         0.8556</td></tr>\n",
       "<tr><td>train_model_c6df2_00082</td><td>TERMINATED</td><td>127.0.0.1:58859</td><td style=\"text-align: right;\">          64</td><td style=\"text-align: right;\">         0.5</td><td style=\"text-align: right;\">         0.5</td><td style=\"text-align: right;\">       64</td><td style=\"text-align: right;\">      256</td><td style=\"text-align: right;\">     1</td><td style=\"text-align: right;\">        195.131 </td><td style=\"text-align: right;\">         0.8614</td></tr>\n",
       "<tr><td>train_model_c6df2_00083</td><td>TERMINATED</td><td>127.0.0.1:58860</td><td style=\"text-align: right;\">         128</td><td style=\"text-align: right;\">         0.5</td><td style=\"text-align: right;\">         0.5</td><td style=\"text-align: right;\">       64</td><td style=\"text-align: right;\">      256</td><td style=\"text-align: right;\">     1</td><td style=\"text-align: right;\">        120.122 </td><td style=\"text-align: right;\">         0.8618</td></tr>\n",
       "<tr><td>train_model_c6df2_00084</td><td>TERMINATED</td><td>127.0.0.1:58864</td><td style=\"text-align: right;\">          32</td><td style=\"text-align: right;\">         0.1</td><td style=\"text-align: right;\">         0.1</td><td style=\"text-align: right;\">      128</td><td style=\"text-align: right;\">      256</td><td style=\"text-align: right;\">     1</td><td style=\"text-align: right;\">        410.455 </td><td style=\"text-align: right;\">         0.8837</td></tr>\n",
       "<tr><td>train_model_c6df2_00085</td><td>TERMINATED</td><td>127.0.0.1:58866</td><td style=\"text-align: right;\">          64</td><td style=\"text-align: right;\">         0.1</td><td style=\"text-align: right;\">         0.1</td><td style=\"text-align: right;\">      128</td><td style=\"text-align: right;\">      256</td><td style=\"text-align: right;\">     1</td><td style=\"text-align: right;\">        220.962 </td><td style=\"text-align: right;\">         0.8764</td></tr>\n",
       "<tr><td>train_model_c6df2_00086</td><td>TERMINATED</td><td>127.0.0.1:58865</td><td style=\"text-align: right;\">         128</td><td style=\"text-align: right;\">         0.1</td><td style=\"text-align: right;\">         0.1</td><td style=\"text-align: right;\">      128</td><td style=\"text-align: right;\">      256</td><td style=\"text-align: right;\">     1</td><td style=\"text-align: right;\">        132.063 </td><td style=\"text-align: right;\">         0.8822</td></tr>\n",
       "<tr><td>train_model_c6df2_00087</td><td>TERMINATED</td><td>127.0.0.1:58863</td><td style=\"text-align: right;\">          32</td><td style=\"text-align: right;\">         0.5</td><td style=\"text-align: right;\">         0.1</td><td style=\"text-align: right;\">      128</td><td style=\"text-align: right;\">      256</td><td style=\"text-align: right;\">     1</td><td style=\"text-align: right;\">        429.236 </td><td style=\"text-align: right;\">         0.8719</td></tr>\n",
       "<tr><td>train_model_c6df2_00088</td><td>TERMINATED</td><td>127.0.0.1:58860</td><td style=\"text-align: right;\">          64</td><td style=\"text-align: right;\">         0.5</td><td style=\"text-align: right;\">         0.1</td><td style=\"text-align: right;\">      128</td><td style=\"text-align: right;\">      256</td><td style=\"text-align: right;\">     1</td><td style=\"text-align: right;\">        232.087 </td><td style=\"text-align: right;\">         0.8652</td></tr>\n",
       "<tr><td>train_model_c6df2_00089</td><td>TERMINATED</td><td>127.0.0.1:58859</td><td style=\"text-align: right;\">         128</td><td style=\"text-align: right;\">         0.5</td><td style=\"text-align: right;\">         0.1</td><td style=\"text-align: right;\">      128</td><td style=\"text-align: right;\">      256</td><td style=\"text-align: right;\">     1</td><td style=\"text-align: right;\">        133.432 </td><td style=\"text-align: right;\">         0.8689</td></tr>\n",
       "<tr><td>train_model_c6df2_00090</td><td>TERMINATED</td><td>127.0.0.1:58861</td><td style=\"text-align: right;\">          32</td><td style=\"text-align: right;\">         0.1</td><td style=\"text-align: right;\">         0.5</td><td style=\"text-align: right;\">      128</td><td style=\"text-align: right;\">      256</td><td style=\"text-align: right;\">     1</td><td style=\"text-align: right;\">        454.441 </td><td style=\"text-align: right;\">         0.8771</td></tr>\n",
       "<tr><td>train_model_c6df2_00091</td><td>TERMINATED</td><td>127.0.0.1:58865</td><td style=\"text-align: right;\">          64</td><td style=\"text-align: right;\">         0.1</td><td style=\"text-align: right;\">         0.5</td><td style=\"text-align: right;\">      128</td><td style=\"text-align: right;\">      256</td><td style=\"text-align: right;\">     1</td><td style=\"text-align: right;\">        250.463 </td><td style=\"text-align: right;\">         0.8744</td></tr>\n",
       "<tr><td>train_model_c6df2_00092</td><td>TERMINATED</td><td>127.0.0.1:58866</td><td style=\"text-align: right;\">         128</td><td style=\"text-align: right;\">         0.1</td><td style=\"text-align: right;\">         0.5</td><td style=\"text-align: right;\">      128</td><td style=\"text-align: right;\">      256</td><td style=\"text-align: right;\">     1</td><td style=\"text-align: right;\">        156.203 </td><td style=\"text-align: right;\">         0.8768</td></tr>\n",
       "<tr><td>train_model_c6df2_00093</td><td>TERMINATED</td><td>127.0.0.1:58862</td><td style=\"text-align: right;\">          32</td><td style=\"text-align: right;\">         0.5</td><td style=\"text-align: right;\">         0.5</td><td style=\"text-align: right;\">      128</td><td style=\"text-align: right;\">      256</td><td style=\"text-align: right;\">     1</td><td style=\"text-align: right;\">        459.72  </td><td style=\"text-align: right;\">         0.8683</td></tr>\n",
       "<tr><td>train_model_c6df2_00094</td><td>TERMINATED</td><td>127.0.0.1:58859</td><td style=\"text-align: right;\">          64</td><td style=\"text-align: right;\">         0.5</td><td style=\"text-align: right;\">         0.5</td><td style=\"text-align: right;\">      128</td><td style=\"text-align: right;\">      256</td><td style=\"text-align: right;\">     1</td><td style=\"text-align: right;\">        250.666 </td><td style=\"text-align: right;\">         0.8684</td></tr>\n",
       "<tr><td>train_model_c6df2_00095</td><td>TERMINATED</td><td>127.0.0.1:58860</td><td style=\"text-align: right;\">         128</td><td style=\"text-align: right;\">         0.5</td><td style=\"text-align: right;\">         0.5</td><td style=\"text-align: right;\">      128</td><td style=\"text-align: right;\">      256</td><td style=\"text-align: right;\">     1</td><td style=\"text-align: right;\">        146.296 </td><td style=\"text-align: right;\">         0.8719</td></tr>\n",
       "<tr><td>train_model_c6df2_00096</td><td>TERMINATED</td><td>127.0.0.1:58866</td><td style=\"text-align: right;\">          32</td><td style=\"text-align: right;\">         0.1</td><td style=\"text-align: right;\">         0.1</td><td style=\"text-align: right;\">      256</td><td style=\"text-align: right;\">      256</td><td style=\"text-align: right;\">     1</td><td style=\"text-align: right;\">        564.085 </td><td style=\"text-align: right;\">         0.8743</td></tr>\n",
       "<tr><td>train_model_c6df2_00097</td><td>TERMINATED</td><td>127.0.0.1:58864</td><td style=\"text-align: right;\">          64</td><td style=\"text-align: right;\">         0.1</td><td style=\"text-align: right;\">         0.1</td><td style=\"text-align: right;\">      256</td><td style=\"text-align: right;\">      256</td><td style=\"text-align: right;\">     1</td><td style=\"text-align: right;\">        314.625 </td><td style=\"text-align: right;\">         0.8868</td></tr>\n",
       "<tr><td>train_model_c6df2_00098</td><td>TERMINATED</td><td>127.0.0.1:58865</td><td style=\"text-align: right;\">         128</td><td style=\"text-align: right;\">         0.1</td><td style=\"text-align: right;\">         0.1</td><td style=\"text-align: right;\">      256</td><td style=\"text-align: right;\">      256</td><td style=\"text-align: right;\">     1</td><td style=\"text-align: right;\">        176.067 </td><td style=\"text-align: right;\">         0.8816</td></tr>\n",
       "<tr><td>train_model_c6df2_00099</td><td>TERMINATED</td><td>127.0.0.1:58860</td><td style=\"text-align: right;\">          32</td><td style=\"text-align: right;\">         0.5</td><td style=\"text-align: right;\">         0.1</td><td style=\"text-align: right;\">      256</td><td style=\"text-align: right;\">      256</td><td style=\"text-align: right;\">     1</td><td style=\"text-align: right;\">        509.975 </td><td style=\"text-align: right;\">         0.8755</td></tr>\n",
       "<tr><td>train_model_c6df2_00100</td><td>TERMINATED</td><td>127.0.0.1:58863</td><td style=\"text-align: right;\">          64</td><td style=\"text-align: right;\">         0.5</td><td style=\"text-align: right;\">         0.1</td><td style=\"text-align: right;\">      256</td><td style=\"text-align: right;\">      256</td><td style=\"text-align: right;\">     1</td><td style=\"text-align: right;\">        321.822 </td><td style=\"text-align: right;\">         0.8755</td></tr>\n",
       "<tr><td>train_model_c6df2_00101</td><td>TERMINATED</td><td>127.0.0.1:58859</td><td style=\"text-align: right;\">         128</td><td style=\"text-align: right;\">         0.5</td><td style=\"text-align: right;\">         0.1</td><td style=\"text-align: right;\">      256</td><td style=\"text-align: right;\">      256</td><td style=\"text-align: right;\">     1</td><td style=\"text-align: right;\">        163.024 </td><td style=\"text-align: right;\">         0.8826</td></tr>\n",
       "<tr><td>train_model_c6df2_00102</td><td>TERMINATED</td><td>127.0.0.1:58861</td><td style=\"text-align: right;\">          32</td><td style=\"text-align: right;\">         0.1</td><td style=\"text-align: right;\">         0.5</td><td style=\"text-align: right;\">      256</td><td style=\"text-align: right;\">      256</td><td style=\"text-align: right;\">     1</td><td style=\"text-align: right;\">        421.174 </td><td style=\"text-align: right;\">         0.8821</td></tr>\n",
       "<tr><td>train_model_c6df2_00103</td><td>TERMINATED</td><td>127.0.0.1:58865</td><td style=\"text-align: right;\">          64</td><td style=\"text-align: right;\">         0.1</td><td style=\"text-align: right;\">         0.5</td><td style=\"text-align: right;\">      256</td><td style=\"text-align: right;\">      256</td><td style=\"text-align: right;\">     1</td><td style=\"text-align: right;\">        324.098 </td><td style=\"text-align: right;\">         0.8785</td></tr>\n",
       "<tr><td>train_model_c6df2_00104</td><td>TERMINATED</td><td>127.0.0.1:58859</td><td style=\"text-align: right;\">         128</td><td style=\"text-align: right;\">         0.1</td><td style=\"text-align: right;\">         0.5</td><td style=\"text-align: right;\">      256</td><td style=\"text-align: right;\">      256</td><td style=\"text-align: right;\">     1</td><td style=\"text-align: right;\">        182.001 </td><td style=\"text-align: right;\">         0.8793</td></tr>\n",
       "<tr><td>train_model_c6df2_00105</td><td>TERMINATED</td><td>127.0.0.1:58864</td><td style=\"text-align: right;\">          32</td><td style=\"text-align: right;\">         0.5</td><td style=\"text-align: right;\">         0.5</td><td style=\"text-align: right;\">      256</td><td style=\"text-align: right;\">      256</td><td style=\"text-align: right;\">     1</td><td style=\"text-align: right;\">        347.859 </td><td style=\"text-align: right;\">         0.872 </td></tr>\n",
       "<tr><td>train_model_c6df2_00106</td><td>TERMINATED</td><td>127.0.0.1:58862</td><td style=\"text-align: right;\">          64</td><td style=\"text-align: right;\">         0.5</td><td style=\"text-align: right;\">         0.5</td><td style=\"text-align: right;\">      256</td><td style=\"text-align: right;\">      256</td><td style=\"text-align: right;\">     1</td><td style=\"text-align: right;\">        284.906 </td><td style=\"text-align: right;\">         0.8741</td></tr>\n",
       "<tr><td>train_model_c6df2_00107</td><td>TERMINATED</td><td>127.0.0.1:58863</td><td style=\"text-align: right;\">         128</td><td style=\"text-align: right;\">         0.5</td><td style=\"text-align: right;\">         0.5</td><td style=\"text-align: right;\">      256</td><td style=\"text-align: right;\">      256</td><td style=\"text-align: right;\">     1</td><td style=\"text-align: right;\">        167.127 </td><td style=\"text-align: right;\">         0.8691</td></tr>\n",
       "</tbody>\n",
       "</table>\n",
       "  </div>\n",
       "</div>\n",
       "<style>\n",
       ".tuneStatus {\n",
       "  color: var(--jp-ui-font-color1);\n",
       "}\n",
       ".tuneStatus .systemInfo {\n",
       "  display: flex;\n",
       "  flex-direction: column;\n",
       "}\n",
       ".tuneStatus td {\n",
       "  white-space: nowrap;\n",
       "}\n",
       ".tuneStatus .trialStatus {\n",
       "  display: flex;\n",
       "  flex-direction: column;\n",
       "}\n",
       ".tuneStatus h3 {\n",
       "  font-weight: bold;\n",
       "}\n",
       ".tuneStatus .hDivider {\n",
       "  border-bottom-width: var(--jp-border-width);\n",
       "  border-bottom-color: var(--jp-border-color0);\n",
       "  border-bottom-style: solid;\n",
       "}\n",
       ".tuneStatus .vDivider {\n",
       "  border-left-width: var(--jp-border-width);\n",
       "  border-left-color: var(--jp-border-color0);\n",
       "  border-left-style: solid;\n",
       "  margin: 0.5em 1em 0.5em 1em;\n",
       "}\n",
       "</style>\n"
      ],
      "text/plain": [
       "<IPython.core.display.HTML object>"
      ]
     },
     "metadata": {},
     "output_type": "display_data"
    },
    {
     "name": "stderr",
     "output_type": "stream",
     "text": [
      "\u001b[33m(raylet)\u001b[0m [2024-02-23 11:30:04,336 E 58843 531688] (raylet) file_system_monitor.cc:111: /tmp/ray/session_2024-02-23_11-29-52_330678_58831 is over 95% full, available space: 10911334400; capacity: 245107195904. Object creation will fail if spilling is required.\n",
      "\u001b[36m(train_model pid=58860)\u001b[0m 2024-02-23 11:30:05.627844: W tensorflow/tsl/platform/profile_utils/cpu_utils.cc:128] Failed to get CPU frequency: 0 Hz\n",
      "\u001b[33m(raylet)\u001b[0m [2024-02-23 11:30:14,352 E 58843 531688] (raylet) file_system_monitor.cc:111: /tmp/ray/session_2024-02-23_11-29-52_330678_58831 is over 95% full, available space: 9838391296; capacity: 245107195904. Object creation will fail if spilling is required.\n",
      "\u001b[36m(train_model pid=58859)\u001b[0m 2024-02-23 11:30:06.072127: W tensorflow/tsl/platform/profile_utils/cpu_utils.cc:128] Failed to get CPU frequency: 0 Hz\u001b[32m [repeated 7x across cluster] (Ray deduplicates logs by default. Set RAY_DEDUP_LOGS=0 to disable log deduplication, or see https://docs.ray.io/en/master/ray-observability/ray-logging.html#log-deduplication for more options.)\u001b[0m\n",
      "\u001b[33m(raylet)\u001b[0m [2024-02-23 11:30:24,393 E 58843 531688] (raylet) file_system_monitor.cc:111: /tmp/ray/session_2024-02-23_11-29-52_330678_58831 is over 95% full, available space: 9837203456; capacity: 245107195904. Object creation will fail if spilling is required.\n",
      "\u001b[33m(raylet)\u001b[0m [2024-02-23 11:30:34,399 E 58843 531688] (raylet) file_system_monitor.cc:111: /tmp/ray/session_2024-02-23_11-29-52_330678_58831 is over 95% full, available space: 9827475456; capacity: 245107195904. Object creation will fail if spilling is required.\n",
      "\u001b[33m(raylet)\u001b[0m [2024-02-23 11:30:44,424 E 58843 531688] (raylet) file_system_monitor.cc:111: /tmp/ray/session_2024-02-23_11-29-52_330678_58831 is over 95% full, available space: 9825542144; capacity: 245107195904. Object creation will fail if spilling is required.\n",
      "\u001b[33m(raylet)\u001b[0m [2024-02-23 11:30:54,520 E 58843 531688] (raylet) file_system_monitor.cc:111: /tmp/ray/session_2024-02-23_11-29-52_330678_58831 is over 95% full, available space: 9820147712; capacity: 245107195904. Object creation will fail if spilling is required.\n",
      "\u001b[33m(raylet)\u001b[0m [2024-02-23 11:31:04,619 E 58843 531688] (raylet) file_system_monitor.cc:111: /tmp/ray/session_2024-02-23_11-29-52_330678_58831 is over 95% full, available space: 9819598848; capacity: 245107195904. Object creation will fail if spilling is required.\n"
     ]
    },
    {
     "name": "stdout",
     "output_type": "stream",
     "text": [
      " 46/313 [===>..........................] - ETA: 0s - loss: 0.3823 - accuracy: 0.8716 \n",
      "101/313 [========>.....................] - ETA: 0s - loss: 0.3801 - accuracy: 0.8741\n",
      "113/313 [=========>....................] - ETA: 0s - loss: 0.3908 - accuracy: 0.8692\n",
      "167/313 [===============>..............] - ETA: 0s - loss: 0.4020 - accuracy: 0.8662\n",
      "223/313 [====================>.........] - ETA: 0s - loss: 0.3975 - accuracy: 0.8691\n",
      " 39/313 [==>...........................] - ETA: 0s - loss: 0.3835 - accuracy: 0.8598\n",
      "243/313 [======================>.......] - ETA: 0s - loss: 0.3884 - accuracy: 0.8723\n"
     ]
    },
    {
     "data": {
      "text/html": [
       "<div class=\"trialProgress\">\n",
       "  <h3>Trial Progress</h3>\n",
       "  <table>\n",
       "<thead>\n",
       "<tr><th>Trial name             </th><th style=\"text-align: right;\">  test_accuracy</th></tr>\n",
       "</thead>\n",
       "<tbody>\n",
       "<tr><td>train_model_c6df2_00000</td><td style=\"text-align: right;\">         0.8735</td></tr>\n",
       "<tr><td>train_model_c6df2_00001</td><td style=\"text-align: right;\">         0.8764</td></tr>\n",
       "<tr><td>train_model_c6df2_00002</td><td style=\"text-align: right;\">         0.8707</td></tr>\n",
       "<tr><td>train_model_c6df2_00003</td><td style=\"text-align: right;\">         0.855 </td></tr>\n",
       "<tr><td>train_model_c6df2_00004</td><td style=\"text-align: right;\">         0.8574</td></tr>\n",
       "<tr><td>train_model_c6df2_00005</td><td style=\"text-align: right;\">         0.8594</td></tr>\n",
       "<tr><td>train_model_c6df2_00006</td><td style=\"text-align: right;\">         0.869 </td></tr>\n",
       "<tr><td>train_model_c6df2_00007</td><td style=\"text-align: right;\">         0.8717</td></tr>\n",
       "<tr><td>train_model_c6df2_00008</td><td style=\"text-align: right;\">         0.8628</td></tr>\n",
       "<tr><td>train_model_c6df2_00009</td><td style=\"text-align: right;\">         0.8416</td></tr>\n",
       "<tr><td>train_model_c6df2_00010</td><td style=\"text-align: right;\">         0.8572</td></tr>\n",
       "<tr><td>train_model_c6df2_00011</td><td style=\"text-align: right;\">         0.8524</td></tr>\n",
       "<tr><td>train_model_c6df2_00012</td><td style=\"text-align: right;\">         0.8784</td></tr>\n",
       "<tr><td>train_model_c6df2_00013</td><td style=\"text-align: right;\">         0.8563</td></tr>\n",
       "<tr><td>train_model_c6df2_00014</td><td style=\"text-align: right;\">         0.8759</td></tr>\n",
       "<tr><td>train_model_c6df2_00015</td><td style=\"text-align: right;\">         0.8682</td></tr>\n",
       "<tr><td>train_model_c6df2_00016</td><td style=\"text-align: right;\">         0.8718</td></tr>\n",
       "<tr><td>train_model_c6df2_00017</td><td style=\"text-align: right;\">         0.8725</td></tr>\n",
       "<tr><td>train_model_c6df2_00018</td><td style=\"text-align: right;\">         0.8749</td></tr>\n",
       "<tr><td>train_model_c6df2_00019</td><td style=\"text-align: right;\">         0.8764</td></tr>\n",
       "<tr><td>train_model_c6df2_00020</td><td style=\"text-align: right;\">         0.8774</td></tr>\n",
       "<tr><td>train_model_c6df2_00021</td><td style=\"text-align: right;\">         0.8576</td></tr>\n",
       "<tr><td>train_model_c6df2_00022</td><td style=\"text-align: right;\">         0.8633</td></tr>\n",
       "<tr><td>train_model_c6df2_00023</td><td style=\"text-align: right;\">         0.8696</td></tr>\n",
       "<tr><td>train_model_c6df2_00024</td><td style=\"text-align: right;\">         0.8791</td></tr>\n",
       "<tr><td>train_model_c6df2_00025</td><td style=\"text-align: right;\">         0.8755</td></tr>\n",
       "<tr><td>train_model_c6df2_00026</td><td style=\"text-align: right;\">         0.8723</td></tr>\n",
       "<tr><td>train_model_c6df2_00027</td><td style=\"text-align: right;\">         0.8699</td></tr>\n",
       "<tr><td>train_model_c6df2_00028</td><td style=\"text-align: right;\">         0.8662</td></tr>\n",
       "<tr><td>train_model_c6df2_00029</td><td style=\"text-align: right;\">         0.8717</td></tr>\n",
       "<tr><td>train_model_c6df2_00030</td><td style=\"text-align: right;\">         0.8754</td></tr>\n",
       "<tr><td>train_model_c6df2_00031</td><td style=\"text-align: right;\">         0.8757</td></tr>\n",
       "<tr><td>train_model_c6df2_00032</td><td style=\"text-align: right;\">         0.8751</td></tr>\n",
       "<tr><td>train_model_c6df2_00033</td><td style=\"text-align: right;\">         0.8685</td></tr>\n",
       "<tr><td>train_model_c6df2_00034</td><td style=\"text-align: right;\">         0.8738</td></tr>\n",
       "<tr><td>train_model_c6df2_00035</td><td style=\"text-align: right;\">         0.8768</td></tr>\n",
       "<tr><td>train_model_c6df2_00036</td><td style=\"text-align: right;\">         0.8711</td></tr>\n",
       "<tr><td>train_model_c6df2_00037</td><td style=\"text-align: right;\">         0.8789</td></tr>\n",
       "<tr><td>train_model_c6df2_00038</td><td style=\"text-align: right;\">         0.8845</td></tr>\n",
       "<tr><td>train_model_c6df2_00039</td><td style=\"text-align: right;\">         0.8594</td></tr>\n",
       "<tr><td>train_model_c6df2_00040</td><td style=\"text-align: right;\">         0.8656</td></tr>\n",
       "<tr><td>train_model_c6df2_00041</td><td style=\"text-align: right;\">         0.8615</td></tr>\n",
       "<tr><td>train_model_c6df2_00042</td><td style=\"text-align: right;\">         0.8629</td></tr>\n",
       "<tr><td>train_model_c6df2_00043</td><td style=\"text-align: right;\">         0.8687</td></tr>\n",
       "<tr><td>train_model_c6df2_00044</td><td style=\"text-align: right;\">         0.8766</td></tr>\n",
       "<tr><td>train_model_c6df2_00045</td><td style=\"text-align: right;\">         0.8521</td></tr>\n",
       "<tr><td>train_model_c6df2_00046</td><td style=\"text-align: right;\">         0.8574</td></tr>\n",
       "<tr><td>train_model_c6df2_00047</td><td style=\"text-align: right;\">         0.8601</td></tr>\n",
       "<tr><td>train_model_c6df2_00048</td><td style=\"text-align: right;\">         0.8805</td></tr>\n",
       "<tr><td>train_model_c6df2_00049</td><td style=\"text-align: right;\">         0.875 </td></tr>\n",
       "<tr><td>train_model_c6df2_00050</td><td style=\"text-align: right;\">         0.8826</td></tr>\n",
       "<tr><td>train_model_c6df2_00051</td><td style=\"text-align: right;\">         0.868 </td></tr>\n",
       "<tr><td>train_model_c6df2_00052</td><td style=\"text-align: right;\">         0.868 </td></tr>\n",
       "<tr><td>train_model_c6df2_00053</td><td style=\"text-align: right;\">         0.8779</td></tr>\n",
       "<tr><td>train_model_c6df2_00054</td><td style=\"text-align: right;\">         0.8757</td></tr>\n",
       "<tr><td>train_model_c6df2_00055</td><td style=\"text-align: right;\">         0.8783</td></tr>\n",
       "<tr><td>train_model_c6df2_00056</td><td style=\"text-align: right;\">         0.8764</td></tr>\n",
       "<tr><td>train_model_c6df2_00057</td><td style=\"text-align: right;\">         0.859 </td></tr>\n",
       "<tr><td>train_model_c6df2_00058</td><td style=\"text-align: right;\">         0.8674</td></tr>\n",
       "<tr><td>train_model_c6df2_00059</td><td style=\"text-align: right;\">         0.8662</td></tr>\n",
       "<tr><td>train_model_c6df2_00060</td><td style=\"text-align: right;\">         0.8819</td></tr>\n",
       "<tr><td>train_model_c6df2_00061</td><td style=\"text-align: right;\">         0.8818</td></tr>\n",
       "<tr><td>train_model_c6df2_00062</td><td style=\"text-align: right;\">         0.8829</td></tr>\n",
       "<tr><td>train_model_c6df2_00063</td><td style=\"text-align: right;\">         0.8758</td></tr>\n",
       "<tr><td>train_model_c6df2_00064</td><td style=\"text-align: right;\">         0.8801</td></tr>\n",
       "<tr><td>train_model_c6df2_00065</td><td style=\"text-align: right;\">         0.8727</td></tr>\n",
       "<tr><td>train_model_c6df2_00066</td><td style=\"text-align: right;\">         0.8825</td></tr>\n",
       "<tr><td>train_model_c6df2_00067</td><td style=\"text-align: right;\">         0.8781</td></tr>\n",
       "<tr><td>train_model_c6df2_00068</td><td style=\"text-align: right;\">         0.8815</td></tr>\n",
       "<tr><td>train_model_c6df2_00069</td><td style=\"text-align: right;\">         0.8687</td></tr>\n",
       "<tr><td>train_model_c6df2_00070</td><td style=\"text-align: right;\">         0.8752</td></tr>\n",
       "<tr><td>train_model_c6df2_00071</td><td style=\"text-align: right;\">         0.8767</td></tr>\n",
       "<tr><td>train_model_c6df2_00072</td><td style=\"text-align: right;\">         0.8723</td></tr>\n",
       "<tr><td>train_model_c6df2_00073</td><td style=\"text-align: right;\">         0.8707</td></tr>\n",
       "<tr><td>train_model_c6df2_00074</td><td style=\"text-align: right;\">         0.8801</td></tr>\n",
       "<tr><td>train_model_c6df2_00075</td><td style=\"text-align: right;\">         0.858 </td></tr>\n",
       "<tr><td>train_model_c6df2_00076</td><td style=\"text-align: right;\">         0.8355</td></tr>\n",
       "<tr><td>train_model_c6df2_00077</td><td style=\"text-align: right;\">         0.8347</td></tr>\n",
       "<tr><td>train_model_c6df2_00078</td><td style=\"text-align: right;\">         0.8728</td></tr>\n",
       "<tr><td>train_model_c6df2_00079</td><td style=\"text-align: right;\">         0.874 </td></tr>\n",
       "<tr><td>train_model_c6df2_00080</td><td style=\"text-align: right;\">         0.8725</td></tr>\n",
       "<tr><td>train_model_c6df2_00081</td><td style=\"text-align: right;\">         0.8556</td></tr>\n",
       "<tr><td>train_model_c6df2_00082</td><td style=\"text-align: right;\">         0.8614</td></tr>\n",
       "<tr><td>train_model_c6df2_00083</td><td style=\"text-align: right;\">         0.8618</td></tr>\n",
       "<tr><td>train_model_c6df2_00084</td><td style=\"text-align: right;\">         0.8837</td></tr>\n",
       "<tr><td>train_model_c6df2_00085</td><td style=\"text-align: right;\">         0.8764</td></tr>\n",
       "<tr><td>train_model_c6df2_00086</td><td style=\"text-align: right;\">         0.8822</td></tr>\n",
       "<tr><td>train_model_c6df2_00087</td><td style=\"text-align: right;\">         0.8719</td></tr>\n",
       "<tr><td>train_model_c6df2_00088</td><td style=\"text-align: right;\">         0.8652</td></tr>\n",
       "<tr><td>train_model_c6df2_00089</td><td style=\"text-align: right;\">         0.8689</td></tr>\n",
       "<tr><td>train_model_c6df2_00090</td><td style=\"text-align: right;\">         0.8771</td></tr>\n",
       "<tr><td>train_model_c6df2_00091</td><td style=\"text-align: right;\">         0.8744</td></tr>\n",
       "<tr><td>train_model_c6df2_00092</td><td style=\"text-align: right;\">         0.8768</td></tr>\n",
       "<tr><td>train_model_c6df2_00093</td><td style=\"text-align: right;\">         0.8683</td></tr>\n",
       "<tr><td>train_model_c6df2_00094</td><td style=\"text-align: right;\">         0.8684</td></tr>\n",
       "<tr><td>train_model_c6df2_00095</td><td style=\"text-align: right;\">         0.8719</td></tr>\n",
       "<tr><td>train_model_c6df2_00096</td><td style=\"text-align: right;\">         0.8743</td></tr>\n",
       "<tr><td>train_model_c6df2_00097</td><td style=\"text-align: right;\">         0.8868</td></tr>\n",
       "<tr><td>train_model_c6df2_00098</td><td style=\"text-align: right;\">         0.8816</td></tr>\n",
       "<tr><td>train_model_c6df2_00099</td><td style=\"text-align: right;\">         0.8755</td></tr>\n",
       "<tr><td>train_model_c6df2_00100</td><td style=\"text-align: right;\">         0.8755</td></tr>\n",
       "<tr><td>train_model_c6df2_00101</td><td style=\"text-align: right;\">         0.8826</td></tr>\n",
       "<tr><td>train_model_c6df2_00102</td><td style=\"text-align: right;\">         0.8821</td></tr>\n",
       "<tr><td>train_model_c6df2_00103</td><td style=\"text-align: right;\">         0.8785</td></tr>\n",
       "<tr><td>train_model_c6df2_00104</td><td style=\"text-align: right;\">         0.8793</td></tr>\n",
       "<tr><td>train_model_c6df2_00105</td><td style=\"text-align: right;\">         0.872 </td></tr>\n",
       "<tr><td>train_model_c6df2_00106</td><td style=\"text-align: right;\">         0.8741</td></tr>\n",
       "<tr><td>train_model_c6df2_00107</td><td style=\"text-align: right;\">         0.8691</td></tr>\n",
       "</tbody>\n",
       "</table>\n",
       "</div>\n",
       "<style>\n",
       ".trialProgress {\n",
       "  display: flex;\n",
       "  flex-direction: column;\n",
       "  color: var(--jp-ui-font-color1);\n",
       "}\n",
       ".trialProgress h3 {\n",
       "  font-weight: bold;\n",
       "}\n",
       ".trialProgress td {\n",
       "  white-space: nowrap;\n",
       "}\n",
       "</style>\n"
      ],
      "text/plain": [
       "<IPython.core.display.HTML object>"
      ]
     },
     "metadata": {},
     "output_type": "display_data"
    },
    {
     "name": "stdout",
     "output_type": "stream",
     "text": [
      " 72/313 [=====>........................] - ETA: 0s - loss: 0.3620 - accuracy: 0.8694\n",
      "313/313 [==============================] - 1s 2ms/step - loss: 0.3882 - accuracy: 0.8707\n",
      "106/313 [=========>....................] - ETA: 0s - loss: 0.3874 - accuracy: 0.8623\n",
      "155/313 [=============>................] - ETA: 0s - loss: 0.3914 - accuracy: 0.8609\n",
      "197/313 [=================>............] - ETA: 0s - loss: 0.3987 - accuracy: 0.8568\n",
      "250/313 [======================>.......] - ETA: 0s - loss: 0.3934 - accuracy: 0.8591\n",
      "313/313 [==============================] - 1s 2ms/step - loss: 0.3912 - accuracy: 0.8594\n"
     ]
    },
    {
     "name": "stderr",
     "output_type": "stream",
     "text": [
      "\u001b[33m(raylet)\u001b[0m [2024-02-23 11:31:14,622 E 58843 531688] (raylet) file_system_monitor.cc:111: /tmp/ray/session_2024-02-23_11-29-52_330678_58831 is over 95% full, available space: 8733818880; capacity: 245107195904. Object creation will fail if spilling is required.\n",
      "\u001b[33m(raylet)\u001b[0m [2024-02-23 11:31:24,680 E 58843 531688] (raylet) file_system_monitor.cc:111: /tmp/ray/session_2024-02-23_11-29-52_330678_58831 is over 95% full, available space: 8747110400; capacity: 245107195904. Object creation will fail if spilling is required.\n",
      "\u001b[33m(raylet)\u001b[0m [2024-02-23 11:31:34,749 E 58843 531688] (raylet) file_system_monitor.cc:111: /tmp/ray/session_2024-02-23_11-29-52_330678_58831 is over 95% full, available space: 8754257920; capacity: 245107195904. Object creation will fail if spilling is required.\n",
      "\u001b[33m(raylet)\u001b[0m [2024-02-23 11:31:44,797 E 58843 531688] (raylet) file_system_monitor.cc:111: /tmp/ray/session_2024-02-23_11-29-52_330678_58831 is over 95% full, available space: 8742711296; capacity: 245107195904. Object creation will fail if spilling is required.\n",
      "\u001b[33m(raylet)\u001b[0m [2024-02-23 11:31:54,797 E 58843 531688] (raylet) file_system_monitor.cc:111: /tmp/ray/session_2024-02-23_11-29-52_330678_58831 is over 95% full, available space: 8725241856; capacity: 245107195904. Object creation will fail if spilling is required.\n"
     ]
    },
    {
     "name": "stdout",
     "output_type": "stream",
     "text": [
      "  1/313 [..............................] - ETA: 5s - loss: 0.4212 - accuracy: 0.8438\n",
      " 88/313 [=======>......................] - ETA: 0s - loss: 0.3667 - accuracy: 0.8675\n",
      "163/313 [==============>...............] - ETA: 0s - loss: 0.3946 - accuracy: 0.8585\n",
      "232/313 [=====================>........] - ETA: 0s - loss: 0.3972 - accuracy: 0.8570\n",
      "295/313 [===========================>..] - ETA: 0s - loss: 0.3943 - accuracy: 0.8572\n",
      "313/313 [==============================] - 1s 2ms/step - loss: 0.3951 - accuracy: 0.8574\n"
     ]
    },
    {
     "name": "stderr",
     "output_type": "stream",
     "text": [
      "\u001b[33m(raylet)\u001b[0m [2024-02-23 11:32:04,793 E 58843 531688] (raylet) file_system_monitor.cc:111: /tmp/ray/session_2024-02-23_11-29-52_330678_58831 is over 95% full, available space: 8722784256; capacity: 245107195904. Object creation will fail if spilling is required.\n"
     ]
    },
    {
     "name": "stdout",
     "output_type": "stream",
     "text": [
      " 32/313 [==>...........................] - ETA: 1s - loss: 0.3829 - accuracy: 0.8857\n",
      " 76/313 [======>.......................] - ETA: 0s - loss: 0.3422 - accuracy: 0.8865\n",
      "110/313 [=========>....................] - ETA: 0s - loss: 0.3760 - accuracy: 0.8773\n",
      " 27/313 [=>............................] - ETA: 1s - loss: 0.3597 - accuracy: 0.8762\n",
      "134/313 [===========>..................] - ETA: 0s - loss: 0.3903 - accuracy: 0.8741\n",
      " 67/313 [=====>........................] - ETA: 0s - loss: 0.3498 - accuracy: 0.8741\n",
      "238/313 [=====================>........] - ETA: 0s - loss: 0.3767 - accuracy: 0.8755\n",
      " 99/313 [========>.....................] - ETA: 0s - loss: 0.3756 - accuracy: 0.8684\n",
      "276/313 [=========================>....] - ETA: 0s - loss: 0.3704 - accuracy: 0.8752\n",
      "290/313 [==========================>...] - ETA: 0s - loss: 0.3721 - accuracy: 0.8750\n",
      "176/313 [===============>..............] - ETA: 0s - loss: 0.4026 - accuracy: 0.8667\n",
      "313/313 [==============================] - 1s 3ms/step - loss: 0.3690 - accuracy: 0.8764\n",
      "198/313 [=================>............] - ETA: 0s - loss: 0.3985 - accuracy: 0.8684\n",
      "208/313 [==================>...........] - ETA: 0s - loss: 0.3992 - accuracy: 0.8685\n",
      "270/313 [========================>.....] - ETA: 0s - loss: 0.3865 - accuracy: 0.8726\n",
      "313/313 [==============================] - 1s 3ms/step - loss: 0.3902 - accuracy: 0.8717\n"
     ]
    },
    {
     "name": "stderr",
     "output_type": "stream",
     "text": [
      "\u001b[33m(raylet)\u001b[0m [2024-02-23 11:32:14,813 E 58843 531688] (raylet) file_system_monitor.cc:111: /tmp/ray/session_2024-02-23_11-29-52_330678_58831 is over 95% full, available space: 8720809984; capacity: 245107195904. Object creation will fail if spilling is required.\n"
     ]
    },
    {
     "name": "stdout",
     "output_type": "stream",
     "text": [
      " 69/313 [=====>........................] - ETA: 0s - loss: 0.3716 - accuracy: 0.8682\n",
      "  1/313 [..............................] - ETA: 27s - loss: 0.2687 - accuracy: 0.8750\u001b[32m [repeated 2x across cluster]\u001b[0m\n",
      "132/313 [===========>..................] - ETA: 0s - loss: 0.3921 - accuracy: 0.8643\n",
      "137/313 [============>.................] - ETA: 0s - loss: 0.4002 - accuracy: 0.8599\n",
      "187/313 [================>.............] - ETA: 0s - loss: 0.4071 - accuracy: 0.8590\n",
      "313/313 [==============================] - 0s 1ms/step - loss: 0.3945 - accuracy: 0.8628\n"
     ]
    },
    {
     "name": "stderr",
     "output_type": "stream",
     "text": [
      "\u001b[33m(raylet)\u001b[0m [2024-02-23 11:32:24,822 E 58843 531688] (raylet) file_system_monitor.cc:111: /tmp/ray/session_2024-02-23_11-29-52_330678_58831 is over 95% full, available space: 8720617472; capacity: 245107195904. Object creation will fail if spilling is required.\n",
      "\u001b[33m(raylet)\u001b[0m [2024-02-23 11:32:34,915 E 58843 531688] (raylet) file_system_monitor.cc:111: /tmp/ray/session_2024-02-23_11-29-52_330678_58831 is over 95% full, available space: 8718938112; capacity: 245107195904. Object creation will fail if spilling is required.\n",
      "\u001b[33m(raylet)\u001b[0m [2024-02-23 11:32:44,949 E 58843 531688] (raylet) file_system_monitor.cc:111: /tmp/ray/session_2024-02-23_11-29-52_330678_58831 is over 95% full, available space: 8727883776; capacity: 245107195904. Object creation will fail if spilling is required.\n",
      "\u001b[33m(raylet)\u001b[0m [2024-02-23 11:32:54,948 E 58843 531688] (raylet) file_system_monitor.cc:111: /tmp/ray/session_2024-02-23_11-29-52_330678_58831 is over 95% full, available space: 8723800064; capacity: 245107195904. Object creation will fail if spilling is required.\n",
      "\u001b[33m(raylet)\u001b[0m [2024-02-23 11:33:04,955 E 58843 531688] (raylet) file_system_monitor.cc:111: /tmp/ray/session_2024-02-23_11-29-52_330678_58831 is over 95% full, available space: 8719474688; capacity: 245107195904. Object creation will fail if spilling is required.\n"
     ]
    },
    {
     "name": "stdout",
     "output_type": "stream",
     "text": [
      " 50/313 [===>..........................] - ETA: 0s - loss: 0.3839 - accuracy: 0.8606\n",
      " 99/313 [========>.....................] - ETA: 0s - loss: 0.3896 - accuracy: 0.8614\n",
      "129/313 [===========>..................] - ETA: 0s - loss: 0.4066 - accuracy: 0.8549\n",
      "152/313 [=============>................] - ETA: 0s - loss: 0.4032 - accuracy: 0.8563\n",
      "202/313 [==================>...........] - ETA: 0s - loss: 0.4130 - accuracy: 0.8541\n",
      "278/313 [=========================>....] - ETA: 0s - loss: 0.4083 - accuracy: 0.8525\n",
      "307/313 [============================>.] - ETA: 0s - loss: 0.4101 - accuracy: 0.8521\n",
      "313/313 [==============================] - 1s 2ms/step - loss: 0.4105 - accuracy: 0.8524\n"
     ]
    },
    {
     "name": "stderr",
     "output_type": "stream",
     "text": [
      "\u001b[33m(raylet)\u001b[0m [2024-02-23 11:33:15,052 E 58843 531688] (raylet) file_system_monitor.cc:111: /tmp/ray/session_2024-02-23_11-29-52_330678_58831 is over 95% full, available space: 8718872576; capacity: 245107195904. Object creation will fail if spilling is required.\n"
     ]
    },
    {
     "name": "stdout",
     "output_type": "stream",
     "text": [
      " 51/313 [===>..........................] - ETA: 0s - loss: 0.3523 - accuracy: 0.8719 \n",
      " 57/313 [====>.........................] - ETA: 0s - loss: 0.3477 - accuracy: 0.8734\n",
      " 95/313 [========>.....................] - ETA: 0s - loss: 0.3587 - accuracy: 0.8694\n",
      "126/313 [===========>..................] - ETA: 0s - loss: 0.3771 - accuracy: 0.8668\n",
      "167/313 [===============>..............] - ETA: 0s - loss: 0.3831 - accuracy: 0.8670\n",
      "181/313 [================>.............] - ETA: 0s - loss: 0.3855 - accuracy: 0.8662\n"
     ]
    },
    {
     "name": "stderr",
     "output_type": "stream",
     "text": [
      "\u001b[33m(raylet)\u001b[0m [2024-02-23 11:33:25,052 E 58843 531688] (raylet) file_system_monitor.cc:111: /tmp/ray/session_2024-02-23_11-29-52_330678_58831 is over 95% full, available space: 8721145856; capacity: 245107195904. Object creation will fail if spilling is required.\n"
     ]
    },
    {
     "name": "stdout",
     "output_type": "stream",
     "text": [
      "197/313 [=================>............] - ETA: 0s - loss: 0.3817 - accuracy: 0.8675\n",
      "232/313 [=====================>........] - ETA: 0s - loss: 0.3787 - accuracy: 0.8692\n",
      "277/313 [=========================>....] - ETA: 0s - loss: 0.3694 - accuracy: 0.8718\n",
      "313/313 [==============================] - 1s 4ms/step - loss: 0.3678 - accuracy: 0.8735\n",
      " 58/313 [====>.........................] - ETA: 0s - loss: 0.3802 - accuracy: 0.8702  \n",
      "111/313 [=========>....................] - ETA: 0s - loss: 0.4011 - accuracy: 0.8578\n",
      "138/313 [============>.................] - ETA: 0s - loss: 0.4004 - accuracy: 0.8576\n",
      "187/313 [================>.............] - ETA: 0s - loss: 0.4105 - accuracy: 0.8548\n",
      "227/313 [====================>.........] - ETA: 0s - loss: 0.4099 - accuracy: 0.8546\n",
      "254/313 [=======================>......] - ETA: 0s - loss: 0.4060 - accuracy: 0.8551\n",
      "276/313 [=========================>....] - ETA: 0s - loss: 0.4059 - accuracy: 0.8546\n",
      "300/313 [===========================>..] - ETA: 0s - loss: 0.4077 - accuracy: 0.8540\n",
      "305/313 [============================>.] - ETA: 0s - loss: 0.4061 - accuracy: 0.8544\n",
      "313/313 [==============================] - 1s 3ms/step - loss: 0.4056 - accuracy: 0.8550\n",
      "101/313 [========>.....................] - ETA: 0s - loss: 0.3890 - accuracy: 0.8617\n",
      "118/313 [==========>...................] - ETA: 0s - loss: 0.3926 - accuracy: 0.8660\n",
      "162/313 [==============>...............] - ETA: 0s - loss: 0.3916 - accuracy: 0.8684\n",
      "187/313 [================>.............] - ETA: 0s - loss: 0.3991 - accuracy: 0.8683\n",
      "217/313 [===================>..........] - ETA: 0s - loss: 0.4011 - accuracy: 0.8674\n",
      "262/313 [========================>.....] - ETA: 0s - loss: 0.3924 - accuracy: 0.8694\n",
      "285/313 [==========================>...] - ETA: 0s - loss: 0.3921 - accuracy: 0.8678\n",
      "313/313 [==============================] - 1s 2ms/step - loss: 0.3910 - accuracy: 0.8690\n"
     ]
    },
    {
     "name": "stderr",
     "output_type": "stream",
     "text": [
      "\u001b[33m(raylet)\u001b[0m [2024-02-23 11:33:35,054 E 58843 531688] (raylet) file_system_monitor.cc:111: /tmp/ray/session_2024-02-23_11-29-52_330678_58831 is over 95% full, available space: 7648817152; capacity: 245107195904. Object creation will fail if spilling is required.\n",
      "\u001b[33m(raylet)\u001b[0m [2024-02-23 11:33:45,064 E 58843 531688] (raylet) file_system_monitor.cc:111: /tmp/ray/session_2024-02-23_11-29-52_330678_58831 is over 95% full, available space: 7643344896; capacity: 245107195904. Object creation will fail if spilling is required.\n"
     ]
    },
    {
     "name": "stdout",
     "output_type": "stream",
     "text": [
      " 87/313 [=======>......................] - ETA: 0s - loss: 0.3703 - accuracy: 0.8693\n",
      " 61/313 [====>.........................] - ETA: 0s - loss: 0.3611 - accuracy: 0.8735  \n",
      "136/313 [============>.................] - ETA: 0s - loss: 0.3934 - accuracy: 0.8676\n",
      "131/313 [===========>..................] - ETA: 0s - loss: 0.4007 - accuracy: 0.8602\n",
      "139/313 [============>.................] - ETA: 0s - loss: 0.3955 - accuracy: 0.8626\n",
      "161/313 [==============>...............] - ETA: 0s - loss: 0.3997 - accuracy: 0.8622\n",
      "195/313 [=================>............] - ETA: 0s - loss: 0.4069 - accuracy: 0.8593\n",
      "212/313 [===================>..........] - ETA: 0s - loss: 0.4105 - accuracy: 0.8576\n",
      "313/313 [==============================] - 1s 2ms/step - loss: 0.4060 - accuracy: 0.8572\n"
     ]
    },
    {
     "name": "stderr",
     "output_type": "stream",
     "text": [
      "\u001b[33m(raylet)\u001b[0m [2024-02-23 11:33:55,083 E 58843 531688] (raylet) file_system_monitor.cc:111: /tmp/ray/session_2024-02-23_11-29-52_330678_58831 is over 95% full, available space: 7640875008; capacity: 245107195904. Object creation will fail if spilling is required.\n",
      "\u001b[33m(raylet)\u001b[0m [2024-02-23 11:34:05,084 E 58843 531688] (raylet) file_system_monitor.cc:111: /tmp/ray/session_2024-02-23_11-29-52_330678_58831 is over 95% full, available space: 7636713472; capacity: 245107195904. Object creation will fail if spilling is required.\n",
      "\u001b[33m(raylet)\u001b[0m [2024-02-23 11:34:15,143 E 58843 531688] (raylet) file_system_monitor.cc:111: /tmp/ray/session_2024-02-23_11-29-52_330678_58831 is over 95% full, available space: 7647879168; capacity: 245107195904. Object creation will fail if spilling is required.\n"
     ]
    },
    {
     "name": "stdout",
     "output_type": "stream",
     "text": [
      "  1/313 [..............................] - ETA: 4s - loss: 0.2332 - accuracy: 0.9375\n",
      " 65/313 [=====>........................] - ETA: 0s - loss: 0.4110 - accuracy: 0.8577\n",
      " 76/313 [======>.......................] - ETA: 0s - loss: 0.3977 - accuracy: 0.8623\n",
      " 95/313 [========>.....................] - ETA: 0s - loss: 0.4137 - accuracy: 0.8586\n",
      "114/313 [=========>....................] - ETA: 0s - loss: 0.4205 - accuracy: 0.8569\n",
      "190/313 [=================>............] - ETA: 0s - loss: 0.4304 - accuracy: 0.8539\n",
      "207/313 [==================>...........] - ETA: 0s - loss: 0.4290 - accuracy: 0.8533\n",
      "228/313 [====================>.........] - ETA: 0s - loss: 0.4248 - accuracy: 0.8527\n",
      "267/313 [========================>.....] - ETA: 0s - loss: 0.4150 - accuracy: 0.8560\n",
      "295/313 [===========================>..] - ETA: 0s - loss: 0.4136 - accuracy: 0.8558\n",
      "313/313 [==============================] - 1s 4ms/step - loss: 0.4117 - accuracy: 0.8563\n",
      " 45/313 [===>..........................] - ETA: 0s - loss: 0.3507 - accuracy: 0.8792\n",
      " 85/313 [=======>......................] - ETA: 0s - loss: 0.3448 - accuracy: 0.8779\n"
     ]
    },
    {
     "name": "stderr",
     "output_type": "stream",
     "text": [
      "\u001b[33m(raylet)\u001b[0m [2024-02-23 11:34:25,161 E 58843 531688] (raylet) file_system_monitor.cc:111: /tmp/ray/session_2024-02-23_11-29-52_330678_58831 is over 95% full, available space: 6579847168; capacity: 245107195904. Object creation will fail if spilling is required.\n"
     ]
    },
    {
     "name": "stdout",
     "output_type": "stream",
     "text": [
      "127/313 [===========>..................] - ETA: 0s - loss: 0.3750 - accuracy: 0.8740\n",
      "133/313 [===========>..................] - ETA: 0s - loss: 0.3785 - accuracy: 0.8724\n",
      "156/313 [=============>................] - ETA: 0s - loss: 0.3719 - accuracy: 0.8742\n",
      "191/313 [=================>............] - ETA: 0s - loss: 0.3824 - accuracy: 0.8730\n",
      "204/313 [==================>...........] - ETA: 0s - loss: 0.3823 - accuracy: 0.8733\n",
      "313/313 [==============================] - 1s 3ms/step - loss: 0.3708 - accuracy: 0.8759\n"
     ]
    },
    {
     "name": "stderr",
     "output_type": "stream",
     "text": [
      "\u001b[33m(raylet)\u001b[0m [2024-02-23 11:34:35,258 E 58843 531688] (raylet) file_system_monitor.cc:111: /tmp/ray/session_2024-02-23_11-29-52_330678_58831 is over 95% full, available space: 6577627136; capacity: 245107195904. Object creation will fail if spilling is required.\n",
      "\u001b[33m(raylet)\u001b[0m [2024-02-23 11:34:45,268 E 58843 531688] (raylet) file_system_monitor.cc:111: /tmp/ray/session_2024-02-23_11-29-52_330678_58831 is over 95% full, available space: 6577545216; capacity: 245107195904. Object creation will fail if spilling is required.\n"
     ]
    },
    {
     "name": "stdout",
     "output_type": "stream",
     "text": [
      "  1/313 [..............................] - ETA: 1:23 - loss: 0.3978 - accuracy: 0.8438\n",
      "  8/313 [..............................] - ETA: 5s - loss: 0.3760 - accuracy: 0.8672  \n",
      " 21/313 [=>............................] - ETA: 3s - loss: 0.4153 - accuracy: 0.8601\n",
      " 35/313 [==>...........................] - ETA: 3s - loss: 0.4286 - accuracy: 0.8562\n",
      " 74/313 [======>.......................] - ETA: 1s - loss: 0.4039 - accuracy: 0.8568\n",
      " 83/313 [======>.......................] - ETA: 1s - loss: 0.4094 - accuracy: 0.8554\n",
      "149/313 [=============>................] - ETA: 0s - loss: 0.4268 - accuracy: 0.8475\n",
      "185/313 [================>.............] - ETA: 0s - loss: 0.4409 - accuracy: 0.8441\n",
      "189/313 [=================>............] - ETA: 0s - loss: 0.4416 - accuracy: 0.8433\n",
      "220/313 [====================>.........] - ETA: 0s - loss: 0.4436 - accuracy: 0.8401\n",
      "266/313 [========================>.....] - ETA: 0s - loss: 0.4376 - accuracy: 0.8412\n",
      "313/313 [==============================] - 2s 4ms/step - loss: 0.4392 - accuracy: 0.8416\n"
     ]
    },
    {
     "name": "stderr",
     "output_type": "stream",
     "text": [
      "\u001b[33m(raylet)\u001b[0m [2024-02-23 11:34:55,290 E 58843 531688] (raylet) file_system_monitor.cc:111: /tmp/ray/session_2024-02-23_11-29-52_330678_58831 is over 95% full, available space: 6572675072; capacity: 245107195904. Object creation will fail if spilling is required.\n"
     ]
    },
    {
     "name": "stdout",
     "output_type": "stream",
     "text": [
      "  1/313 [..............................] - ETA: 58s - loss: 0.3091 - accuracy: 0.8750\n",
      " 33/313 [==>...........................] - ETA: 0s - loss: 0.3432 - accuracy: 0.8826 \n",
      " 55/313 [====>.........................] - ETA: 1s - loss: 0.3279 - accuracy: 0.8795\n",
      "107/313 [=========>....................] - ETA: 0s - loss: 0.3512 - accuracy: 0.8732\n",
      "112/313 [=========>....................] - ETA: 0s - loss: 0.3595 - accuracy: 0.8717\n",
      "126/313 [===========>..................] - ETA: 0s - loss: 0.3599 - accuracy: 0.8705\n",
      "210/313 [===================>..........] - ETA: 0s - loss: 0.3711 - accuracy: 0.8689\n",
      "260/313 [=======================>......] - ETA: 0s - loss: 0.3604 - accuracy: 0.8722\n",
      "269/313 [========================>.....] - ETA: 0s - loss: 0.3591 - accuracy: 0.8727\n",
      "294/313 [===========================>..] - ETA: 0s - loss: 0.3622 - accuracy: 0.8717\n",
      "313/313 [==============================] - 1s 3ms/step - loss: 0.3611 - accuracy: 0.8725\n"
     ]
    },
    {
     "name": "stderr",
     "output_type": "stream",
     "text": [
      "\u001b[33m(raylet)\u001b[0m [2024-02-23 11:35:05,382 E 58843 531688] (raylet) file_system_monitor.cc:111: /tmp/ray/session_2024-02-23_11-29-52_330678_58831 is over 95% full, available space: 6572236800; capacity: 245107195904. Object creation will fail if spilling is required.\n",
      "\u001b[33m(raylet)\u001b[0m [2024-02-23 11:35:15,390 E 58843 531688] (raylet) file_system_monitor.cc:111: /tmp/ray/session_2024-02-23_11-29-52_330678_58831 is over 95% full, available space: 6575874048; capacity: 245107195904. Object creation will fail if spilling is required.\n",
      "\u001b[33m(raylet)\u001b[0m [2024-02-23 11:35:25,395 E 58843 531688] (raylet) file_system_monitor.cc:111: /tmp/ray/session_2024-02-23_11-29-52_330678_58831 is over 95% full, available space: 6573588480; capacity: 245107195904. Object creation will fail if spilling is required.\n",
      "\u001b[33m(raylet)\u001b[0m [2024-02-23 11:35:35,398 E 58843 531688] (raylet) file_system_monitor.cc:111: /tmp/ray/session_2024-02-23_11-29-52_330678_58831 is over 95% full, available space: 6573170688; capacity: 245107195904. Object creation will fail if spilling is required.\n"
     ]
    },
    {
     "name": "stdout",
     "output_type": "stream",
     "text": [
      " 13/313 [>.............................] - ETA: 1s - loss: 0.3936 - accuracy: 0.8870 \n",
      " 66/313 [=====>........................] - ETA: 0s - loss: 0.3604 - accuracy: 0.8830\n",
      "147/313 [=============>................] - ETA: 0s - loss: 0.3919 - accuracy: 0.8741\n",
      "167/313 [===============>..............] - ETA: 0s - loss: 0.4012 - accuracy: 0.8728\n",
      "200/313 [==================>...........] - ETA: 0s - loss: 0.3965 - accuracy: 0.8741\n",
      "238/313 [=====================>........] - ETA: 0s - loss: 0.3922 - accuracy: 0.8749\n"
     ]
    },
    {
     "name": "stderr",
     "output_type": "stream",
     "text": [
      "\u001b[33m(raylet)\u001b[0m [2024-02-23 11:35:45,490 E 58843 531688] (raylet) file_system_monitor.cc:111: /tmp/ray/session_2024-02-23_11-29-52_330678_58831 is over 95% full, available space: 6571438080; capacity: 245107195904. Object creation will fail if spilling is required.\n"
     ]
    },
    {
     "name": "stdout",
     "output_type": "stream",
     "text": [
      "268/313 [========================>.....] - ETA: 0s - loss: 0.3880 - accuracy: 0.8767\n",
      "286/313 [==========================>...] - ETA: 0s - loss: 0.3916 - accuracy: 0.8765\n",
      "313/313 [==============================] - 1s 3ms/step - loss: 0.3920 - accuracy: 0.8774\n",
      "  1/313 [..............................] - ETA: 7s - loss: 0.2300 - accuracy: 0.9375\n",
      " 36/313 [==>...........................] - ETA: 0s - loss: 0.3401 - accuracy: 0.8828\n",
      " 71/313 [=====>........................] - ETA: 0s - loss: 0.3254 - accuracy: 0.8838\n",
      "117/313 [==========>...................] - ETA: 0s - loss: 0.3640 - accuracy: 0.8721\n",
      "196/313 [=================>............] - ETA: 0s - loss: 0.3750 - accuracy: 0.8697\n",
      "226/313 [====================>.........] - ETA: 0s - loss: 0.3741 - accuracy: 0.8693\n",
      "262/313 [========================>.....] - ETA: 0s - loss: 0.3661 - accuracy: 0.8719\n",
      "313/313 [==============================] - 1s 3ms/step - loss: 0.3662 - accuracy: 0.8718\n",
      " 63/313 [=====>........................] - ETA: 0s - loss: 0.3430 - accuracy: 0.8805 \n",
      "155/313 [=============>................] - ETA: 0s - loss: 0.3645 - accuracy: 0.8726\n",
      "136/313 [============>.................] - ETA: 0s - loss: 0.3725 - accuracy: 0.8716\n",
      "145/313 [============>.................] - ETA: 0s - loss: 0.3609 - accuracy: 0.8754\n",
      "146/313 [============>.................] - ETA: 0s - loss: 0.3626 - accuracy: 0.8750\n",
      "150/313 [=============>................] - ETA: 0s - loss: 0.3648 - accuracy: 0.8750\n",
      "152/313 [=============>................] - ETA: 0s - loss: 0.3657 - accuracy: 0.8744\n",
      "166/313 [==============>...............] - ETA: 0s - loss: 0.3703 - accuracy: 0.8731\n",
      "197/313 [=================>............] - ETA: 0s - loss: 0.3697 - accuracy: 0.8740\n"
     ]
    },
    {
     "name": "stderr",
     "output_type": "stream",
     "text": [
      "\u001b[33m(raylet)\u001b[0m [2024-02-23 11:35:55,588 E 58843 531688] (raylet) file_system_monitor.cc:111: /tmp/ray/session_2024-02-23_11-29-52_330678_58831 is over 95% full, available space: 7647363072; capacity: 245107195904. Object creation will fail if spilling is required.\n"
     ]
    },
    {
     "name": "stdout",
     "output_type": "stream",
     "text": [
      "272/313 [=========================>....] - ETA: 0s - loss: 0.3517 - accuracy: 0.8787\n",
      "274/313 [=========================>....] - ETA: 0s - loss: 0.3540 - accuracy: 0.8780\n",
      "294/313 [===========================>..] - ETA: 0s - loss: 0.3536 - accuracy: 0.8780\n",
      "311/313 [============================>.] - ETA: 0s - loss: 0.3512 - accuracy: 0.8785\n",
      "313/313 [==============================] - 1s 4ms/step - loss: 0.3514 - accuracy: 0.8784\n"
     ]
    },
    {
     "name": "stderr",
     "output_type": "stream",
     "text": [
      "\u001b[33m(raylet)\u001b[0m [2024-02-23 11:36:05,592 E 58843 531688] (raylet) file_system_monitor.cc:111: /tmp/ray/session_2024-02-23_11-29-52_330678_58831 is over 95% full, available space: 7644327936; capacity: 245107195904. Object creation will fail if spilling is required.\n",
      "\u001b[33m(raylet)\u001b[0m [2024-02-23 11:36:15,693 E 58843 531688] (raylet) file_system_monitor.cc:111: /tmp/ray/session_2024-02-23_11-29-52_330678_58831 is over 95% full, available space: 7637377024; capacity: 245107195904. Object creation will fail if spilling is required.\n",
      "\u001b[33m(raylet)\u001b[0m [2024-02-23 11:36:25,696 E 58843 531688] (raylet) file_system_monitor.cc:111: /tmp/ray/session_2024-02-23_11-29-52_330678_58831 is over 95% full, available space: 7637041152; capacity: 245107195904. Object creation will fail if spilling is required.\n",
      "\u001b[33m(raylet)\u001b[0m [2024-02-23 11:36:35,791 E 58843 531688] (raylet) file_system_monitor.cc:111: /tmp/ray/session_2024-02-23_11-29-52_330678_58831 is over 95% full, available space: 7636516864; capacity: 245107195904. Object creation will fail if spilling is required.\n"
     ]
    },
    {
     "name": "stdout",
     "output_type": "stream",
     "text": [
      "  1/313 [..............................] - ETA: 19s - loss: 0.5884 - accuracy: 0.8438\n",
      " 64/313 [=====>........................] - ETA: 0s - loss: 0.3667 - accuracy: 0.8750\n",
      " 76/313 [======>.......................] - ETA: 0s - loss: 0.3556 - accuracy: 0.8775\n",
      "135/313 [===========>..................] - ETA: 0s - loss: 0.3943 - accuracy: 0.8718\n",
      "191/313 [=================>............] - ETA: 0s - loss: 0.4002 - accuracy: 0.8725\n",
      "202/313 [==================>...........] - ETA: 0s - loss: 0.3948 - accuracy: 0.8736\n",
      "231/313 [=====================>........] - ETA: 0s - loss: 0.3972 - accuracy: 0.8720\n",
      "253/313 [=======================>......] - ETA: 0s - loss: 0.3910 - accuracy: 0.8739\n",
      "274/313 [=========================>....] - ETA: 0s - loss: 0.3881 - accuracy: 0.8752\n",
      "290/313 [==========================>...] - ETA: 0s - loss: 0.3880 - accuracy: 0.8755\n",
      "313/313 [==============================] - 1s 4ms/step - loss: 0.3855 - accuracy: 0.8764\n"
     ]
    },
    {
     "name": "stderr",
     "output_type": "stream",
     "text": [
      "\u001b[33m(raylet)\u001b[0m [2024-02-23 11:36:45,888 E 58843 531688] (raylet) file_system_monitor.cc:111: /tmp/ray/session_2024-02-23_11-29-52_330678_58831 is over 95% full, available space: 7636312064; capacity: 245107195904. Object creation will fail if spilling is required.\n",
      "\u001b[33m(raylet)\u001b[0m [2024-02-23 11:36:55,895 E 58843 531688] (raylet) file_system_monitor.cc:111: /tmp/ray/session_2024-02-23_11-29-52_330678_58831 is over 95% full, available space: 7640100864; capacity: 245107195904. Object creation will fail if spilling is required.\n",
      "\u001b[33m(raylet)\u001b[0m [2024-02-23 11:37:05,915 E 58843 531688] (raylet) file_system_monitor.cc:111: /tmp/ray/session_2024-02-23_11-29-52_330678_58831 is over 95% full, available space: 7651725312; capacity: 245107195904. Object creation will fail if spilling is required.\n",
      "\u001b[33m(raylet)\u001b[0m [2024-02-23 11:37:16,015 E 58843 531688] (raylet) file_system_monitor.cc:111: /tmp/ray/session_2024-02-23_11-29-52_330678_58831 is over 95% full, available space: 6564945920; capacity: 245107195904. Object creation will fail if spilling is required.\n"
     ]
    },
    {
     "name": "stdout",
     "output_type": "stream",
     "text": [
      " 15/313 [>.............................] - ETA: 1s - loss: 0.3426 - accuracy: 0.8813 \n",
      " 93/313 [=======>......................] - ETA: 0s - loss: 0.3528 - accuracy: 0.8737\n",
      "137/313 [============>.................] - ETA: 0s - loss: 0.3689 - accuracy: 0.8702\n",
      "146/313 [============>.................] - ETA: 0s - loss: 0.3645 - accuracy: 0.8714\n",
      "170/313 [===============>..............] - ETA: 0s - loss: 0.3758 - accuracy: 0.8689\n",
      "198/313 [=================>............] - ETA: 0s - loss: 0.3817 - accuracy: 0.8670\n",
      "209/313 [===================>..........] - ETA: 0s - loss: 0.3845 - accuracy: 0.8665\n",
      "221/313 [====================>.........] - ETA: 0s - loss: 0.3831 - accuracy: 0.8667\n",
      "253/313 [=======================>......] - ETA: 0s - loss: 0.3756 - accuracy: 0.8685\n",
      "285/313 [==========================>...] - ETA: 0s - loss: 0.3762 - accuracy: 0.8696\n",
      "299/313 [===========================>..] - ETA: 0s - loss: 0.3781 - accuracy: 0.8694\n",
      "313/313 [==============================] - 1s 4ms/step - loss: 0.3766 - accuracy: 0.8696\n",
      "  1/313 [..............................] - ETA: 6s - loss: 0.3522 - accuracy: 0.8438\n",
      " 77/313 [======>.......................] - ETA: 0s - loss: 0.3574 - accuracy: 0.8713\n",
      " 84/313 [=======>......................] - ETA: 0s - loss: 0.3689 - accuracy: 0.8690\n",
      " 94/313 [========>.....................] - ETA: 0s - loss: 0.3760 - accuracy: 0.8664\n",
      "124/313 [==========>...................] - ETA: 0s - loss: 0.3969 - accuracy: 0.8627\n",
      "133/313 [===========>..................] - ETA: 0s - loss: 0.3976 - accuracy: 0.8625\n",
      "147/313 [=============>................] - ETA: 0s - loss: 0.3884 - accuracy: 0.8652\n",
      "154/313 [=============>................] - ETA: 0s - loss: 0.3906 - accuracy: 0.8644\n",
      "164/313 [==============>...............] - ETA: 0s - loss: 0.3978 - accuracy: 0.8628\n",
      "181/313 [================>.............] - ETA: 0s - loss: 0.4073 - accuracy: 0.8612\n",
      "190/313 [=================>............] - ETA: 0s - loss: 0.4050 - accuracy: 0.8622\n",
      "194/313 [=================>............] - ETA: 0s - loss: 0.4056 - accuracy: 0.8616\n",
      "204/313 [==================>...........] - ETA: 0s - loss: 0.4048 - accuracy: 0.8612\n",
      "232/313 [=====================>........] - ETA: 0s - loss: 0.4036 - accuracy: 0.8618\n",
      "243/313 [======================>.......] - ETA: 0s - loss: 0.3982 - accuracy: 0.8632\n",
      "313/313 [==============================] - 2s 5ms/step - loss: 0.3999 - accuracy: 0.8633\n"
     ]
    },
    {
     "name": "stderr",
     "output_type": "stream",
     "text": [
      "\u001b[33m(raylet)\u001b[0m [2024-02-23 11:37:26,034 E 58843 531688] (raylet) file_system_monitor.cc:111: /tmp/ray/session_2024-02-23_11-29-52_330678_58831 is over 95% full, available space: 6564741120; capacity: 245107195904. Object creation will fail if spilling is required.\n",
      "\u001b[33m(raylet)\u001b[0m [2024-02-23 11:37:36,034 E 58843 531688] (raylet) file_system_monitor.cc:111: /tmp/ray/session_2024-02-23_11-29-52_330678_58831 is over 95% full, available space: 6564421632; capacity: 245107195904. Object creation will fail if spilling is required.\n",
      "\u001b[33m(raylet)\u001b[0m [2024-02-23 11:37:46,131 E 58843 531688] (raylet) file_system_monitor.cc:111: /tmp/ray/session_2024-02-23_11-29-52_330678_58831 is over 95% full, available space: 6563278848; capacity: 245107195904. Object creation will fail if spilling is required.\n"
     ]
    },
    {
     "name": "stdout",
     "output_type": "stream",
     "text": [
      " 58/313 [====>.........................] - ETA: 0s - loss: 0.3518 - accuracy: 0.8772 \n",
      " 76/313 [======>.......................] - ETA: 0s - loss: 0.3455 - accuracy: 0.8787\n",
      " 97/313 [========>.....................] - ETA: 0s - loss: 0.3636 - accuracy: 0.8727\n",
      "101/313 [========>.....................] - ETA: 0s - loss: 0.3633 - accuracy: 0.8735\n",
      "137/313 [============>.................] - ETA: 0s - loss: 0.3730 - accuracy: 0.8725\n",
      "156/313 [=============>................] - ETA: 0s - loss: 0.3681 - accuracy: 0.8726\n",
      "172/313 [===============>..............] - ETA: 0s - loss: 0.3780 - accuracy: 0.8699\n",
      "196/313 [=================>............] - ETA: 0s - loss: 0.3839 - accuracy: 0.8664\n",
      "233/313 [=====================>........] - ETA: 0s - loss: 0.3793 - accuracy: 0.8676\n",
      "255/313 [=======================>......] - ETA: 0s - loss: 0.3755 - accuracy: 0.8687\n",
      "279/313 [=========================>....] - ETA: 0s - loss: 0.3746 - accuracy: 0.8685\n",
      "296/313 [===========================>..] - ETA: 0s - loss: 0.3748 - accuracy: 0.8676\n",
      "300/313 [===========================>..] - ETA: 0s - loss: 0.3768 - accuracy: 0.8671\n",
      "313/313 [==============================] - 2s 5ms/step - loss: 0.3743 - accuracy: 0.8682\n"
     ]
    },
    {
     "name": "stderr",
     "output_type": "stream",
     "text": [
      "\u001b[33m(raylet)\u001b[0m [2024-02-23 11:37:56,160 E 58843 531688] (raylet) file_system_monitor.cc:111: /tmp/ray/session_2024-02-23_11-29-52_330678_58831 is over 95% full, available space: 6562340864; capacity: 245107195904. Object creation will fail if spilling is required.\n",
      "\u001b[33m(raylet)\u001b[0m [2024-02-23 11:38:06,190 E 58843 531688] (raylet) file_system_monitor.cc:111: /tmp/ray/session_2024-02-23_11-29-52_330678_58831 is over 95% full, available space: 6560083968; capacity: 245107195904. Object creation will fail if spilling is required.\n",
      "\u001b[33m(raylet)\u001b[0m [2024-02-23 11:38:16,240 E 58843 531688] (raylet) file_system_monitor.cc:111: /tmp/ray/session_2024-02-23_11-29-52_330678_58831 is over 95% full, available space: 6566834176; capacity: 245107195904. Object creation will fail if spilling is required.\n",
      "\u001b[33m(raylet)\u001b[0m [2024-02-23 11:38:26,272 E 58843 531688] (raylet) file_system_monitor.cc:111: /tmp/ray/session_2024-02-23_11-29-52_330678_58831 is over 95% full, available space: 6571638784; capacity: 245107195904. Object creation will fail if spilling is required.\n"
     ]
    },
    {
     "name": "stdout",
     "output_type": "stream",
     "text": [
      "  1/313 [..............................] - ETA: 3:58 - loss: 0.5361 - accuracy: 0.8750\n",
      " 41/313 [==>...........................] - ETA: 0s - loss: 0.3591 - accuracy: 0.8765  \n",
      " 65/313 [=====>........................] - ETA: 0s - loss: 0.3454 - accuracy: 0.8793\n",
      " 68/313 [=====>........................] - ETA: 1s - loss: 0.3383 - accuracy: 0.8824\n",
      "  9/313 [..............................] - ETA: 4s - loss: 0.3369 - accuracy: 0.8993 \n",
      " 72/313 [=====>........................] - ETA: 1s - loss: 0.3348 - accuracy: 0.8832\n",
      " 86/313 [=======>......................] - ETA: 1s - loss: 0.3470 - accuracy: 0.8783\n",
      " 13/313 [>.............................] - ETA: 7s - loss: 0.3503 - accuracy: 0.8894\n",
      "125/313 [==========>...................] - ETA: 0s - loss: 0.3836 - accuracy: 0.8725\n",
      " 33/313 [==>...........................] - ETA: 3s - loss: 0.3873 - accuracy: 0.8930\n",
      "145/313 [============>.................] - ETA: 0s - loss: 0.3744 - accuracy: 0.8744\n",
      "149/313 [=============>................] - ETA: 0s - loss: 0.3759 - accuracy: 0.8737\n",
      " 92/313 [=======>......................] - ETA: 1s - loss: 0.3927 - accuracy: 0.8818\n",
      "185/313 [================>.............] - ETA: 0s - loss: 0.3910 - accuracy: 0.8703\n",
      "105/313 [=========>....................] - ETA: 1s - loss: 0.4053 - accuracy: 0.8792\n",
      "208/313 [==================>...........] - ETA: 0s - loss: 0.3895 - accuracy: 0.8708\n",
      "127/313 [===========>..................] - ETA: 1s - loss: 0.4330 - accuracy: 0.8760\n",
      "211/313 [===================>..........] - ETA: 0s - loss: 0.3897 - accuracy: 0.8706\n",
      "130/313 [===========>..................] - ETA: 1s - loss: 0.4385 - accuracy: 0.8748\n",
      "224/313 [====================>.........] - ETA: 0s - loss: 0.3869 - accuracy: 0.8714\n",
      "146/313 [============>.................] - ETA: 1s - loss: 0.4250 - accuracy: 0.8774\n",
      "231/313 [=====================>........] - ETA: 0s - loss: 0.3864 - accuracy: 0.8718\n",
      "161/313 [==============>...............] - ETA: 1s - loss: 0.4377 - accuracy: 0.8750\n",
      "238/313 [=====================>........] - ETA: 0s - loss: 0.3813 - accuracy: 0.8734\n",
      "177/313 [===============>..............] - ETA: 1s - loss: 0.4480 - accuracy: 0.8724\n",
      "272/313 [=========================>....] - ETA: 0s - loss: 0.3755 - accuracy: 0.8745\n",
      "208/313 [==================>...........] - ETA: 0s - loss: 0.4526 - accuracy: 0.8697\n",
      "307/313 [============================>.] - ETA: 0s - loss: 0.3773 - accuracy: 0.8748\n",
      "216/313 [===================>..........] - ETA: 0s - loss: 0.4494 - accuracy: 0.8704\n",
      "313/313 [==============================] - 3s 6ms/step - loss: 0.3771 - accuracy: 0.8749\n",
      "223/313 [====================>.........] - ETA: 0s - loss: 0.4509 - accuracy: 0.8701\n",
      "240/313 [======================>.......] - ETA: 0s - loss: 0.4438 - accuracy: 0.8712\n",
      "257/313 [=======================>......] - ETA: 0s - loss: 0.4410 - accuracy: 0.8717\n",
      "263/313 [========================>.....] - ETA: 0s - loss: 0.4383 - accuracy: 0.8727\n",
      "268/313 [========================>.....] - ETA: 0s - loss: 0.4374 - accuracy: 0.8731\n",
      "284/313 [==========================>...] - ETA: 0s - loss: 0.4384 - accuracy: 0.8733\n",
      "306/313 [============================>.] - ETA: 0s - loss: 0.4355 - accuracy: 0.8723\n",
      "313/313 [==============================] - 2s 8ms/step - loss: 0.4352 - accuracy: 0.8723\n"
     ]
    },
    {
     "name": "stderr",
     "output_type": "stream",
     "text": [
      "\u001b[33m(raylet)\u001b[0m [2024-02-23 11:38:36,373 E 58843 531688] (raylet) file_system_monitor.cc:111: /tmp/ray/session_2024-02-23_11-29-52_330678_58831 is over 95% full, available space: 6565249024; capacity: 245107195904. Object creation will fail if spilling is required.\n",
      "\u001b[33m(raylet)\u001b[0m [2024-02-23 11:38:46,377 E 58843 531688] (raylet) file_system_monitor.cc:111: /tmp/ray/session_2024-02-23_11-29-52_330678_58831 is over 95% full, available space: 6667194368; capacity: 245107195904. Object creation will fail if spilling is required.\n",
      "\u001b[33m(raylet)\u001b[0m [2024-02-23 11:38:56,390 E 58843 531688] (raylet) file_system_monitor.cc:111: /tmp/ray/session_2024-02-23_11-29-52_330678_58831 is over 95% full, available space: 5587955712; capacity: 245107195904. Object creation will fail if spilling is required.\n",
      "\u001b[33m(raylet)\u001b[0m [2024-02-23 11:39:06,391 E 58843 531688] (raylet) file_system_monitor.cc:111: /tmp/ray/session_2024-02-23_11-29-52_330678_58831 is over 95% full, available space: 5591105536; capacity: 245107195904. Object creation will fail if spilling is required.\n"
     ]
    },
    {
     "name": "stdout",
     "output_type": "stream",
     "text": [
      "  1/313 [..............................] - ETA: 7s - loss: 0.6205 - accuracy: 0.8438\u001b[32m [repeated 2x across cluster]\u001b[0m\n",
      " 72/313 [=====>........................] - ETA: 1s - loss: 0.3659 - accuracy: 0.8911\n",
      "277/313 [=========================>....] - ETA: 0s - loss: 0.4381 - accuracy: 0.8732\n",
      " 58/313 [====>.........................] - ETA: 0s - loss: 0.3686 - accuracy: 0.8831\n",
      "109/313 [=========>....................] - ETA: 0s - loss: 0.3894 - accuracy: 0.8761\n",
      "117/313 [==========>...................] - ETA: 0s - loss: 0.3922 - accuracy: 0.8755\n",
      "126/313 [===========>..................] - ETA: 0s - loss: 0.4000 - accuracy: 0.8750\n",
      "130/313 [===========>..................] - ETA: 0s - loss: 0.4077 - accuracy: 0.8736\n",
      "152/313 [=============>................] - ETA: 0s - loss: 0.4081 - accuracy: 0.8758\n",
      "175/313 [===============>..............] - ETA: 0s - loss: 0.4212 - accuracy: 0.8725\n",
      "179/313 [================>.............] - ETA: 0s - loss: 0.4205 - accuracy: 0.8717\n",
      "188/313 [=================>............] - ETA: 0s - loss: 0.4192 - accuracy: 0.8720\n",
      "211/313 [===================>..........] - ETA: 0s - loss: 0.4186 - accuracy: 0.8716\n",
      "232/313 [=====================>........] - ETA: 0s - loss: 0.4127 - accuracy: 0.8727\n",
      "238/313 [=====================>........] - ETA: 0s - loss: 0.4080 - accuracy: 0.8738\n",
      "260/313 [=======================>......] - ETA: 0s - loss: 0.4025 - accuracy: 0.8742\n",
      "264/313 [========================>.....] - ETA: 0s - loss: 0.4010 - accuracy: 0.8743\n",
      "313/313 [==============================] - 2s 5ms/step - loss: 0.4000 - accuracy: 0.8755\n"
     ]
    },
    {
     "name": "stderr",
     "output_type": "stream",
     "text": [
      "\u001b[33m(raylet)\u001b[0m [2024-02-23 11:39:16,398 E 58843 531688] (raylet) file_system_monitor.cc:111: /tmp/ray/session_2024-02-23_11-29-52_330678_58831 is over 95% full, available space: 5589721088; capacity: 245107195904. Object creation will fail if spilling is required.\n",
      "\u001b[33m(raylet)\u001b[0m [2024-02-23 11:39:26,455 E 58843 531688] (raylet) file_system_monitor.cc:111: /tmp/ray/session_2024-02-23_11-29-52_330678_58831 is over 95% full, available space: 5581893632; capacity: 245107195904. Object creation will fail if spilling is required.\n",
      "\u001b[33m(raylet)\u001b[0m [2024-02-23 11:39:36,492 E 58843 531688] (raylet) file_system_monitor.cc:111: /tmp/ray/session_2024-02-23_11-29-52_330678_58831 is over 95% full, available space: 5581840384; capacity: 245107195904. Object creation will fail if spilling is required.\n",
      "\u001b[33m(raylet)\u001b[0m [2024-02-23 11:39:46,521 E 58843 531688] (raylet) file_system_monitor.cc:111: /tmp/ray/session_2024-02-23_11-29-52_330678_58831 is over 95% full, available space: 5591728128; capacity: 245107195904. Object creation will fail if spilling is required.\n",
      "\u001b[33m(raylet)\u001b[0m [2024-02-23 11:39:56,566 E 58843 531688] (raylet) file_system_monitor.cc:111: /tmp/ray/session_2024-02-23_11-29-52_330678_58831 is over 95% full, available space: 5591212032; capacity: 245107195904. Object creation will fail if spilling is required.\n",
      "\u001b[33m(raylet)\u001b[0m [2024-02-23 11:40:06,574 E 58843 531688] (raylet) file_system_monitor.cc:111: /tmp/ray/session_2024-02-23_11-29-52_330678_58831 is over 95% full, available space: 8818462720; capacity: 245107195904. Object creation will fail if spilling is required.\n"
     ]
    },
    {
     "name": "stdout",
     "output_type": "stream",
     "text": [
      " 43/313 [===>..........................] - ETA: 0s - loss: 0.3936 - accuracy: 0.8626  \n",
      " 76/313 [======>.......................] - ETA: 0s - loss: 0.3723 - accuracy: 0.8623\n",
      " 79/313 [======>.......................] - ETA: 0s - loss: 0.3766 - accuracy: 0.8616\n",
      "101/313 [========>.....................] - ETA: 0s - loss: 0.3945 - accuracy: 0.8595\n",
      "105/313 [=========>....................] - ETA: 0s - loss: 0.4016 - accuracy: 0.8568\n",
      "117/313 [==========>...................] - ETA: 0s - loss: 0.4048 - accuracy: 0.8579\n",
      "137/313 [============>.................] - ETA: 0s - loss: 0.4035 - accuracy: 0.8586\n",
      "156/313 [=============>................] - ETA: 0s - loss: 0.3959 - accuracy: 0.8604\n",
      "157/313 [==============>...............] - ETA: 0s - loss: 0.3978 - accuracy: 0.8599\n",
      "192/313 [=================>............] - ETA: 0s - loss: 0.4126 - accuracy: 0.8577\n",
      "202/313 [==================>...........] - ETA: 0s - loss: 0.4104 - accuracy: 0.8583\n",
      "219/313 [===================>..........] - ETA: 0s - loss: 0.4123 - accuracy: 0.8573\n",
      "231/313 [=====================>........] - ETA: 0s - loss: 0.4102 - accuracy: 0.8574\n",
      "243/313 [======================>.......] - ETA: 0s - loss: 0.4048 - accuracy: 0.8601\n",
      "271/313 [========================>.....] - ETA: 0s - loss: 0.4052 - accuracy: 0.8591\n",
      "313/313 [==============================] - 3s 5ms/step - loss: 0.4075 - accuracy: 0.8576\n"
     ]
    },
    {
     "name": "stderr",
     "output_type": "stream",
     "text": [
      "\u001b[33m(raylet)\u001b[0m [2024-02-23 11:40:16,673 E 58843 531688] (raylet) file_system_monitor.cc:111: /tmp/ray/session_2024-02-23_11-29-52_330678_58831 is over 95% full, available space: 8818188288; capacity: 245107195904. Object creation will fail if spilling is required.\n"
     ]
    },
    {
     "name": "stdout",
     "output_type": "stream",
     "text": [
      "  1/313 [..............................] - ETA: 1:00 - loss: 0.3374 - accuracy: 0.8438\n",
      " 78/313 [======>.......................] - ETA: 0s - loss: 0.3289 - accuracy: 0.8762\n",
      "120/313 [==========>...................] - ETA: 0s - loss: 0.3592 - accuracy: 0.8685\n",
      "122/313 [==========>...................] - ETA: 0s - loss: 0.3616 - accuracy: 0.8683\n",
      "136/313 [============>.................] - ETA: 0s - loss: 0.3627 - accuracy: 0.8672\n",
      "161/313 [==============>...............] - ETA: 0s - loss: 0.3621 - accuracy: 0.8688\n",
      "176/313 [===============>..............] - ETA: 0s - loss: 0.3701 - accuracy: 0.8697\n",
      "209/313 [===================>..........] - ETA: 0s - loss: 0.3691 - accuracy: 0.8698\n",
      "229/313 [====================>.........] - ETA: 0s - loss: 0.3655 - accuracy: 0.8704\n",
      "250/313 [======================>.......] - ETA: 0s - loss: 0.3589 - accuracy: 0.8723\n",
      "274/313 [=========================>....] - ETA: 0s - loss: 0.3582 - accuracy: 0.8710\n",
      "284/313 [==========================>...] - ETA: 0s - loss: 0.3576 - accuracy: 0.8718\n",
      "313/313 [==============================] - 1s 4ms/step - loss: 0.3572 - accuracy: 0.8717\n"
     ]
    },
    {
     "name": "stderr",
     "output_type": "stream",
     "text": [
      "\u001b[33m(raylet)\u001b[0m [2024-02-23 11:40:26,773 E 58843 531688] (raylet) file_system_monitor.cc:111: /tmp/ray/session_2024-02-23_11-29-52_330678_58831 is over 95% full, available space: 8816603136; capacity: 245107195904. Object creation will fail if spilling is required.\n",
      "\u001b[33m(raylet)\u001b[0m [2024-02-23 11:40:36,774 E 58843 531688] (raylet) file_system_monitor.cc:111: /tmp/ray/session_2024-02-23_11-29-52_330678_58831 is over 95% full, available space: 8844165120; capacity: 245107195904. Object creation will fail if spilling is required.\n",
      "\u001b[33m(raylet)\u001b[0m [2024-02-23 11:40:46,775 E 58843 531688] (raylet) file_system_monitor.cc:111: /tmp/ray/session_2024-02-23_11-29-52_330678_58831 is over 95% full, available space: 8841228288; capacity: 245107195904. Object creation will fail if spilling is required.\n",
      "\u001b[33m(raylet)\u001b[0m [2024-02-23 11:40:56,776 E 58843 531688] (raylet) file_system_monitor.cc:111: /tmp/ray/session_2024-02-23_11-29-52_330678_58831 is over 95% full, available space: 8841084928; capacity: 245107195904. Object creation will fail if spilling is required.\n",
      "\u001b[33m(raylet)\u001b[0m [2024-02-23 11:41:06,876 E 58843 531688] (raylet) file_system_monitor.cc:111: /tmp/ray/session_2024-02-23_11-29-52_330678_58831 is over 95% full, available space: 8840040448; capacity: 245107195904. Object creation will fail if spilling is required.\n",
      "\u001b[33m(raylet)\u001b[0m [2024-02-23 11:41:16,945 E 58843 531688] (raylet) file_system_monitor.cc:111: /tmp/ray/session_2024-02-23_11-29-52_330678_58831 is over 95% full, available space: 8839217152; capacity: 245107195904. Object creation will fail if spilling is required.\n",
      "\u001b[33m(raylet)\u001b[0m [2024-02-23 11:41:26,949 E 58843 531688] (raylet) file_system_monitor.cc:111: /tmp/ray/session_2024-02-23_11-29-52_330678_58831 is over 95% full, available space: 8837222400; capacity: 245107195904. Object creation will fail if spilling is required.\n"
     ]
    },
    {
     "name": "stdout",
     "output_type": "stream",
     "text": [
      "  4/313 [..............................] - ETA: 8s - loss: 0.3089 - accuracy: 0.8906\n",
      " 28/313 [=>............................] - ETA: 1s - loss: 0.3552 - accuracy: 0.8795\n",
      " 75/313 [======>.......................] - ETA: 0s - loss: 0.3428 - accuracy: 0.8758\n",
      " 95/313 [========>.....................] - ETA: 0s - loss: 0.3565 - accuracy: 0.8720\n",
      "123/313 [==========>...................] - ETA: 0s - loss: 0.3752 - accuracy: 0.8666\n",
      "147/313 [=============>................] - ETA: 0s - loss: 0.3744 - accuracy: 0.8667\n",
      "174/313 [===============>..............] - ETA: 0s - loss: 0.3851 - accuracy: 0.8642\n",
      "194/313 [=================>............] - ETA: 0s - loss: 0.3854 - accuracy: 0.8628\n",
      "212/313 [===================>..........] - ETA: 0s - loss: 0.3836 - accuracy: 0.8636\n",
      "228/313 [====================>.........] - ETA: 0s - loss: 0.3801 - accuracy: 0.8643\n",
      "234/313 [=====================>........] - ETA: 0s - loss: 0.3776 - accuracy: 0.8650\n",
      "241/313 [======================>.......] - ETA: 0s - loss: 0.3744 - accuracy: 0.8661\n",
      "246/313 [======================>.......] - ETA: 0s - loss: 0.3721 - accuracy: 0.8666\n",
      "258/313 [=======================>......] - ETA: 0s - loss: 0.3726 - accuracy: 0.8664\n",
      "276/313 [=========================>....] - ETA: 0s - loss: 0.3728 - accuracy: 0.8659\n",
      "294/313 [===========================>..] - ETA: 0s - loss: 0.3722 - accuracy: 0.8664\n",
      "302/313 [===========================>..] - ETA: 0s - loss: 0.3742 - accuracy: 0.8664\n",
      "304/313 [============================>.] - ETA: 0s - loss: 0.3741 - accuracy: 0.8663\n",
      "313/313 [==============================] - ETA: 0s - loss: 0.3728 - accuracy: 0.8662\n",
      "313/313 [==============================] - 2s 7ms/step - loss: 0.3728 - accuracy: 0.8662\n"
     ]
    },
    {
     "name": "stderr",
     "output_type": "stream",
     "text": [
      "\u001b[33m(raylet)\u001b[0m [2024-02-23 11:41:36,967 E 58843 531688] (raylet) file_system_monitor.cc:111: /tmp/ray/session_2024-02-23_11-29-52_330678_58831 is over 95% full, available space: 7759634432; capacity: 245107195904. Object creation will fail if spilling is required.\n"
     ]
    },
    {
     "name": "stdout",
     "output_type": "stream",
     "text": [
      " 15/313 [>.............................] - ETA: 1s - loss: 0.3986 - accuracy: 0.8667\n",
      " 74/313 [======>.......................] - ETA: 0s - loss: 0.3651 - accuracy: 0.8813\n",
      "121/313 [==========>...................] - ETA: 0s - loss: 0.4093 - accuracy: 0.8716\n",
      "135/313 [===========>..................] - ETA: 0s - loss: 0.4143 - accuracy: 0.8704\n",
      "141/313 [============>.................] - ETA: 0s - loss: 0.4077 - accuracy: 0.8721\n",
      "162/313 [==============>...............] - ETA: 0s - loss: 0.4099 - accuracy: 0.8717\n",
      "172/313 [===============>..............] - ETA: 0s - loss: 0.4137 - accuracy: 0.8726\n",
      "184/313 [================>.............] - ETA: 0s - loss: 0.4186 - accuracy: 0.8726\n",
      "192/313 [=================>............] - ETA: 0s - loss: 0.4182 - accuracy: 0.8732\n",
      "216/313 [===================>..........] - ETA: 0s - loss: 0.4185 - accuracy: 0.8724\n",
      "284/313 [==========================>...] - ETA: 0s - loss: 0.4078 - accuracy: 0.8744\n",
      "288/313 [==========================>...] - ETA: 0s - loss: 0.4071 - accuracy: 0.8745\n",
      "295/313 [===========================>..] - ETA: 0s - loss: 0.4056 - accuracy: 0.8744\n",
      "313/313 [==============================] - 1s 5ms/step - loss: 0.4037 - accuracy: 0.8751\n"
     ]
    },
    {
     "name": "stderr",
     "output_type": "stream",
     "text": [
      "\u001b[33m(raylet)\u001b[0m [2024-02-23 11:41:47,002 E 58843 531688] (raylet) file_system_monitor.cc:111: /tmp/ray/session_2024-02-23_11-29-52_330678_58831 is over 95% full, available space: 7760470016; capacity: 245107195904. Object creation will fail if spilling is required.\n",
      "\u001b[33m(raylet)\u001b[0m [2024-02-23 11:41:57,002 E 58843 531688] (raylet) file_system_monitor.cc:111: /tmp/ray/session_2024-02-23_11-29-52_330678_58831 is over 95% full, available space: 7760293888; capacity: 245107195904. Object creation will fail if spilling is required.\n",
      "\u001b[33m(raylet)\u001b[0m [2024-02-23 11:42:07,050 E 58843 531688] (raylet) file_system_monitor.cc:111: /tmp/ray/session_2024-02-23_11-29-52_330678_58831 is over 95% full, available space: 7763660800; capacity: 245107195904. Object creation will fail if spilling is required.\n"
     ]
    },
    {
     "name": "stdout",
     "output_type": "stream",
     "text": [
      "  1/313 [..............................] - ETA: 1:55 - loss: 0.4323 - accuracy: 0.9062\n",
      " 42/313 [===>..........................] - ETA: 0s - loss: 0.3858 - accuracy: 0.8839\n",
      " 53/313 [====>.........................] - ETA: 1s - loss: 0.3617 - accuracy: 0.8862\n",
      " 54/313 [====>.........................] - ETA: 1s - loss: 0.3578 - accuracy: 0.8872\n",
      " 65/313 [=====>........................] - ETA: 1s - loss: 0.3628 - accuracy: 0.8851\n",
      " 76/313 [======>.......................] - ETA: 1s - loss: 0.3493 - accuracy: 0.8877\n",
      " 95/313 [========>.....................] - ETA: 1s - loss: 0.3770 - accuracy: 0.8789\n",
      "119/313 [==========>...................] - ETA: 1s - loss: 0.3902 - accuracy: 0.8761\n",
      "159/313 [==============>...............] - ETA: 0s - loss: 0.3948 - accuracy: 0.8738\n",
      "188/313 [=================>............] - ETA: 0s - loss: 0.3982 - accuracy: 0.8740\n",
      "208/313 [==================>...........] - ETA: 0s - loss: 0.3938 - accuracy: 0.8745\n",
      "261/313 [========================>.....] - ETA: 0s - loss: 0.3778 - accuracy: 0.8782\n",
      "313/313 [==============================] - 2s 4ms/step - loss: 0.3739 - accuracy: 0.8791\n"
     ]
    },
    {
     "name": "stderr",
     "output_type": "stream",
     "text": [
      "\u001b[33m(raylet)\u001b[0m [2024-02-23 11:42:17,114 E 58843 531688] (raylet) file_system_monitor.cc:111: /tmp/ray/session_2024-02-23_11-29-52_330678_58831 is over 95% full, available space: 8849285120; capacity: 245107195904. Object creation will fail if spilling is required.\n",
      "\u001b[33m(raylet)\u001b[0m [2024-02-23 11:42:27,122 E 58843 531688] (raylet) file_system_monitor.cc:111: /tmp/ray/session_2024-02-23_11-29-52_330678_58831 is over 95% full, available space: 8863191040; capacity: 245107195904. Object creation will fail if spilling is required.\n",
      "\u001b[33m(raylet)\u001b[0m [2024-02-23 11:42:37,147 E 58843 531688] (raylet) file_system_monitor.cc:111: /tmp/ray/session_2024-02-23_11-29-52_330678_58831 is over 95% full, available space: 8863150080; capacity: 245107195904. Object creation will fail if spilling is required.\n"
     ]
    },
    {
     "name": "stdout",
     "output_type": "stream",
     "text": [
      " 57/313 [====>.........................] - ETA: 0s - loss: 0.3739 - accuracy: 0.8816\n",
      "103/313 [========>.....................] - ETA: 0s - loss: 0.3915 - accuracy: 0.8759\n",
      "115/313 [==========>...................] - ETA: 0s - loss: 0.3990 - accuracy: 0.8745\n",
      "122/313 [==========>...................] - ETA: 0s - loss: 0.4044 - accuracy: 0.8745\n",
      "153/313 [=============>................] - ETA: 0s - loss: 0.4087 - accuracy: 0.8713\n",
      "238/313 [=====================>........] - ETA: 0s - loss: 0.4003 - accuracy: 0.8734\n",
      "257/313 [=======================>......] - ETA: 0s - loss: 0.3942 - accuracy: 0.8739\n",
      "283/313 [==========================>...] - ETA: 0s - loss: 0.3930 - accuracy: 0.8753\n",
      "299/313 [===========================>..] - ETA: 0s - loss: 0.3945 - accuracy: 0.8753\n",
      "313/313 [==============================] - 1s 4ms/step - loss: 0.3915 - accuracy: 0.8757\n"
     ]
    },
    {
     "name": "stderr",
     "output_type": "stream",
     "text": [
      "\u001b[33m(raylet)\u001b[0m [2024-02-23 11:42:47,149 E 58843 531688] (raylet) file_system_monitor.cc:111: /tmp/ray/session_2024-02-23_11-29-52_330678_58831 is over 95% full, available space: 8861474816; capacity: 245107195904. Object creation will fail if spilling is required.\n",
      "\u001b[33m(raylet)\u001b[0m [2024-02-23 11:42:57,250 E 58843 531688] (raylet) file_system_monitor.cc:111: /tmp/ray/session_2024-02-23_11-29-52_330678_58831 is over 95% full, available space: 8861233152; capacity: 245107195904. Object creation will fail if spilling is required.\n",
      "\u001b[33m(raylet)\u001b[0m [2024-02-23 11:43:07,250 E 58843 531688] (raylet) file_system_monitor.cc:111: /tmp/ray/session_2024-02-23_11-29-52_330678_58831 is over 95% full, available space: 8860323840; capacity: 245107195904. Object creation will fail if spilling is required.\n",
      "\u001b[33m(raylet)\u001b[0m [2024-02-23 11:43:17,252 E 58843 531688] (raylet) file_system_monitor.cc:111: /tmp/ray/session_2024-02-23_11-29-52_330678_58831 is over 95% full, available space: 8859680768; capacity: 245107195904. Object creation will fail if spilling is required.\n",
      "\u001b[33m(raylet)\u001b[0m [2024-02-23 11:43:27,266 E 58843 531688] (raylet) file_system_monitor.cc:111: /tmp/ray/session_2024-02-23_11-29-52_330678_58831 is over 95% full, available space: 8859705344; capacity: 245107195904. Object creation will fail if spilling is required.\n",
      "\u001b[33m(raylet)\u001b[0m [2024-02-23 11:43:37,367 E 58843 531688] (raylet) file_system_monitor.cc:111: /tmp/ray/session_2024-02-23_11-29-52_330678_58831 is over 95% full, available space: 8859451392; capacity: 245107195904. Object creation will fail if spilling is required.\n"
     ]
    },
    {
     "name": "stdout",
     "output_type": "stream",
     "text": [
      " 17/313 [>.............................] - ETA: 1s - loss: 0.3424 - accuracy: 0.8860\n",
      " 47/313 [===>..........................] - ETA: 0s - loss: 0.3432 - accuracy: 0.8823\n",
      " 78/313 [======>.......................] - ETA: 0s - loss: 0.3291 - accuracy: 0.8830\n",
      " 92/313 [=======>......................] - ETA: 0s - loss: 0.3423 - accuracy: 0.8770\n",
      "124/313 [==========>...................] - ETA: 0s - loss: 0.3614 - accuracy: 0.8740\n",
      "141/313 [============>.................] - ETA: 0s - loss: 0.3584 - accuracy: 0.8757\n",
      "173/313 [===============>..............] - ETA: 0s - loss: 0.3727 - accuracy: 0.8746\n",
      "212/313 [===================>..........] - ETA: 0s - loss: 0.3712 - accuracy: 0.8744\n",
      "230/313 [=====================>........] - ETA: 0s - loss: 0.3689 - accuracy: 0.8745\n",
      "251/313 [=======================>......] - ETA: 0s - loss: 0.3613 - accuracy: 0.8770\n",
      "268/313 [========================>.....] - ETA: 0s - loss: 0.3589 - accuracy: 0.8772\n",
      "295/313 [===========================>..] - ETA: 0s - loss: 0.3603 - accuracy: 0.8763\n",
      "313/313 [==============================] - 1s 4ms/step - loss: 0.3598 - accuracy: 0.8768\n"
     ]
    },
    {
     "name": "stderr",
     "output_type": "stream",
     "text": [
      "\u001b[33m(raylet)\u001b[0m [2024-02-23 11:43:47,459 E 58843 531688] (raylet) file_system_monitor.cc:111: /tmp/ray/session_2024-02-23_11-29-52_330678_58831 is over 95% full, available space: 8859459584; capacity: 245107195904. Object creation will fail if spilling is required.\n"
     ]
    },
    {
     "name": "stdout",
     "output_type": "stream",
     "text": [
      "  1/313 [..............................] - ETA: 1:14 - loss: 0.4591 - accuracy: 0.8125\n",
      " 20/313 [>.............................] - ETA: 0s - loss: 0.3501 - accuracy: 0.8750  \n",
      " 28/313 [=>............................] - ETA: 1s - loss: 0.3547 - accuracy: 0.8772\n",
      " 47/313 [===>..........................] - ETA: 1s - loss: 0.3604 - accuracy: 0.8644\n",
      " 52/313 [===>..........................] - ETA: 1s - loss: 0.3550 - accuracy: 0.8660\n",
      " 61/313 [====>.........................] - ETA: 1s - loss: 0.3478 - accuracy: 0.8709\n",
      " 83/313 [======>.......................] - ETA: 1s - loss: 0.3552 - accuracy: 0.8682\n",
      "116/313 [==========>...................] - ETA: 1s - loss: 0.3788 - accuracy: 0.8661\n",
      "118/313 [==========>...................] - ETA: 1s - loss: 0.3800 - accuracy: 0.8647\n",
      "144/313 [============>.................] - ETA: 0s - loss: 0.3722 - accuracy: 0.8700\n",
      "160/313 [==============>...............] - ETA: 0s - loss: 0.3771 - accuracy: 0.8680\n",
      "178/313 [================>.............] - ETA: 0s - loss: 0.3865 - accuracy: 0.8673\n",
      "200/313 [==================>...........] - ETA: 0s - loss: 0.3848 - accuracy: 0.8684\n",
      "223/313 [====================>.........] - ETA: 0s - loss: 0.3864 - accuracy: 0.8677\n",
      "283/313 [==========================>...] - ETA: 0s - loss: 0.3774 - accuracy: 0.8697\n",
      "313/313 [==============================] - 2s 5ms/step - loss: 0.3757 - accuracy: 0.8699\n"
     ]
    },
    {
     "name": "stderr",
     "output_type": "stream",
     "text": [
      "\u001b[33m(raylet)\u001b[0m [2024-02-23 11:43:57,557 E 58843 531688] (raylet) file_system_monitor.cc:111: /tmp/ray/session_2024-02-23_11-29-52_330678_58831 is over 95% full, available space: 7783620608; capacity: 245107195904. Object creation will fail if spilling is required.\n"
     ]
    },
    {
     "name": "stdout",
     "output_type": "stream",
     "text": [
      " 35/313 [==>...........................] - ETA: 0s - loss: 0.3657 - accuracy: 0.8777\n",
      " 96/313 [========>.....................] - ETA: 0s - loss: 0.3593 - accuracy: 0.8740\n",
      "140/313 [============>.................] - ETA: 0s - loss: 0.3675 - accuracy: 0.8717\n",
      "168/313 [===============>..............] - ETA: 0s - loss: 0.3708 - accuracy: 0.8705\n",
      "235/313 [=====================>........] - ETA: 0s - loss: 0.3690 - accuracy: 0.8715\n",
      "275/313 [=========================>....] - ETA: 0s - loss: 0.3660 - accuracy: 0.8733\n",
      "313/313 [==============================] - 1s 2ms/step - loss: 0.3657 - accuracy: 0.8738\n"
     ]
    },
    {
     "name": "stderr",
     "output_type": "stream",
     "text": [
      "\u001b[33m(raylet)\u001b[0m [2024-02-23 11:44:07,644 E 58843 531688] (raylet) file_system_monitor.cc:111: /tmp/ray/session_2024-02-23_11-29-52_330678_58831 is over 95% full, available space: 7782432768; capacity: 245107195904. Object creation will fail if spilling is required.\n"
     ]
    },
    {
     "name": "stdout",
     "output_type": "stream",
     "text": [
      " 26/313 [=>............................] - ETA: 0s - loss: 0.3526 - accuracy: 0.8906 \n",
      " 35/313 [==>...........................] - ETA: 1s - loss: 0.3498 - accuracy: 0.8839\n",
      " 40/313 [==>...........................] - ETA: 1s - loss: 0.3401 - accuracy: 0.8859\n",
      " 71/313 [=====>........................] - ETA: 1s - loss: 0.3183 - accuracy: 0.8886\n",
      " 92/313 [=======>......................] - ETA: 0s - loss: 0.3350 - accuracy: 0.8842\n",
      "101/313 [========>.....................] - ETA: 0s - loss: 0.3423 - accuracy: 0.8843\n",
      "113/313 [=========>....................] - ETA: 0s - loss: 0.3558 - accuracy: 0.8808\n",
      "129/313 [===========>..................] - ETA: 0s - loss: 0.3598 - accuracy: 0.8803\n",
      "196/313 [=================>............] - ETA: 0s - loss: 0.3664 - accuracy: 0.8814\n",
      "214/313 [===================>..........] - ETA: 0s - loss: 0.3663 - accuracy: 0.8820\n",
      "218/313 [===================>..........] - ETA: 0s - loss: 0.3658 - accuracy: 0.8822\n",
      "304/313 [============================>.] - ETA: 0s - loss: 0.3580 - accuracy: 0.8841\n",
      "313/313 [==============================] - 1s 3ms/step - loss: 0.3558 - accuracy: 0.8845\n"
     ]
    },
    {
     "name": "stderr",
     "output_type": "stream",
     "text": [
      "\u001b[33m(raylet)\u001b[0m [2024-02-23 11:44:17,649 E 58843 531688] (raylet) file_system_monitor.cc:111: /tmp/ray/session_2024-02-23_11-29-52_330678_58831 is over 95% full, available space: 7778873344; capacity: 245107195904. Object creation will fail if spilling is required.\n",
      "\u001b[33m(raylet)\u001b[0m [2024-02-23 11:44:27,743 E 58843 531688] (raylet) file_system_monitor.cc:111: /tmp/ray/session_2024-02-23_11-29-52_330678_58831 is over 95% full, available space: 7777484800; capacity: 245107195904. Object creation will fail if spilling is required.\n",
      "\u001b[33m(raylet)\u001b[0m [2024-02-23 11:44:37,768 E 58843 531688] (raylet) file_system_monitor.cc:111: /tmp/ray/session_2024-02-23_11-29-52_330678_58831 is over 95% full, available space: 7770824704; capacity: 245107195904. Object creation will fail if spilling is required.\n"
     ]
    },
    {
     "name": "stdout",
     "output_type": "stream",
     "text": [
      " 17/313 [>.............................] - ETA: 1s - loss: 0.3767 - accuracy: 0.8824 \n",
      " 22/313 [=>............................] - ETA: 2s - loss: 0.3701 - accuracy: 0.8750\n",
      " 52/313 [===>..........................] - ETA: 1s - loss: 0.3622 - accuracy: 0.8822\n",
      " 59/313 [====>.........................] - ETA: 1s - loss: 0.3510 - accuracy: 0.8819\n",
      "100/313 [========>.....................] - ETA: 1s - loss: 0.3619 - accuracy: 0.8794\n",
      "117/313 [==========>...................] - ETA: 1s - loss: 0.3731 - accuracy: 0.8766\n",
      "148/313 [=============>................] - ETA: 0s - loss: 0.3679 - accuracy: 0.8777\n",
      "157/313 [==============>...............] - ETA: 0s - loss: 0.3663 - accuracy: 0.8778\n",
      "179/313 [================>.............] - ETA: 0s - loss: 0.3794 - accuracy: 0.8764\n",
      "202/313 [==================>...........] - ETA: 0s - loss: 0.3731 - accuracy: 0.8770\n",
      "226/313 [====================>.........] - ETA: 0s - loss: 0.3735 - accuracy: 0.8757\n",
      "235/313 [=====================>........] - ETA: 0s - loss: 0.3690 - accuracy: 0.8771\n",
      "313/313 [==============================] - 1s 4ms/step - loss: 0.3602 - accuracy: 0.8789\n"
     ]
    },
    {
     "name": "stderr",
     "output_type": "stream",
     "text": [
      "\u001b[33m(raylet)\u001b[0m [2024-02-23 11:44:47,769 E 58843 531688] (raylet) file_system_monitor.cc:111: /tmp/ray/session_2024-02-23_11-29-52_330678_58831 is over 95% full, available space: 7780593664; capacity: 245107195904. Object creation will fail if spilling is required.\n"
     ]
    },
    {
     "name": "stdout",
     "output_type": "stream",
     "text": [
      " 34/313 [==>...........................] - ETA: 0s - loss: 0.3586 - accuracy: 0.8869  \n",
      " 75/313 [======>.......................] - ETA: 0s - loss: 0.3432 - accuracy: 0.8854\n",
      " 97/313 [========>.....................] - ETA: 0s - loss: 0.3587 - accuracy: 0.8779\n",
      "110/313 [=========>....................] - ETA: 0s - loss: 0.3654 - accuracy: 0.8764\n",
      "131/313 [===========>..................] - ETA: 0s - loss: 0.3729 - accuracy: 0.8738\n",
      "165/313 [==============>...............] - ETA: 0s - loss: 0.3788 - accuracy: 0.8720\n",
      "186/313 [================>.............] - ETA: 0s - loss: 0.3816 - accuracy: 0.8728\n",
      "206/313 [==================>...........] - ETA: 0s - loss: 0.3801 - accuracy: 0.8721\n",
      "225/313 [====================>.........] - ETA: 0s - loss: 0.3796 - accuracy: 0.8724\n",
      "255/313 [=======================>......] - ETA: 0s - loss: 0.3721 - accuracy: 0.8743\n",
      "278/313 [=========================>....] - ETA: 0s - loss: 0.3702 - accuracy: 0.8752\n",
      "313/313 [==============================] - 1s 4ms/step - loss: 0.3682 - accuracy: 0.8754\n"
     ]
    },
    {
     "name": "stderr",
     "output_type": "stream",
     "text": [
      "\u001b[33m(raylet)\u001b[0m [2024-02-23 11:44:57,862 E 58843 531688] (raylet) file_system_monitor.cc:111: /tmp/ray/session_2024-02-23_11-29-52_330678_58831 is over 95% full, available space: 6703398912; capacity: 245107195904. Object creation will fail if spilling is required.\n",
      "\u001b[33m(raylet)\u001b[0m [2024-02-23 11:45:07,943 E 58843 531688] (raylet) file_system_monitor.cc:111: /tmp/ray/session_2024-02-23_11-29-52_330678_58831 is over 95% full, available space: 6726455296; capacity: 245107195904. Object creation will fail if spilling is required.\n",
      "\u001b[33m(raylet)\u001b[0m [2024-02-23 11:45:17,944 E 58843 531688] (raylet) file_system_monitor.cc:111: /tmp/ray/session_2024-02-23_11-29-52_330678_58831 is over 95% full, available space: 6725390336; capacity: 245107195904. Object creation will fail if spilling is required.\n"
     ]
    },
    {
     "name": "stdout",
     "output_type": "stream",
     "text": [
      " 21/313 [=>............................] - ETA: 0s - loss: 0.3843 - accuracy: 0.8616\n",
      " 36/313 [==>...........................] - ETA: 0s - loss: 0.3908 - accuracy: 0.8559\n",
      " 53/313 [====>.........................] - ETA: 0s - loss: 0.3769 - accuracy: 0.8608\n",
      " 61/313 [====>.........................] - ETA: 1s - loss: 0.3701 - accuracy: 0.8637\n",
      " 79/313 [======>.......................] - ETA: 1s - loss: 0.3739 - accuracy: 0.8635\n",
      " 98/313 [========>.....................] - ETA: 1s - loss: 0.3887 - accuracy: 0.8607\n",
      "123/313 [==========>...................] - ETA: 0s - loss: 0.3942 - accuracy: 0.8610\n",
      "157/313 [==============>...............] - ETA: 0s - loss: 0.3918 - accuracy: 0.8607\n",
      "181/313 [================>.............] - ETA: 0s - loss: 0.4012 - accuracy: 0.8569\n",
      "240/313 [======================>.......] - ETA: 0s - loss: 0.3913 - accuracy: 0.8611\n",
      "279/313 [=========================>....] - ETA: 0s - loss: 0.3923 - accuracy: 0.8613\n",
      "313/313 [==============================] - 1s 4ms/step - loss: 0.3921 - accuracy: 0.8615\n"
     ]
    },
    {
     "name": "stderr",
     "output_type": "stream",
     "text": [
      "\u001b[33m(raylet)\u001b[0m [2024-02-23 11:45:28,044 E 58843 531688] (raylet) file_system_monitor.cc:111: /tmp/ray/session_2024-02-23_11-29-52_330678_58831 is over 95% full, available space: 6724935680; capacity: 245107195904. Object creation will fail if spilling is required.\n",
      "\u001b[33m(raylet)\u001b[0m [2024-02-23 11:45:38,144 E 58843 531688] (raylet) file_system_monitor.cc:111: /tmp/ray/session_2024-02-23_11-29-52_330678_58831 is over 95% full, available space: 6723731456; capacity: 245107195904. Object creation will fail if spilling is required.\n",
      "\u001b[33m(raylet)\u001b[0m [2024-02-23 11:45:48,153 E 58843 531688] (raylet) file_system_monitor.cc:111: /tmp/ray/session_2024-02-23_11-29-52_330678_58831 is over 95% full, available space: 6723522560; capacity: 245107195904. Object creation will fail if spilling is required.\n"
     ]
    },
    {
     "name": "stdout",
     "output_type": "stream",
     "text": [
      " 38/313 [==>...........................] - ETA: 0s - loss: 0.3780 - accuracy: 0.8791  \n",
      " 46/313 [===>..........................] - ETA: 1s - loss: 0.3705 - accuracy: 0.8811\n",
      " 77/313 [======>.......................] - ETA: 1s - loss: 0.3602 - accuracy: 0.8831\n",
      "119/313 [==========>...................] - ETA: 0s - loss: 0.3934 - accuracy: 0.8713\n",
      "137/313 [============>.................] - ETA: 0s - loss: 0.3958 - accuracy: 0.8702\n",
      "148/313 [=============>................] - ETA: 0s - loss: 0.3914 - accuracy: 0.8727\n",
      "210/313 [===================>..........] - ETA: 0s - loss: 0.4086 - accuracy: 0.8671\n",
      "238/313 [=====================>........] - ETA: 0s - loss: 0.4003 - accuracy: 0.8686\n",
      "255/313 [=======================>......] - ETA: 0s - loss: 0.3985 - accuracy: 0.8689\n",
      "273/313 [=========================>....] - ETA: 0s - loss: 0.3961 - accuracy: 0.8690\n",
      "313/313 [==============================] - 1s 4ms/step - loss: 0.3983 - accuracy: 0.8685\n"
     ]
    },
    {
     "name": "stderr",
     "output_type": "stream",
     "text": [
      "\u001b[33m(raylet)\u001b[0m [2024-02-23 11:45:58,153 E 58843 531688] (raylet) file_system_monitor.cc:111: /tmp/ray/session_2024-02-23_11-29-52_330678_58831 is over 95% full, available space: 6716129280; capacity: 245107195904. Object creation will fail if spilling is required.\n"
     ]
    },
    {
     "name": "stdout",
     "output_type": "stream",
     "text": [
      "  1/313 [..............................] - ETA: 5s - loss: 0.3743 - accuracy: 0.8750\n",
      " 97/313 [========>.....................] - ETA: 0s - loss: 0.3712 - accuracy: 0.8692\n",
      "140/313 [============>.................] - ETA: 0s - loss: 0.3810 - accuracy: 0.8663\n",
      "144/313 [============>.................] - ETA: 0s - loss: 0.3772 - accuracy: 0.8681\n",
      "197/313 [=================>............] - ETA: 0s - loss: 0.3870 - accuracy: 0.8642\n",
      "252/313 [=======================>......] - ETA: 0s - loss: 0.3798 - accuracy: 0.8657\n",
      "278/313 [=========================>....] - ETA: 0s - loss: 0.3794 - accuracy: 0.8661\n",
      "313/313 [==============================] - 1s 2ms/step - loss: 0.3818 - accuracy: 0.8656\n"
     ]
    },
    {
     "name": "stderr",
     "output_type": "stream",
     "text": [
      "\u001b[33m(raylet)\u001b[0m [2024-02-23 11:46:08,252 E 58843 531688] (raylet) file_system_monitor.cc:111: /tmp/ray/session_2024-02-23_11-29-52_330678_58831 is over 95% full, available space: 6713995264; capacity: 245107195904. Object creation will fail if spilling is required.\n"
     ]
    },
    {
     "name": "stdout",
     "output_type": "stream",
     "text": [
      "  1/313 [..............................] - ETA: 52s - loss: 0.5292 - accuracy: 0.8438\n",
      " 95/313 [========>.....................] - ETA: 0s - loss: 0.3668 - accuracy: 0.8717\n",
      "193/313 [=================>............] - ETA: 0s - loss: 0.3899 - accuracy: 0.8697\n",
      "213/313 [===================>..........] - ETA: 0s - loss: 0.3893 - accuracy: 0.8696\n",
      "232/313 [=====================>........] - ETA: 0s - loss: 0.3866 - accuracy: 0.8692\n",
      "265/313 [========================>.....] - ETA: 0s - loss: 0.3786 - accuracy: 0.8703\n",
      "313/313 [==============================] - 1s 2ms/step - loss: 0.3788 - accuracy: 0.8711\n",
      " 33/313 [==>...........................] - ETA: 0s - loss: 0.3639 - accuracy: 0.8807 \n",
      " 51/313 [===>..........................] - ETA: 1s - loss: 0.3433 - accuracy: 0.8817\n",
      " 81/313 [======>.......................] - ETA: 0s - loss: 0.3542 - accuracy: 0.8765\n",
      "114/313 [=========>....................] - ETA: 0s - loss: 0.3823 - accuracy: 0.8725\n",
      "168/313 [===============>..............] - ETA: 0s - loss: 0.3833 - accuracy: 0.8733\n",
      "188/313 [=================>............] - ETA: 0s - loss: 0.3930 - accuracy: 0.8712\n",
      "204/313 [==================>...........] - ETA: 0s - loss: 0.3884 - accuracy: 0.8715\n",
      "216/313 [===================>..........] - ETA: 0s - loss: 0.3894 - accuracy: 0.8709\n",
      "247/313 [======================>.......] - ETA: 0s - loss: 0.3785 - accuracy: 0.8742\n",
      "259/313 [=======================>......] - ETA: 0s - loss: 0.3798 - accuracy: 0.8736\n",
      "313/313 [==============================] - 1s 4ms/step - loss: 0.3767 - accuracy: 0.8766\n"
     ]
    },
    {
     "name": "stderr",
     "output_type": "stream",
     "text": [
      "\u001b[33m(raylet)\u001b[0m [2024-02-23 11:46:18,259 E 58843 531688] (raylet) file_system_monitor.cc:111: /tmp/ray/session_2024-02-23_11-29-52_330678_58831 is over 95% full, available space: 7788912640; capacity: 245107195904. Object creation will fail if spilling is required.\n",
      "\u001b[33m(raylet)\u001b[0m [2024-02-23 11:46:28,354 E 58843 531688] (raylet) file_system_monitor.cc:111: /tmp/ray/session_2024-02-23_11-29-52_330678_58831 is over 95% full, available space: 7786967040; capacity: 245107195904. Object creation will fail if spilling is required.\n",
      "\u001b[33m(raylet)\u001b[0m [2024-02-23 11:46:38,440 E 58843 531688] (raylet) file_system_monitor.cc:111: /tmp/ray/session_2024-02-23_11-29-52_330678_58831 is over 95% full, available space: 7786782720; capacity: 245107195904. Object creation will fail if spilling is required.\n",
      "\u001b[33m(raylet)\u001b[0m [2024-02-23 11:46:48,497 E 58843 531688] (raylet) file_system_monitor.cc:111: /tmp/ray/session_2024-02-23_11-29-52_330678_58831 is over 95% full, available space: 7786352640; capacity: 245107195904. Object creation will fail if spilling is required.\n"
     ]
    },
    {
     "name": "stdout",
     "output_type": "stream",
     "text": [
      " 41/313 [==>...........................] - ETA: 0s - loss: 0.3760 - accuracy: 0.8712 \n",
      " 50/313 [===>..........................] - ETA: 0s - loss: 0.3720 - accuracy: 0.8719\n",
      " 68/313 [=====>........................] - ETA: 0s - loss: 0.3609 - accuracy: 0.8704\n",
      " 83/313 [======>.......................] - ETA: 0s - loss: 0.3626 - accuracy: 0.8667\n",
      "108/313 [=========>....................] - ETA: 0s - loss: 0.3779 - accuracy: 0.8634\n",
      "133/313 [===========>..................] - ETA: 0s - loss: 0.3890 - accuracy: 0.8642\n",
      "162/313 [==============>...............] - ETA: 0s - loss: 0.3908 - accuracy: 0.8636\n",
      "222/313 [====================>.........] - ETA: 0s - loss: 0.3928 - accuracy: 0.8660\n",
      "267/313 [========================>.....] - ETA: 0s - loss: 0.3805 - accuracy: 0.8690\n",
      "279/313 [=========================>....] - ETA: 0s - loss: 0.3830 - accuracy: 0.8683\n",
      "298/313 [===========================>..] - ETA: 0s - loss: 0.3845 - accuracy: 0.8684\n",
      "313/313 [==============================] - 1s 4ms/step - loss: 0.3813 - accuracy: 0.8687\n"
     ]
    },
    {
     "name": "stderr",
     "output_type": "stream",
     "text": [
      "\u001b[33m(raylet)\u001b[0m [2024-02-23 11:46:58,511 E 58843 531688] (raylet) file_system_monitor.cc:111: /tmp/ray/session_2024-02-23_11-29-52_330678_58831 is over 95% full, available space: 6707302400; capacity: 245107195904. Object creation will fail if spilling is required.\n",
      "\u001b[33m(raylet)\u001b[0m [2024-02-23 11:47:08,555 E 58843 531688] (raylet) file_system_monitor.cc:111: /tmp/ray/session_2024-02-23_11-29-52_330678_58831 is over 95% full, available space: 6706257920; capacity: 245107195904. Object creation will fail if spilling is required.\n",
      "\u001b[33m(raylet)\u001b[0m [2024-02-23 11:47:18,585 E 58843 531688] (raylet) file_system_monitor.cc:111: /tmp/ray/session_2024-02-23_11-29-52_330678_58831 is over 95% full, available space: 6708375552; capacity: 245107195904. Object creation will fail if spilling is required.\n"
     ]
    },
    {
     "name": "stdout",
     "output_type": "stream",
     "text": [
      "  1/313 [..............................] - ETA: 9s - loss: 0.3759 - accuracy: 0.9062\n",
      "  8/313 [..............................] - ETA: 3s - loss: 0.3412 - accuracy: 0.8867\n",
      " 19/313 [>.............................] - ETA: 2s - loss: 0.3603 - accuracy: 0.8734\n",
      " 50/313 [===>..........................] - ETA: 1s - loss: 0.3687 - accuracy: 0.8644\n",
      " 71/313 [=====>........................] - ETA: 1s - loss: 0.3551 - accuracy: 0.8706\n",
      " 90/313 [=======>......................] - ETA: 0s - loss: 0.3635 - accuracy: 0.8667\n",
      "104/313 [========>.....................] - ETA: 1s - loss: 0.3828 - accuracy: 0.8615\n",
      "132/313 [===========>..................] - ETA: 0s - loss: 0.3904 - accuracy: 0.8594\n",
      "136/313 [============>.................] - ETA: 0s - loss: 0.3883 - accuracy: 0.8601\n",
      "160/313 [==============>...............] - ETA: 0s - loss: 0.3867 - accuracy: 0.8604\n",
      "174/313 [===============>..............] - ETA: 0s - loss: 0.3956 - accuracy: 0.8597\n"
     ]
    },
    {
     "name": "stderr",
     "output_type": "stream",
     "text": [
      "\u001b[33m(raylet)\u001b[0m [2024-02-23 11:47:28,601 E 58843 531688] (raylet) file_system_monitor.cc:111: /tmp/ray/session_2024-02-23_11-29-52_330678_58831 is over 95% full, available space: 6705713152; capacity: 245107195904. Object creation will fail if spilling is required.\n"
     ]
    },
    {
     "name": "stdout",
     "output_type": "stream",
     "text": [
      "187/313 [================>.............] - ETA: 0s - loss: 0.3957 - accuracy: 0.8585\n",
      "210/313 [===================>..........] - ETA: 0s - loss: 0.3981 - accuracy: 0.8580\n",
      "262/313 [========================>.....] - ETA: 0s - loss: 0.3879 - accuracy: 0.8597\n",
      "305/313 [============================>.] - ETA: 0s - loss: 0.3878 - accuracy: 0.8595\n",
      "313/313 [==============================] - 2s 5ms/step - loss: 0.3871 - accuracy: 0.8601\n"
     ]
    },
    {
     "name": "stderr",
     "output_type": "stream",
     "text": [
      "\u001b[33m(raylet)\u001b[0m [2024-02-23 11:47:38,618 E 58843 531688] (raylet) file_system_monitor.cc:111: /tmp/ray/session_2024-02-23_11-29-52_330678_58831 is over 95% full, available space: 6705577984; capacity: 245107195904. Object creation will fail if spilling is required.\n"
     ]
    },
    {
     "name": "stdout",
     "output_type": "stream",
     "text": [
      "  1/313 [..............................] - ETA: 1:06 - loss: 0.4433 - accuracy: 0.8438\n",
      " 45/313 [===>..........................] - ETA: 0s - loss: 0.3809 - accuracy: 0.8701  \n",
      " 79/313 [======>.......................] - ETA: 0s - loss: 0.3765 - accuracy: 0.8691\n",
      "111/313 [=========>....................] - ETA: 0s - loss: 0.4025 - accuracy: 0.8635\n",
      "133/313 [===========>..................] - ETA: 0s - loss: 0.4076 - accuracy: 0.8621\n",
      "197/313 [=================>............] - ETA: 0s - loss: 0.4106 - accuracy: 0.8595\n",
      "206/313 [==================>...........] - ETA: 0s - loss: 0.4121 - accuracy: 0.8585\n",
      "231/313 [=====================>........] - ETA: 0s - loss: 0.4107 - accuracy: 0.8593\n",
      "253/313 [=======================>......] - ETA: 0s - loss: 0.4069 - accuracy: 0.8599\n",
      "290/313 [==========================>...] - ETA: 0s - loss: 0.4069 - accuracy: 0.8588\n",
      "300/313 [===========================>..] - ETA: 0s - loss: 0.4077 - accuracy: 0.8585\n",
      "313/313 [==============================] - 1s 4ms/step - loss: 0.4053 - accuracy: 0.8594\n"
     ]
    },
    {
     "name": "stderr",
     "output_type": "stream",
     "text": [
      "\u001b[33m(raylet)\u001b[0m [2024-02-23 11:47:48,714 E 58843 531688] (raylet) file_system_monitor.cc:111: /tmp/ray/session_2024-02-23_11-29-52_330678_58831 is over 95% full, available space: 6705467392; capacity: 245107195904. Object creation will fail if spilling is required.\n",
      "\u001b[33m(raylet)\u001b[0m [2024-02-23 11:47:58,811 E 58843 531688] (raylet) file_system_monitor.cc:111: /tmp/ray/session_2024-02-23_11-29-52_330678_58831 is over 95% full, available space: 6704136192; capacity: 245107195904. Object creation will fail if spilling is required.\n",
      "\u001b[33m(raylet)\u001b[0m [2024-02-23 11:48:08,831 E 58843 531688] (raylet) file_system_monitor.cc:111: /tmp/ray/session_2024-02-23_11-29-52_330678_58831 is over 95% full, available space: 5623087104; capacity: 245107195904. Object creation will fail if spilling is required.\n"
     ]
    },
    {
     "name": "stdout",
     "output_type": "stream",
     "text": [
      "  1/313 [..............................] - ETA: 7s - loss: 0.3697 - accuracy: 0.9062\n",
      " 75/313 [======>.......................] - ETA: 0s - loss: 0.3667 - accuracy: 0.8683\n",
      " 78/313 [======>.......................] - ETA: 0s - loss: 0.3661 - accuracy: 0.8678\n",
      "125/313 [==========>...................] - ETA: 0s - loss: 0.4033 - accuracy: 0.8593\n",
      "146/313 [============>.................] - ETA: 0s - loss: 0.3975 - accuracy: 0.8609\n",
      "166/313 [==============>...............] - ETA: 0s - loss: 0.4052 - accuracy: 0.8582\n",
      "183/313 [================>.............] - ETA: 0s - loss: 0.4110 - accuracy: 0.8562\n",
      "212/313 [===================>..........] - ETA: 0s - loss: 0.4105 - accuracy: 0.8560\n",
      "232/313 [=====================>........] - ETA: 0s - loss: 0.4067 - accuracy: 0.8570\n",
      "252/313 [=======================>......] - ETA: 0s - loss: 0.4051 - accuracy: 0.8573\n",
      "290/313 [==========================>...] - ETA: 0s - loss: 0.4051 - accuracy: 0.8574\n"
     ]
    },
    {
     "name": "stderr",
     "output_type": "stream",
     "text": [
      "\u001b[33m(raylet)\u001b[0m [2024-02-23 11:48:18,837 E 58843 531688] (raylet) file_system_monitor.cc:111: /tmp/ray/session_2024-02-23_11-29-52_330678_58831 is over 95% full, available space: 5622423552; capacity: 245107195904. Object creation will fail if spilling is required.\n"
     ]
    },
    {
     "name": "stdout",
     "output_type": "stream",
     "text": [
      "\u001b[36m(train_model pid=58864)\u001b[0m \b\b\b\b\b\b\b\b\b\b\b\b\b\b\b\b\b\b\b\b\b\b\b\b\b\b\b\b\b\b\b\b\b\b\b\b\b\b\b\b\b\b\b\b\b\b\b\b\b\b\b\b\b\b\b\b\b\b\b\b\b\b\b\b\b\b\b\b\b\b\b\b\b\b\b\b\b\b\b\b\b\b\b\b\r",
      "313/313 [==============================] - 1s 4ms/step - loss: 0.4048 - accuracy: 0.8574\n"
     ]
    },
    {
     "name": "stderr",
     "output_type": "stream",
     "text": [
      "\u001b[33m(raylet)\u001b[0m [2024-02-23 11:48:28,881 E 58843 531688] (raylet) file_system_monitor.cc:111: /tmp/ray/session_2024-02-23_11-29-52_330678_58831 is over 95% full, available space: 5621305344; capacity: 245107195904. Object creation will fail if spilling is required.\n"
     ]
    },
    {
     "name": "stdout",
     "output_type": "stream",
     "text": [
      " 57/313 [====>.........................] - ETA: 0s - loss: 0.3858 - accuracy: 0.8695  \n",
      " 97/313 [========>.....................] - ETA: 0s - loss: 0.4030 - accuracy: 0.8640\n",
      "115/313 [==========>...................] - ETA: 0s - loss: 0.4211 - accuracy: 0.8614\n",
      "126/313 [===========>..................] - ETA: 0s - loss: 0.4237 - accuracy: 0.8616\n",
      "130/313 [===========>..................] - ETA: 0s - loss: 0.4310 - accuracy: 0.8591\n",
      "150/313 [=============>................] - ETA: 0s - loss: 0.4211 - accuracy: 0.8625\n",
      "168/313 [===============>..............] - ETA: 0s - loss: 0.4316 - accuracy: 0.8609\n",
      "210/313 [===================>..........] - ETA: 0s - loss: 0.4328 - accuracy: 0.8612\n",
      "217/313 [===================>..........] - ETA: 0s - loss: 0.4304 - accuracy: 0.8615\n",
      "233/313 [=====================>........] - ETA: 0s - loss: 0.4272 - accuracy: 0.8615\n",
      "252/313 [=======================>......] - ETA: 0s - loss: 0.4224 - accuracy: 0.8626\n",
      "276/313 [=========================>....] - ETA: 0s - loss: 0.4210 - accuracy: 0.8629\n",
      "292/313 [==========================>...] - ETA: 0s - loss: 0.4213 - accuracy: 0.8631\n",
      "313/313 [==============================] - 2s 5ms/step - loss: 0.4221 - accuracy: 0.8629\n"
     ]
    },
    {
     "name": "stderr",
     "output_type": "stream",
     "text": [
      "\u001b[33m(raylet)\u001b[0m [2024-02-23 11:48:38,975 E 58843 531688] (raylet) file_system_monitor.cc:111: /tmp/ray/session_2024-02-23_11-29-52_330678_58831 is over 95% full, available space: 5621186560; capacity: 245107195904. Object creation will fail if spilling is required.\n"
     ]
    },
    {
     "name": "stdout",
     "output_type": "stream",
     "text": [
      "  1/313 [..............................] - ETA: 7s - loss: 0.3032 - accuracy: 0.8438\n",
      " 11/313 [>.............................] - ETA: 3s - loss: 0.3208 - accuracy: 0.8920\n",
      " 12/313 [>.............................] - ETA: 4s - loss: 0.3415 - accuracy: 0.8854\n",
      " 16/313 [>.............................] - ETA: 5s - loss: 0.3360 - accuracy: 0.8906\n",
      " 36/313 [==>...........................] - ETA: 2s - loss: 0.3572 - accuracy: 0.8863\n",
      " 56/313 [====>.........................] - ETA: 2s - loss: 0.3422 - accuracy: 0.8890\n",
      " 90/313 [=======>......................] - ETA: 1s - loss: 0.3393 - accuracy: 0.8892\n",
      "124/313 [==========>...................] - ETA: 1s - loss: 0.3702 - accuracy: 0.8828\n",
      "136/313 [============>.................] - ETA: 1s - loss: 0.3717 - accuracy: 0.8814\n",
      "150/313 [=============>................] - ETA: 0s - loss: 0.3695 - accuracy: 0.8829\n",
      "169/313 [===============>..............] - ETA: 0s - loss: 0.3765 - accuracy: 0.8818\n",
      "189/313 [=================>............] - ETA: 0s - loss: 0.3832 - accuracy: 0.8795\n",
      "206/313 [==================>...........] - ETA: 0s - loss: 0.3813 - accuracy: 0.8792\n",
      "241/313 [======================>.......] - ETA: 0s - loss: 0.3686 - accuracy: 0.8811\n",
      "269/313 [========================>.....] - ETA: 0s - loss: 0.3650 - accuracy: 0.8824\n",
      "274/313 [=========================>....] - ETA: 0s - loss: 0.3669 - accuracy: 0.8817\n",
      "293/313 [===========================>..] - ETA: 0s - loss: 0.3676 - accuracy: 0.8814\n",
      "295/313 [===========================>..] - ETA: 0s - loss: 0.3663 - accuracy: 0.8817\n",
      "296/313 [===========================>..] - ETA: 0s - loss: 0.3678 - accuracy: 0.8815\n",
      "313/313 [==============================] - 2s 6ms/step - loss: 0.3643 - accuracy: 0.8826\n"
     ]
    },
    {
     "name": "stderr",
     "output_type": "stream",
     "text": [
      "\u001b[33m(raylet)\u001b[0m [2024-02-23 11:48:48,982 E 58843 531688] (raylet) file_system_monitor.cc:111: /tmp/ray/session_2024-02-23_11-29-52_330678_58831 is over 95% full, available space: 5618417664; capacity: 245107195904. Object creation will fail if spilling is required.\n",
      "\u001b[33m(raylet)\u001b[0m [2024-02-23 11:48:59,001 E 58843 531688] (raylet) file_system_monitor.cc:111: /tmp/ray/session_2024-02-23_11-29-52_330678_58831 is over 95% full, available space: 5626773504; capacity: 245107195904. Object creation will fail if spilling is required.\n"
     ]
    },
    {
     "name": "stdout",
     "output_type": "stream",
     "text": [
      "  1/313 [..............................] - ETA: 5s - loss: 0.2939 - accuracy: 0.9688\n",
      " 83/313 [======>.......................] - ETA: 0s - loss: 0.3615 - accuracy: 0.8837\n",
      "117/313 [==========>...................] - ETA: 0s - loss: 0.3973 - accuracy: 0.8745\n",
      "138/313 [============>.................] - ETA: 0s - loss: 0.4044 - accuracy: 0.8745\n",
      "147/313 [=============>................] - ETA: 0s - loss: 0.4007 - accuracy: 0.8746\n",
      "184/313 [================>.............] - ETA: 0s - loss: 0.4111 - accuracy: 0.8718\n",
      "227/313 [====================>.........] - ETA: 0s - loss: 0.4055 - accuracy: 0.8706\n",
      "245/313 [======================>.......] - ETA: 0s - loss: 0.3952 - accuracy: 0.8732\n",
      "275/313 [=========================>....] - ETA: 0s - loss: 0.3940 - accuracy: 0.8737\n",
      "313/313 [==============================] - 1s 3ms/step - loss: 0.3932 - accuracy: 0.8750\n"
     ]
    },
    {
     "name": "stderr",
     "output_type": "stream",
     "text": [
      "\u001b[33m(raylet)\u001b[0m [2024-02-23 11:49:09,002 E 58843 531688] (raylet) file_system_monitor.cc:111: /tmp/ray/session_2024-02-23_11-29-52_330678_58831 is over 95% full, available space: 5626662912; capacity: 245107195904. Object creation will fail if spilling is required.\n",
      "\u001b[33m(raylet)\u001b[0m [2024-02-23 11:49:19,102 E 58843 531688] (raylet) file_system_monitor.cc:111: /tmp/ray/session_2024-02-23_11-29-52_330678_58831 is over 95% full, available space: 5626585088; capacity: 245107195904. Object creation will fail if spilling is required.\n",
      "\u001b[33m(raylet)\u001b[0m [2024-02-23 11:49:29,201 E 58843 531688] (raylet) file_system_monitor.cc:111: /tmp/ray/session_2024-02-23_11-29-52_330678_58831 is over 95% full, available space: 5626068992; capacity: 245107195904. Object creation will fail if spilling is required.\n",
      "\u001b[33m(raylet)\u001b[0m [2024-02-23 11:49:39,389 E 58843 531688] (raylet) file_system_monitor.cc:111: /tmp/ray/session_2024-02-23_11-29-52_330678_58831 is over 95% full, available space: 5625434112; capacity: 245107195904. Object creation will fail if spilling is required.\n"
     ]
    },
    {
     "name": "stdout",
     "output_type": "stream",
     "text": [
      " 74/313 [======>.......................] - ETA: 0s - loss: 0.3780 - accuracy: 0.8657 \n",
      " 97/313 [========>.....................] - ETA: 0s - loss: 0.3997 - accuracy: 0.8573\n",
      "139/313 [============>.................] - ETA: 0s - loss: 0.4078 - accuracy: 0.8541\n",
      "157/313 [==============>...............] - ETA: 0s - loss: 0.4057 - accuracy: 0.8555\n",
      "170/313 [===============>..............] - ETA: 0s - loss: 0.4120 - accuracy: 0.8555\n",
      "250/313 [======================>.......] - ETA: 0s - loss: 0.4164 - accuracy: 0.8528\n",
      "263/313 [========================>.....] - ETA: 0s - loss: 0.4150 - accuracy: 0.8530\n",
      "290/313 [==========================>...] - ETA: 0s - loss: 0.4184 - accuracy: 0.8516\n",
      "313/313 [==============================] - 1s 3ms/step - loss: 0.4189 - accuracy: 0.8521\n"
     ]
    },
    {
     "name": "stderr",
     "output_type": "stream",
     "text": [
      "\u001b[33m(raylet)\u001b[0m [2024-02-23 11:49:49,408 E 58843 531688] (raylet) file_system_monitor.cc:111: /tmp/ray/session_2024-02-23_11-29-52_330678_58831 is over 95% full, available space: 5625405440; capacity: 245107195904. Object creation will fail if spilling is required.\n",
      "\u001b[33m(raylet)\u001b[0m [2024-02-23 11:49:59,410 E 58843 531688] (raylet) file_system_monitor.cc:111: /tmp/ray/session_2024-02-23_11-29-52_330678_58831 is over 95% full, available space: 5625245696; capacity: 245107195904. Object creation will fail if spilling is required.\n",
      "\u001b[33m(raylet)\u001b[0m [2024-02-23 11:50:09,511 E 58843 531688] (raylet) file_system_monitor.cc:111: /tmp/ray/session_2024-02-23_11-29-52_330678_58831 is over 95% full, available space: 8852877312; capacity: 245107195904. Object creation will fail if spilling is required.\n",
      "\u001b[33m(raylet)\u001b[0m [2024-02-23 11:50:19,516 E 58843 531688] (raylet) file_system_monitor.cc:111: /tmp/ray/session_2024-02-23_11-29-52_330678_58831 is over 95% full, available space: 8852688896; capacity: 245107195904. Object creation will fail if spilling is required.\n"
     ]
    },
    {
     "name": "stdout",
     "output_type": "stream",
     "text": [
      " 37/313 [==>...........................] - ETA: 0s - loss: 0.3550 - accuracy: 0.8699\n",
      "179/313 [================>.............] - ETA: 0s - loss: 0.3840 - accuracy: 0.8642\n",
      "235/313 [=====================>........] - ETA: 0s - loss: 0.3741 - accuracy: 0.8661\n",
      "262/313 [========================>.....] - ETA: 0s - loss: 0.3703 - accuracy: 0.8670\n",
      "291/313 [==========================>...] - ETA: 0s - loss: 0.3728 - accuracy: 0.8669\n",
      "313/313 [==============================] - 1s 2ms/step - loss: 0.3704 - accuracy: 0.8680\n"
     ]
    },
    {
     "name": "stderr",
     "output_type": "stream",
     "text": [
      "\u001b[33m(raylet)\u001b[0m [2024-02-23 11:50:29,526 E 58843 531688] (raylet) file_system_monitor.cc:111: /tmp/ray/session_2024-02-23_11-29-52_330678_58831 is over 95% full, available space: 8852074496; capacity: 245107195904. Object creation will fail if spilling is required.\n"
     ]
    },
    {
     "name": "stdout",
     "output_type": "stream",
     "text": [
      "  1/313 [..............................] - ETA: 7s - loss: 0.7427 - accuracy: 0.8438\n",
      " 43/313 [===>..........................] - ETA: 0s - loss: 0.3950 - accuracy: 0.8728\n",
      " 98/313 [========>.....................] - ETA: 0s - loss: 0.4038 - accuracy: 0.8734\n",
      "148/313 [=============>................] - ETA: 0s - loss: 0.4171 - accuracy: 0.8712\n",
      "183/313 [================>.............] - ETA: 0s - loss: 0.4288 - accuracy: 0.8699\n",
      "212/313 [===================>..........] - ETA: 0s - loss: 0.4232 - accuracy: 0.8718\n",
      "251/313 [=======================>......] - ETA: 0s - loss: 0.4086 - accuracy: 0.8749\n",
      "313/313 [==============================] - 1s 2ms/step - loss: 0.4053 - accuracy: 0.8764\n"
     ]
    },
    {
     "name": "stderr",
     "output_type": "stream",
     "text": [
      "\u001b[33m(raylet)\u001b[0m [2024-02-23 11:50:39,625 E 58843 531688] (raylet) file_system_monitor.cc:111: /tmp/ray/session_2024-02-23_11-29-52_330678_58831 is over 95% full, available space: 8851902464; capacity: 245107195904. Object creation will fail if spilling is required.\n"
     ]
    },
    {
     "name": "stdout",
     "output_type": "stream",
     "text": [
      "  1/313 [..............................] - ETA: 8s - loss: 0.3888 - accuracy: 0.8750\n",
      " 47/313 [===>..........................] - ETA: 0s - loss: 0.3285 - accuracy: 0.8863\n",
      " 65/313 [=====>........................] - ETA: 0s - loss: 0.3214 - accuracy: 0.8861\n",
      " 74/313 [======>.......................] - ETA: 0s - loss: 0.3114 - accuracy: 0.8898\n",
      " 93/313 [=======>......................] - ETA: 0s - loss: 0.3273 - accuracy: 0.8821\n",
      "135/313 [===========>..................] - ETA: 0s - loss: 0.3457 - accuracy: 0.8757\n",
      "146/313 [============>.................] - ETA: 0s - loss: 0.3389 - accuracy: 0.8776\n",
      "182/313 [================>.............] - ETA: 0s - loss: 0.3529 - accuracy: 0.8741\n",
      "213/313 [===================>..........] - ETA: 0s - loss: 0.3481 - accuracy: 0.8759\n",
      "239/313 [=====================>........] - ETA: 0s - loss: 0.3421 - accuracy: 0.8775\n",
      "286/313 [==========================>...] - ETA: 0s - loss: 0.3406 - accuracy: 0.8778\n",
      "310/313 [============================>.] - ETA: 0s - loss: 0.3400 - accuracy: 0.8782\n",
      "313/313 [==============================] - 1s 3ms/step - loss: 0.3403 - accuracy: 0.8779\n"
     ]
    },
    {
     "name": "stderr",
     "output_type": "stream",
     "text": [
      "\u001b[33m(raylet)\u001b[0m [2024-02-23 11:50:49,722 E 58843 531688] (raylet) file_system_monitor.cc:111: /tmp/ray/session_2024-02-23_11-29-52_330678_58831 is over 95% full, available space: 8853286912; capacity: 245107195904. Object creation will fail if spilling is required.\n"
     ]
    },
    {
     "name": "stdout",
     "output_type": "stream",
     "text": [
      "  1/313 [..............................] - ETA: 47s - loss: 0.3387 - accuracy: 0.8438\n",
      " 23/313 [=>............................] - ETA: 1s - loss: 0.3963 - accuracy: 0.8804\n",
      " 41/313 [==>...........................] - ETA: 1s - loss: 0.3691 - accuracy: 0.8872\n",
      " 98/313 [========>.....................] - ETA: 0s - loss: 0.3641 - accuracy: 0.8830\n",
      "140/313 [============>.................] - ETA: 0s - loss: 0.3759 - accuracy: 0.8801\n",
      "153/313 [=============>................] - ETA: 0s - loss: 0.3776 - accuracy: 0.8793\n",
      "177/313 [===============>..............] - ETA: 0s - loss: 0.3895 - accuracy: 0.8773\n",
      "183/313 [================>.............] - ETA: 0s - loss: 0.3884 - accuracy: 0.8776\n",
      "281/313 [=========================>....] - ETA: 0s - loss: 0.3749 - accuracy: 0.8794\n",
      "307/313 [============================>.] - ETA: 0s - loss: 0.3730 - accuracy: 0.8805\n",
      "313/313 [==============================] - 1s 3ms/step - loss: 0.3731 - accuracy: 0.8805\n"
     ]
    },
    {
     "name": "stderr",
     "output_type": "stream",
     "text": [
      "\u001b[33m(raylet)\u001b[0m [2024-02-23 11:50:59,817 E 58843 531688] (raylet) file_system_monitor.cc:111: /tmp/ray/session_2024-02-23_11-29-52_330678_58831 is over 95% full, available space: 7770632192; capacity: 245107195904. Object creation will fail if spilling is required.\n"
     ]
    },
    {
     "name": "stdout",
     "output_type": "stream",
     "text": [
      "  1/313 [..............................] - ETA: 6s - loss: 0.3018 - accuracy: 0.8750\n",
      " 48/313 [===>..........................] - ETA: 0s - loss: 0.3567 - accuracy: 0.8822\n",
      " 78/313 [======>.......................] - ETA: 0s - loss: 0.3623 - accuracy: 0.8834\n",
      "118/313 [==========>...................] - ETA: 0s - loss: 0.3998 - accuracy: 0.8731\n"
     ]
    },
    {
     "name": "stderr",
     "output_type": "stream",
     "text": [
      "\u001b[33m(raylet)\u001b[0m [2024-02-23 11:51:09,914 E 58843 531688] (raylet) file_system_monitor.cc:111: /tmp/ray/session_2024-02-23_11-29-52_330678_58831 is over 95% full, available space: 7778967552; capacity: 245107195904. Object creation will fail if spilling is required.\n"
     ]
    },
    {
     "name": "stdout",
     "output_type": "stream",
     "text": [
      "122/313 [==========>...................] - ETA: 0s - loss: 0.4065 - accuracy: 0.8724\n",
      "148/313 [=============>................] - ETA: 0s - loss: 0.4008 - accuracy: 0.8742\n",
      "201/313 [==================>...........] - ETA: 0s - loss: 0.4061 - accuracy: 0.8745\n",
      "229/313 [====================>.........] - ETA: 0s - loss: 0.4049 - accuracy: 0.8749\n",
      "253/313 [=======================>......] - ETA: 0s - loss: 0.3947 - accuracy: 0.8777\n",
      "255/313 [=======================>......] - ETA: 0s - loss: 0.3948 - accuracy: 0.8777\n",
      "313/313 [==============================] - 1s 3ms/step - loss: 0.3915 - accuracy: 0.8783\n"
     ]
    },
    {
     "name": "stderr",
     "output_type": "stream",
     "text": [
      "\u001b[33m(raylet)\u001b[0m [2024-02-23 11:51:20,011 E 58843 531688] (raylet) file_system_monitor.cc:111: /tmp/ray/session_2024-02-23_11-29-52_330678_58831 is over 95% full, available space: 7776989184; capacity: 245107195904. Object creation will fail if spilling is required.\n",
      "\u001b[33m(raylet)\u001b[0m [2024-02-23 11:51:30,012 E 58843 531688] (raylet) file_system_monitor.cc:111: /tmp/ray/session_2024-02-23_11-29-52_330678_58831 is over 95% full, available space: 7773208576; capacity: 245107195904. Object creation will fail if spilling is required.\n",
      "\u001b[33m(raylet)\u001b[0m [2024-02-23 11:51:40,106 E 58843 531688] (raylet) file_system_monitor.cc:111: /tmp/ray/session_2024-02-23_11-29-52_330678_58831 is over 95% full, available space: 7770521600; capacity: 245107195904. Object creation will fail if spilling is required.\n",
      "\u001b[33m(raylet)\u001b[0m [2024-02-23 11:51:50,106 E 58843 531688] (raylet) file_system_monitor.cc:111: /tmp/ray/session_2024-02-23_11-29-52_330678_58831 is over 95% full, available space: 7759912960; capacity: 245107195904. Object creation will fail if spilling is required.\n",
      "\u001b[33m(raylet)\u001b[0m [2024-02-23 11:52:00,204 E 58843 531688] (raylet) file_system_monitor.cc:111: /tmp/ray/session_2024-02-23_11-29-52_330678_58831 is over 95% full, available space: 7757443072; capacity: 245107195904. Object creation will fail if spilling is required.\n",
      "\u001b[33m(raylet)\u001b[0m [2024-02-23 11:52:10,208 E 58843 531688] (raylet) file_system_monitor.cc:111: /tmp/ray/session_2024-02-23_11-29-52_330678_58831 is over 95% full, available space: 7760822272; capacity: 245107195904. Object creation will fail if spilling is required.\n",
      "\u001b[33m(raylet)\u001b[0m [2024-02-23 11:52:20,292 E 58843 531688] (raylet) file_system_monitor.cc:111: /tmp/ray/session_2024-02-23_11-29-52_330678_58831 is over 95% full, available space: 6713008128; capacity: 245107195904. Object creation will fail if spilling is required.\n",
      "\u001b[33m(raylet)\u001b[0m [2024-02-23 11:52:30,302 E 58843 531688] (raylet) file_system_monitor.cc:111: /tmp/ray/session_2024-02-23_11-29-52_330678_58831 is over 95% full, available space: 6731931648; capacity: 245107195904. Object creation will fail if spilling is required.\n"
     ]
    },
    {
     "name": "stdout",
     "output_type": "stream",
     "text": [
      "  1/313 [..............................] - ETA: 2:28 - loss: 0.4155 - accuracy: 0.8438\n",
      "  2/313 [..............................] - ETA: 48s - loss: 0.3625 - accuracy: 0.8594 \n",
      "  3/313 [..............................] - ETA: 52s - loss: 0.3742 - accuracy: 0.8646\n",
      " 21/313 [=>............................] - ETA: 6s - loss: 0.3616 - accuracy: 0.8676 \n",
      " 74/313 [======>.......................] - ETA: 1s - loss: 0.3425 - accuracy: 0.8788\n",
      "124/313 [==========>...................] - ETA: 0s - loss: 0.3803 - accuracy: 0.8677\n",
      "151/313 [=============>................] - ETA: 0s - loss: 0.3776 - accuracy: 0.8690\n",
      "173/313 [===============>..............] - ETA: 0s - loss: 0.3889 - accuracy: 0.8665\n",
      "208/313 [==================>...........] - ETA: 0s - loss: 0.3878 - accuracy: 0.8655\n",
      "219/313 [===================>..........] - ETA: 0s - loss: 0.3873 - accuracy: 0.8662\n",
      "232/313 [=====================>........] - ETA: 0s - loss: 0.3837 - accuracy: 0.8671\n",
      "247/313 [======================>.......] - ETA: 0s - loss: 0.3780 - accuracy: 0.8697\n",
      "262/313 [========================>.....] - ETA: 0s - loss: 0.3768 - accuracy: 0.8690\n",
      "272/313 [=========================>....] - ETA: 0s - loss: 0.3753 - accuracy: 0.8695\n",
      "313/313 [==============================] - 2s 6ms/step - loss: 0.3765 - accuracy: 0.8680\n",
      " 30/313 [=>............................] - ETA: 0s - loss: 0.3516 - accuracy: 0.8833\n",
      " 35/313 [==>...........................] - ETA: 1s - loss: 0.3661 - accuracy: 0.8777\n",
      " 38/313 [==>...........................] - ETA: 2s - loss: 0.3647 - accuracy: 0.8766\n",
      " 74/313 [======>.......................] - ETA: 1s - loss: 0.3415 - accuracy: 0.8780\n",
      " 78/313 [======>.......................] - ETA: 1s - loss: 0.3445 - accuracy: 0.8774\n",
      " 79/313 [======>.......................] - ETA: 1s - loss: 0.3461 - accuracy: 0.8758\n",
      " 92/313 [=======>......................] - ETA: 1s - loss: 0.3572 - accuracy: 0.8719\n",
      "105/313 [=========>....................] - ETA: 1s - loss: 0.3707 - accuracy: 0.8685\n",
      "122/313 [==========>...................] - ETA: 1s - loss: 0.3786 - accuracy: 0.8671\n",
      "138/313 [============>.................] - ETA: 1s - loss: 0.3771 - accuracy: 0.8671\n",
      "208/313 [==================>...........] - ETA: 0s - loss: 0.3866 - accuracy: 0.8642\n",
      "251/313 [=======================>......] - ETA: 0s - loss: 0.3783 - accuracy: 0.8665\n",
      "271/313 [========================>.....] - ETA: 0s - loss: 0.3756 - accuracy: 0.8665\n",
      "290/313 [==========================>...] - ETA: 0s - loss: 0.3785 - accuracy: 0.8662\n",
      "  1/313 [..............................] - ETA: 8s - loss: 0.2273 - accuracy: 0.8750\n",
      "306/313 [============================>.] - ETA: 0s - loss: 0.3768 - accuracy: 0.8659\n",
      "313/313 [==============================] - 2s 5ms/step - loss: 0.3762 - accuracy: 0.8662\n"
     ]
    },
    {
     "name": "stderr",
     "output_type": "stream",
     "text": [
      "\u001b[33m(raylet)\u001b[0m [2024-02-23 11:52:40,304 E 58843 531688] (raylet) file_system_monitor.cc:111: /tmp/ray/session_2024-02-23_11-29-52_330678_58831 is over 95% full, available space: 6732193792; capacity: 245107195904. Object creation will fail if spilling is required.\n",
      "\u001b[33m(raylet)\u001b[0m [2024-02-23 11:52:50,316 E 58843 531688] (raylet) file_system_monitor.cc:111: /tmp/ray/session_2024-02-23_11-29-52_330678_58831 is over 95% full, available space: 6730203136; capacity: 245107195904. Object creation will fail if spilling is required.\n",
      "\u001b[33m(raylet)\u001b[0m [2024-02-23 11:53:00,338 E 58843 531688] (raylet) file_system_monitor.cc:111: /tmp/ray/session_2024-02-23_11-29-52_330678_58831 is over 95% full, available space: 6729326592; capacity: 245107195904. Object creation will fail if spilling is required.\n",
      "\u001b[33m(raylet)\u001b[0m [2024-02-23 11:53:10,352 E 58843 531688] (raylet) file_system_monitor.cc:111: /tmp/ray/session_2024-02-23_11-29-52_330678_58831 is over 95% full, available space: 6729404416; capacity: 245107195904. Object creation will fail if spilling is required.\n",
      "\u001b[33m(raylet)\u001b[0m [2024-02-23 11:53:20,416 E 58843 531688] (raylet) file_system_monitor.cc:111: /tmp/ray/session_2024-02-23_11-29-52_330678_58831 is over 95% full, available space: 6729019392; capacity: 245107195904. Object creation will fail if spilling is required.\n",
      "\u001b[33m(raylet)\u001b[0m [2024-02-23 11:53:30,517 E 58843 531688] (raylet) file_system_monitor.cc:111: /tmp/ray/session_2024-02-23_11-29-52_330678_58831 is over 95% full, available space: 6727118848; capacity: 245107195904. Object creation will fail if spilling is required.\n"
     ]
    },
    {
     "name": "stdout",
     "output_type": "stream",
     "text": [
      "  1/313 [..............................] - ETA: 11s - loss: 0.3899 - accuracy: 0.8125\n",
      "  9/313 [..............................] - ETA: 6s - loss: 0.3525 - accuracy: 0.8924 \n",
      " 12/313 [>.............................] - ETA: 6s - loss: 0.3597 - accuracy: 0.9010\n",
      " 32/313 [==>...........................] - ETA: 3s - loss: 0.3587 - accuracy: 0.8975\n",
      " 58/313 [====>.........................] - ETA: 2s - loss: 0.3515 - accuracy: 0.8928\n",
      " 72/313 [=====>........................] - ETA: 1s - loss: 0.3399 - accuracy: 0.8954\n",
      " 97/313 [========>.....................] - ETA: 1s - loss: 0.3692 - accuracy: 0.8847\n",
      "110/313 [=========>....................] - ETA: 1s - loss: 0.3748 - accuracy: 0.8815\n",
      "117/313 [==========>...................] - ETA: 1s - loss: 0.3762 - accuracy: 0.8809\n",
      "120/313 [==========>...................] - ETA: 1s - loss: 0.3772 - accuracy: 0.8797\n",
      "140/313 [============>.................] - ETA: 1s - loss: 0.3823 - accuracy: 0.8792\n",
      "151/313 [=============>................] - ETA: 1s - loss: 0.3854 - accuracy: 0.8796\n",
      "155/313 [=============>................] - ETA: 1s - loss: 0.3887 - accuracy: 0.8790\n",
      "185/313 [================>.............] - ETA: 0s - loss: 0.3978 - accuracy: 0.8774\n",
      "218/313 [===================>..........] - ETA: 0s - loss: 0.3937 - accuracy: 0.8773\n",
      "245/313 [======================>.......] - ETA: 0s - loss: 0.3853 - accuracy: 0.8787\n",
      "246/313 [======================>.......] - ETA: 0s - loss: 0.3847 - accuracy: 0.8789\n",
      "254/313 [=======================>......] - ETA: 0s - loss: 0.3842 - accuracy: 0.8788\n",
      "256/313 [=======================>......] - ETA: 0s - loss: 0.3843 - accuracy: 0.8790\n",
      "257/313 [=======================>......] - ETA: 0s - loss: 0.3851 - accuracy: 0.8790\n",
      "264/313 [========================>.....] - ETA: 0s - loss: 0.3816 - accuracy: 0.8802\n",
      "287/313 [==========================>...] - ETA: 0s - loss: 0.3821 - accuracy: 0.8814\n",
      "313/313 [==============================] - 2s 8ms/step - loss: 0.3771 - accuracy: 0.8829\n"
     ]
    },
    {
     "name": "stderr",
     "output_type": "stream",
     "text": [
      "\u001b[33m(raylet)\u001b[0m [2024-02-23 11:53:40,522 E 58843 531688] (raylet) file_system_monitor.cc:111: /tmp/ray/session_2024-02-23_11-29-52_330678_58831 is over 95% full, available space: 6727016448; capacity: 245107195904. Object creation will fail if spilling is required.\n",
      "\u001b[33m(raylet)\u001b[0m [2024-02-23 11:53:50,622 E 58843 531688] (raylet) file_system_monitor.cc:111: /tmp/ray/session_2024-02-23_11-29-52_330678_58831 is over 95% full, available space: 6724620288; capacity: 245107195904. Object creation will fail if spilling is required.\n"
     ]
    },
    {
     "name": "stdout",
     "output_type": "stream",
     "text": [
      "  1/313 [..............................] - ETA: 8s - loss: 0.3260 - accuracy: 0.8750\n",
      " 58/313 [====>.........................] - ETA: 2s - loss: 0.3477 - accuracy: 0.8793\n",
      " 97/313 [========>.....................] - ETA: 1s - loss: 0.3662 - accuracy: 0.8718\n",
      "112/313 [=========>....................] - ETA: 1s - loss: 0.3764 - accuracy: 0.8711\n",
      "126/313 [===========>..................] - ETA: 1s - loss: 0.3782 - accuracy: 0.8698\n",
      "135/313 [===========>..................] - ETA: 1s - loss: 0.3813 - accuracy: 0.8681\n",
      "174/313 [===============>..............] - ETA: 0s - loss: 0.3885 - accuracy: 0.8676\n",
      "181/313 [================>.............] - ETA: 0s - loss: 0.3907 - accuracy: 0.8665\n",
      "184/313 [================>.............] - ETA: 0s - loss: 0.3901 - accuracy: 0.8668\n",
      "197/313 [=================>............] - ETA: 0s - loss: 0.3873 - accuracy: 0.8666\n",
      "226/313 [====================>.........] - ETA: 0s - loss: 0.3884 - accuracy: 0.8657\n",
      "238/313 [=====================>........] - ETA: 0s - loss: 0.3835 - accuracy: 0.8674\n",
      "259/313 [=======================>......] - ETA: 0s - loss: 0.3808 - accuracy: 0.8676\n",
      "305/313 [============================>.] - ETA: 0s - loss: 0.3826 - accuracy: 0.8671\n",
      "313/313 [==============================] - 2s 6ms/step - loss: 0.3821 - accuracy: 0.8674\n"
     ]
    },
    {
     "name": "stderr",
     "output_type": "stream",
     "text": [
      "\u001b[33m(raylet)\u001b[0m [2024-02-23 11:54:00,638 E 58843 531688] (raylet) file_system_monitor.cc:111: /tmp/ray/session_2024-02-23_11-29-52_330678_58831 is over 95% full, available space: 6723571712; capacity: 245107195904. Object creation will fail if spilling is required.\n"
     ]
    },
    {
     "name": "stdout",
     "output_type": "stream",
     "text": [
      "  1/313 [..............................] - ETA: 1:26 - loss: 0.1881 - accuracy: 0.9375\n",
      " 58/313 [====>.........................] - ETA: 0s - loss: 0.3627 - accuracy: 0.8782  \n",
      " 61/313 [====>.........................] - ETA: 0s - loss: 0.3557 - accuracy: 0.8801\n",
      " 65/313 [=====>........................] - ETA: 1s - loss: 0.3660 - accuracy: 0.8779\n",
      " 72/313 [=====>........................] - ETA: 1s - loss: 0.3508 - accuracy: 0.8832\n",
      " 77/313 [======>.......................] - ETA: 1s - loss: 0.3527 - accuracy: 0.8823\n",
      "103/313 [========>.....................] - ETA: 1s - loss: 0.3810 - accuracy: 0.8729\n",
      "154/313 [=============>................] - ETA: 0s - loss: 0.3876 - accuracy: 0.8732\n",
      "182/313 [================>.............] - ETA: 0s - loss: 0.3984 - accuracy: 0.8717\n",
      "184/313 [================>.............] - ETA: 0s - loss: 0.3965 - accuracy: 0.8721\n",
      "276/313 [=========================>....] - ETA: 0s - loss: 0.3802 - accuracy: 0.8761\n",
      "303/313 [============================>.] - ETA: 0s - loss: 0.3802 - accuracy: 0.8754\n",
      "313/313 [==============================] - 2s 4ms/step - loss: 0.3780 - accuracy: 0.8757\n"
     ]
    },
    {
     "name": "stderr",
     "output_type": "stream",
     "text": [
      "\u001b[33m(raylet)\u001b[0m [2024-02-23 11:54:10,734 E 58843 531688] (raylet) file_system_monitor.cc:111: /tmp/ray/session_2024-02-23_11-29-52_330678_58831 is over 95% full, available space: 7798464512; capacity: 245107195904. Object creation will fail if spilling is required.\n",
      "\u001b[33m(raylet)\u001b[0m [2024-02-23 11:54:20,828 E 58843 531688] (raylet) file_system_monitor.cc:111: /tmp/ray/session_2024-02-23_11-29-52_330678_58831 is over 95% full, available space: 7798362112; capacity: 245107195904. Object creation will fail if spilling is required.\n",
      "\u001b[33m(raylet)\u001b[0m [2024-02-23 11:54:30,884 E 58843 531688] (raylet) file_system_monitor.cc:111: /tmp/ray/session_2024-02-23_11-29-52_330678_58831 is over 95% full, available space: 6720847872; capacity: 245107195904. Object creation will fail if spilling is required.\n",
      "\u001b[33m(raylet)\u001b[0m [2024-02-23 11:54:40,888 E 58843 531688] (raylet) file_system_monitor.cc:111: /tmp/ray/session_2024-02-23_11-29-52_330678_58831 is over 95% full, available space: 6726090752; capacity: 245107195904. Object creation will fail if spilling is required.\n",
      "\u001b[33m(raylet)\u001b[0m [2024-02-23 11:54:50,893 E 58843 531688] (raylet) file_system_monitor.cc:111: /tmp/ray/session_2024-02-23_11-29-52_330678_58831 is over 95% full, available space: 6735421440; capacity: 245107195904. Object creation will fail if spilling is required.\n",
      "\u001b[33m(raylet)\u001b[0m [2024-02-23 11:55:00,987 E 58843 531688] (raylet) file_system_monitor.cc:111: /tmp/ray/session_2024-02-23_11-29-52_330678_58831 is over 95% full, available space: 6733574144; capacity: 245107195904. Object creation will fail if spilling is required.\n",
      "\u001b[33m(raylet)\u001b[0m [2024-02-23 11:55:10,992 E 58843 531688] (raylet) file_system_monitor.cc:111: /tmp/ray/session_2024-02-23_11-29-52_330678_58831 is over 95% full, available space: 6732427264; capacity: 245107195904. Object creation will fail if spilling is required.\n",
      "\u001b[33m(raylet)\u001b[0m [2024-02-23 11:55:20,996 E 58843 531688] (raylet) file_system_monitor.cc:111: /tmp/ray/session_2024-02-23_11-29-52_330678_58831 is over 95% full, available space: 6732365824; capacity: 245107195904. Object creation will fail if spilling is required.\n"
     ]
    },
    {
     "name": "stdout",
     "output_type": "stream",
     "text": [
      "  1/313 [..............................] - ETA: 18s - loss: 0.5789 - accuracy: 0.9375\n",
      " 19/313 [>.............................] - ETA: 3s - loss: 0.3422 - accuracy: 0.8931 \n",
      " 20/313 [>.............................] - ETA: 5s - loss: 0.3496 - accuracy: 0.8922\n",
      " 29/313 [=>............................] - ETA: 4s - loss: 0.3573 - accuracy: 0.8847\n",
      " 39/313 [==>...........................] - ETA: 4s - loss: 0.3551 - accuracy: 0.8838\n",
      " 50/313 [===>..........................] - ETA: 3s - loss: 0.3433 - accuracy: 0.8831\n",
      " 58/313 [====>.........................] - ETA: 3s - loss: 0.3318 - accuracy: 0.8869\n",
      " 62/313 [====>.........................] - ETA: 3s - loss: 0.3308 - accuracy: 0.8861\n",
      " 84/313 [=======>......................] - ETA: 2s - loss: 0.3317 - accuracy: 0.8839\n",
      " 92/313 [=======>......................] - ETA: 3s - loss: 0.3430 - accuracy: 0.8825\n",
      "104/313 [========>.....................] - ETA: 3s - loss: 0.3544 - accuracy: 0.8819\n",
      "128/313 [===========>..................] - ETA: 2s - loss: 0.3723 - accuracy: 0.8760\n",
      "152/313 [=============>................] - ETA: 2s - loss: 0.3675 - accuracy: 0.8789\n",
      "159/313 [==============>...............] - ETA: 2s - loss: 0.3718 - accuracy: 0.8785\n",
      "180/313 [================>.............] - ETA: 1s - loss: 0.3799 - accuracy: 0.8767\n",
      "190/313 [=================>............] - ETA: 1s - loss: 0.3782 - accuracy: 0.8768\n",
      "193/313 [=================>............] - ETA: 1s - loss: 0.3792 - accuracy: 0.8765\n",
      "196/313 [=================>............] - ETA: 1s - loss: 0.3768 - accuracy: 0.8774\n",
      "197/313 [=================>............] - ETA: 1s - loss: 0.3763 - accuracy: 0.8772\n",
      "217/313 [===================>..........] - ETA: 1s - loss: 0.3726 - accuracy: 0.8772\n",
      "222/313 [====================>.........] - ETA: 1s - loss: 0.3706 - accuracy: 0.8770\n"
     ]
    },
    {
     "name": "stderr",
     "output_type": "stream",
     "text": [
      "\u001b[33m(raylet)\u001b[0m [2024-02-23 11:55:31,028 E 58843 531688] (raylet) file_system_monitor.cc:111: /tmp/ray/session_2024-02-23_11-29-52_330678_58831 is over 95% full, available space: 6727798784; capacity: 245107195904. Object creation will fail if spilling is required.\n"
     ]
    },
    {
     "name": "stdout",
     "output_type": "stream",
     "text": [
      "233/313 [=====================>........] - ETA: 1s - loss: 0.3670 - accuracy: 0.8774\n",
      "240/313 [======================>.......] - ETA: 1s - loss: 0.3623 - accuracy: 0.8785\n",
      "244/313 [======================>.......] - ETA: 1s - loss: 0.3593 - accuracy: 0.8796\n",
      "253/313 [=======================>......] - ETA: 0s - loss: 0.3601 - accuracy: 0.8791\n",
      "271/313 [========================>.....] - ETA: 0s - loss: 0.3575 - accuracy: 0.8803\n",
      "276/313 [=========================>....] - ETA: 0s - loss: 0.3578 - accuracy: 0.8802\n",
      "299/313 [===========================>..] - ETA: 0s - loss: 0.3591 - accuracy: 0.8810\n",
      "313/313 [==============================] - 5s 15ms/step - loss: 0.3567 - accuracy: 0.8818\n"
     ]
    },
    {
     "name": "stderr",
     "output_type": "stream",
     "text": [
      "\u001b[33m(raylet)\u001b[0m [2024-02-23 11:55:41,058 E 58843 531688] (raylet) file_system_monitor.cc:111: /tmp/ray/session_2024-02-23_11-29-52_330678_58831 is over 95% full, available space: 6725017600; capacity: 245107195904. Object creation will fail if spilling is required.\n",
      "\u001b[33m(raylet)\u001b[0m [2024-02-23 11:55:51,060 E 58843 531688] (raylet) file_system_monitor.cc:111: /tmp/ray/session_2024-02-23_11-29-52_330678_58831 is over 95% full, available space: 6725586944; capacity: 245107195904. Object creation will fail if spilling is required.\n",
      "\u001b[33m(raylet)\u001b[0m [2024-02-23 11:56:01,069 E 58843 531688] (raylet) file_system_monitor.cc:111: /tmp/ray/session_2024-02-23_11-29-52_330678_58831 is over 95% full, available space: 6728105984; capacity: 245107195904. Object creation will fail if spilling is required.\n",
      "\u001b[33m(raylet)\u001b[0m [2024-02-23 11:56:11,108 E 58843 531688] (raylet) file_system_monitor.cc:111: /tmp/ray/session_2024-02-23_11-29-52_330678_58831 is over 95% full, available space: 6735245312; capacity: 245107195904. Object creation will fail if spilling is required.\n",
      "\u001b[33m(raylet)\u001b[0m [2024-02-23 11:56:21,115 E 58843 531688] (raylet) file_system_monitor.cc:111: /tmp/ray/session_2024-02-23_11-29-52_330678_58831 is over 95% full, available space: 6729818112; capacity: 245107195904. Object creation will fail if spilling is required.\n"
     ]
    },
    {
     "name": "stdout",
     "output_type": "stream",
     "text": [
      "  1/313 [..............................] - ETA: 2:44 - loss: 0.3977 - accuracy: 0.8438\n",
      " 25/313 [=>............................] - ETA: 5s - loss: 0.4134 - accuracy: 0.8662  \n",
      " 89/313 [=======>......................] - ETA: 1s - loss: 0.3808 - accuracy: 0.8652\n",
      "108/313 [=========>....................] - ETA: 1s - loss: 0.3967 - accuracy: 0.8614\n",
      "124/313 [==========>...................] - ETA: 1s - loss: 0.4045 - accuracy: 0.8606\n",
      "189/313 [=================>............] - ETA: 0s - loss: 0.4137 - accuracy: 0.8586\n",
      "224/313 [====================>.........] - ETA: 0s - loss: 0.4104 - accuracy: 0.8581\n",
      "246/313 [======================>.......] - ETA: 0s - loss: 0.4029 - accuracy: 0.8601\n",
      "249/313 [======================>.......] - ETA: 0s - loss: 0.4040 - accuracy: 0.8598\n",
      "250/313 [======================>.......] - ETA: 0s - loss: 0.4041 - accuracy: 0.8597\n",
      "251/313 [=======================>......] - ETA: 0s - loss: 0.4040 - accuracy: 0.8596\n",
      "260/313 [=======================>......] - ETA: 0s - loss: 0.4026 - accuracy: 0.8595\n",
      "261/313 [========================>.....] - ETA: 0s - loss: 0.4021 - accuracy: 0.8597\n",
      "282/313 [==========================>...] - ETA: 0s - loss: 0.4029 - accuracy: 0.8590\n",
      "302/313 [===========================>..] - ETA: 0s - loss: 0.4047 - accuracy: 0.8582\n",
      "312/313 [============================>.] - ETA: 0s - loss: 0.4035 - accuracy: 0.8590\n",
      "313/313 [==============================] - 3s 9ms/step - loss: 0.4033 - accuracy: 0.8590\n"
     ]
    },
    {
     "name": "stderr",
     "output_type": "stream",
     "text": [
      "\u001b[33m(raylet)\u001b[0m [2024-02-23 11:56:31,166 E 58843 531688] (raylet) file_system_monitor.cc:111: /tmp/ray/session_2024-02-23_11-29-52_330678_58831 is over 95% full, available space: 6729265152; capacity: 245107195904. Object creation will fail if spilling is required.\n",
      "\u001b[33m(raylet)\u001b[0m [2024-02-23 11:56:41,170 E 58843 531688] (raylet) file_system_monitor.cc:111: /tmp/ray/session_2024-02-23_11-29-52_330678_58831 is over 95% full, available space: 6729203712; capacity: 245107195904. Object creation will fail if spilling is required.\n"
     ]
    },
    {
     "name": "stdout",
     "output_type": "stream",
     "text": [
      "\u001b[36m(train_model pid=58862)\u001b[0m \r",
      "  1/313 [..............................] - ETA: 1:59 - loss: 0.4452 - accuracy: 0.8750\n",
      "\u001b[36m(train_model pid=58862)\u001b[0m \b\b\b\b\b\b\b\b\b\b\b\b\b\b\b\b\b\b\b\b\b\b\b\b\b\b\b\b\b\b\b\b\b\b\b\b\b\b\b\b\b\b\b\b\b\b\b\b\b\b\b\b\b\b\b\b\b\b\b\b\b\b\b\b\b\b\b\b\b\b\b\b\b\b\b\b\b\b\b\b\b\b\b\b\b\b\r",
      " 29/313 [=>............................] - ETA: 0s - loss: 0.3587 - accuracy: 0.8858  \n",
      "\u001b[36m(train_model pid=58862)\u001b[0m \b\b\b\b\b\b\b\b\b\b\b\b\b\b\b\b\b\b\b\b\b\b\b\b\b\b\b\b\b\b\b\b\b\b\b\b\b\b\b\b\b\b\b\b\b\b\b\b\b\b\b\b\b\b\b\b\b\b\b\b\b\b\b\b\b\b\b\b\b\b\b\b\b\b\b\b\b\b\b\b\b\b\b\b\r",
      " 55/313 [====>.........................] - ETA: 0s - loss: 0.3344 - accuracy: 0.8835\n"
     ]
    },
    {
     "name": "stderr",
     "output_type": "stream",
     "text": [
      "\u001b[33m(raylet)\u001b[0m [2024-02-23 11:56:51,270 E 58843 531688] (raylet) file_system_monitor.cc:111: /tmp/ray/session_2024-02-23_11-29-52_330678_58831 is over 95% full, available space: 6725582848; capacity: 245107195904. Object creation will fail if spilling is required.\n"
     ]
    },
    {
     "name": "stdout",
     "output_type": "stream",
     "text": [
      " 69/313 [=====>........................] - ETA: 0s - loss: 0.3326 - accuracy: 0.8850\n",
      " 70/313 [=====>........................] - ETA: 1s - loss: 0.3292 - accuracy: 0.8862\n",
      " 75/313 [======>.......................] - ETA: 1s - loss: 0.3281 - accuracy: 0.8854\n",
      " 91/313 [=======>......................] - ETA: 1s - loss: 0.3406 - accuracy: 0.8802\n",
      "103/313 [========>.....................] - ETA: 1s - loss: 0.3571 - accuracy: 0.8747\n",
      "120/313 [==========>...................] - ETA: 1s - loss: 0.3661 - accuracy: 0.8727\n",
      "144/313 [============>.................] - ETA: 1s - loss: 0.3609 - accuracy: 0.8737\n",
      "158/313 [==============>...............] - ETA: 1s - loss: 0.3680 - accuracy: 0.8716\n",
      "159/313 [==============>...............] - ETA: 1s - loss: 0.3710 - accuracy: 0.8709\n",
      "167/313 [===============>..............] - ETA: 1s - loss: 0.3737 - accuracy: 0.8713\n",
      "183/313 [================>.............] - ETA: 0s - loss: 0.3778 - accuracy: 0.8702\n",
      "196/313 [=================>............] - ETA: 0s - loss: 0.3746 - accuracy: 0.8702\n",
      "203/313 [==================>...........] - ETA: 0s - loss: 0.3731 - accuracy: 0.8708\n",
      "206/313 [==================>...........] - ETA: 0s - loss: 0.3748 - accuracy: 0.8704\n",
      "228/313 [====================>.........] - ETA: 0s - loss: 0.3702 - accuracy: 0.8710\n",
      "233/313 [=====================>........] - ETA: 0s - loss: 0.3685 - accuracy: 0.8716\n",
      "273/313 [=========================>....] - ETA: 0s - loss: 0.3596 - accuracy: 0.8731\n",
      "281/313 [=========================>....] - ETA: 0s - loss: 0.3615 - accuracy: 0.8731\n",
      "292/313 [==========================>...] - ETA: 0s - loss: 0.3607 - accuracy: 0.8731\n",
      "305/313 [============================>.] - ETA: 0s - loss: 0.3606 - accuracy: 0.8728\n",
      "313/313 [==============================] - 3s 8ms/step - loss: 0.3593 - accuracy: 0.8727\n"
     ]
    },
    {
     "name": "stderr",
     "output_type": "stream",
     "text": [
      "\u001b[33m(raylet)\u001b[0m [2024-02-23 11:57:01,273 E 58843 531688] (raylet) file_system_monitor.cc:111: /tmp/ray/session_2024-02-23_11-29-52_330678_58831 is over 95% full, available space: 5648695296; capacity: 245107195904. Object creation will fail if spilling is required.\n",
      "\u001b[33m(raylet)\u001b[0m [2024-02-23 11:57:11,370 E 58843 531688] (raylet) file_system_monitor.cc:111: /tmp/ray/session_2024-02-23_11-29-52_330678_58831 is over 95% full, available space: 5666304000; capacity: 245107195904. Object creation will fail if spilling is required.\n",
      "\u001b[33m(raylet)\u001b[0m [2024-02-23 11:57:21,372 E 58843 531688] (raylet) file_system_monitor.cc:111: /tmp/ray/session_2024-02-23_11-29-52_330678_58831 is over 95% full, available space: 5657264128; capacity: 245107195904. Object creation will fail if spilling is required.\n",
      "\u001b[33m(raylet)\u001b[0m [2024-02-23 11:57:31,471 E 58843 531688] (raylet) file_system_monitor.cc:111: /tmp/ray/session_2024-02-23_11-29-52_330678_58831 is over 95% full, available space: 5656870912; capacity: 245107195904. Object creation will fail if spilling is required.\n",
      "\u001b[33m(raylet)\u001b[0m [2024-02-23 11:57:41,481 E 58843 531688] (raylet) file_system_monitor.cc:111: /tmp/ray/session_2024-02-23_11-29-52_330678_58831 is over 95% full, available space: 5651660800; capacity: 245107195904. Object creation will fail if spilling is required.\n",
      "\u001b[33m(raylet)\u001b[0m [2024-02-23 11:57:51,487 E 58843 531688] (raylet) file_system_monitor.cc:111: /tmp/ray/session_2024-02-23_11-29-52_330678_58831 is over 95% full, available space: 5651415040; capacity: 245107195904. Object creation will fail if spilling is required.\n"
     ]
    },
    {
     "name": "stdout",
     "output_type": "stream",
     "text": [
      " 21/313 [=>............................] - ETA: 0s - loss: 0.3219 - accuracy: 0.8869 \n",
      " 24/313 [=>............................] - ETA: 4s - loss: 0.3376 - accuracy: 0.8867\n",
      " 38/313 [==>...........................] - ETA: 3s - loss: 0.3293 - accuracy: 0.8890\n",
      " 51/313 [===>..........................] - ETA: 3s - loss: 0.3189 - accuracy: 0.8897\n",
      " 60/313 [====>.........................] - ETA: 2s - loss: 0.3141 - accuracy: 0.8906\n",
      " 79/313 [======>.......................] - ETA: 2s - loss: 0.3215 - accuracy: 0.8865\n",
      " 91/313 [=======>......................] - ETA: 2s - loss: 0.3297 - accuracy: 0.8832\n",
      " 98/313 [========>.....................] - ETA: 2s - loss: 0.3397 - accuracy: 0.8801\n",
      "123/313 [==========>...................] - ETA: 1s - loss: 0.3542 - accuracy: 0.8768\n",
      "153/313 [=============>................] - ETA: 1s - loss: 0.3519 - accuracy: 0.8779\n",
      "171/313 [===============>..............] - ETA: 1s - loss: 0.3602 - accuracy: 0.8763\n",
      "182/313 [================>.............] - ETA: 1s - loss: 0.3667 - accuracy: 0.8755\n",
      "189/313 [=================>............] - ETA: 1s - loss: 0.3648 - accuracy: 0.8757\n",
      "213/313 [===================>..........] - ETA: 0s - loss: 0.3629 - accuracy: 0.8757\n",
      "217/313 [===================>..........] - ETA: 0s - loss: 0.3634 - accuracy: 0.8756\n",
      "229/313 [====================>.........] - ETA: 0s - loss: 0.3612 - accuracy: 0.8764\n",
      "238/313 [=====================>........] - ETA: 0s - loss: 0.3569 - accuracy: 0.8778\n",
      "244/313 [======================>.......] - ETA: 0s - loss: 0.3533 - accuracy: 0.8788\n",
      "268/313 [========================>.....] - ETA: 0s - loss: 0.3508 - accuracy: 0.8798\n",
      "289/313 [==========================>...] - ETA: 0s - loss: 0.3518 - accuracy: 0.8793\n",
      "313/313 [==============================] - 3s 8ms/step - loss: 0.3510 - accuracy: 0.8801\n"
     ]
    },
    {
     "name": "stderr",
     "output_type": "stream",
     "text": [
      "\u001b[33m(raylet)\u001b[0m [2024-02-23 11:58:01,587 E 58843 531688] (raylet) file_system_monitor.cc:111: /tmp/ray/session_2024-02-23_11-29-52_330678_58831 is over 95% full, available space: 5649981440; capacity: 245107195904. Object creation will fail if spilling is required.\n",
      "\u001b[33m(raylet)\u001b[0m [2024-02-23 11:58:11,641 E 58843 531688] (raylet) file_system_monitor.cc:111: /tmp/ray/session_2024-02-23_11-29-52_330678_58831 is over 95% full, available space: 5645496320; capacity: 245107195904. Object creation will fail if spilling is required.\n",
      "\u001b[33m(raylet)\u001b[0m [2024-02-23 11:58:21,670 E 58843 531688] (raylet) file_system_monitor.cc:111: /tmp/ray/session_2024-02-23_11-29-52_330678_58831 is over 95% full, available space: 5645406208; capacity: 245107195904. Object creation will fail if spilling is required.\n",
      "\u001b[33m(raylet)\u001b[0m [2024-02-23 11:58:31,770 E 58843 531688] (raylet) file_system_monitor.cc:111: /tmp/ray/session_2024-02-23_11-29-52_330678_58831 is over 95% full, available space: 5644705792; capacity: 245107195904. Object creation will fail if spilling is required.\n",
      "\u001b[33m(raylet)\u001b[0m [2024-02-23 11:58:41,771 E 58843 531688] (raylet) file_system_monitor.cc:111: /tmp/ray/session_2024-02-23_11-29-52_330678_58831 is over 95% full, available space: 5643829248; capacity: 245107195904. Object creation will fail if spilling is required.\n"
     ]
    },
    {
     "name": "stdout",
     "output_type": "stream",
     "text": [
      "  8/313 [..............................] - ETA: 2s - loss: 0.3865 - accuracy: 0.8906\n",
      " 11/313 [>.............................] - ETA: 3s - loss: 0.3550 - accuracy: 0.9034\n",
      " 17/313 [>.............................] - ETA: 4s - loss: 0.3803 - accuracy: 0.8897\n",
      " 22/313 [=>............................] - ETA: 5s - loss: 0.3799 - accuracy: 0.8821\n",
      " 37/313 [==>...........................] - ETA: 3s - loss: 0.3712 - accuracy: 0.8843\n",
      " 79/313 [======>.......................] - ETA: 1s - loss: 0.3531 - accuracy: 0.8837\n",
      "117/313 [==========>...................] - ETA: 1s - loss: 0.3767 - accuracy: 0.8763\n",
      "141/313 [============>.................] - ETA: 1s - loss: 0.3833 - accuracy: 0.8757\n",
      "156/313 [=============>................] - ETA: 1s - loss: 0.3870 - accuracy: 0.8756\n",
      "175/313 [===============>..............] - ETA: 0s - loss: 0.4029 - accuracy: 0.8739\n",
      "195/313 [=================>............] - ETA: 0s - loss: 0.3959 - accuracy: 0.8758\n",
      "201/313 [==================>...........] - ETA: 0s - loss: 0.3922 - accuracy: 0.8769\n",
      "220/313 [====================>.........] - ETA: 0s - loss: 0.3886 - accuracy: 0.8768\n",
      "229/313 [====================>.........] - ETA: 0s - loss: 0.3866 - accuracy: 0.8770\n",
      "238/313 [=====================>........] - ETA: 0s - loss: 0.3811 - accuracy: 0.8791\n",
      "260/313 [=======================>......] - ETA: 0s - loss: 0.3731 - accuracy: 0.8806\n",
      "264/313 [========================>.....] - ETA: 0s - loss: 0.3712 - accuracy: 0.8814\n",
      "285/313 [==========================>...] - ETA: 0s - loss: 0.3725 - accuracy: 0.8805\n",
      "287/313 [==========================>...] - ETA: 0s - loss: 0.3732 - accuracy: 0.8802\n",
      "303/313 [============================>.] - ETA: 0s - loss: 0.3703 - accuracy: 0.8809\n",
      "313/313 [==============================] - 2s 7ms/step - loss: 0.3681 - accuracy: 0.8815\n"
     ]
    },
    {
     "name": "stderr",
     "output_type": "stream",
     "text": [
      "\u001b[33m(raylet)\u001b[0m [2024-02-23 11:58:51,779 E 58843 531688] (raylet) file_system_monitor.cc:111: /tmp/ray/session_2024-02-23_11-29-52_330678_58831 is over 95% full, available space: 5643718656; capacity: 245107195904. Object creation will fail if spilling is required.\n",
      "\u001b[33m(raylet)\u001b[0m [2024-02-23 11:59:01,797 E 58843 531688] (raylet) file_system_monitor.cc:111: /tmp/ray/session_2024-02-23_11-29-52_330678_58831 is over 95% full, available space: 5643268096; capacity: 245107195904. Object creation will fail if spilling is required.\n",
      "\u001b[33m(raylet)\u001b[0m [2024-02-23 11:59:11,861 E 58843 531688] (raylet) file_system_monitor.cc:111: /tmp/ray/session_2024-02-23_11-29-52_330678_58831 is over 95% full, available space: 5640761344; capacity: 245107195904. Object creation will fail if spilling is required.\n",
      "\u001b[33m(raylet)\u001b[0m [2024-02-23 11:59:21,878 E 58843 531688] (raylet) file_system_monitor.cc:111: /tmp/ray/session_2024-02-23_11-29-52_330678_58831 is over 95% full, available space: 5640720384; capacity: 245107195904. Object creation will fail if spilling is required.\n"
     ]
    },
    {
     "name": "stdout",
     "output_type": "stream",
     "text": [
      "  1/313 [..............................] - ETA: 1:00 - loss: 0.2314 - accuracy: 0.9062\n",
      " 97/313 [========>.....................] - ETA: 0s - loss: 0.3363 - accuracy: 0.8840\n",
      "106/313 [=========>....................] - ETA: 0s - loss: 0.3377 - accuracy: 0.8821\n",
      "111/313 [=========>....................] - ETA: 0s - loss: 0.3467 - accuracy: 0.8795\n",
      "121/313 [==========>...................] - ETA: 0s - loss: 0.3476 - accuracy: 0.8794\n",
      "142/313 [============>.................] - ETA: 0s - loss: 0.3437 - accuracy: 0.8796\n",
      "173/313 [===============>..............] - ETA: 0s - loss: 0.3583 - accuracy: 0.8784\n",
      "189/313 [=================>............] - ETA: 0s - loss: 0.3559 - accuracy: 0.8781\n",
      "267/313 [========================>.....] - ETA: 0s - loss: 0.3421 - accuracy: 0.8827\n",
      "280/313 [=========================>....] - ETA: 0s - loss: 0.3460 - accuracy: 0.8815\n",
      "283/313 [==========================>...] - ETA: 0s - loss: 0.3449 - accuracy: 0.8818\n",
      "299/313 [===========================>..] - ETA: 0s - loss: 0.3479 - accuracy: 0.8812\n",
      "313/313 [==============================] - 2s 4ms/step - loss: 0.3465 - accuracy: 0.8819\n"
     ]
    },
    {
     "name": "stderr",
     "output_type": "stream",
     "text": [
      "\u001b[33m(raylet)\u001b[0m [2024-02-23 11:59:31,978 E 58843 531688] (raylet) file_system_monitor.cc:111: /tmp/ray/session_2024-02-23_11-29-52_330678_58831 is over 95% full, available space: 5640507392; capacity: 245107195904. Object creation will fail if spilling is required.\n"
     ]
    },
    {
     "name": "stdout",
     "output_type": "stream",
     "text": [
      " 31/313 [=>............................] - ETA: 0s - loss: 0.3773 - accuracy: 0.8841 \n",
      " 62/313 [====>.........................] - ETA: 0s - loss: 0.3421 - accuracy: 0.8866\n",
      " 93/313 [=======>......................] - ETA: 1s - loss: 0.3612 - accuracy: 0.8817\n",
      "110/313 [=========>....................] - ETA: 0s - loss: 0.3735 - accuracy: 0.8798\n",
      "126/313 [===========>..................] - ETA: 0s - loss: 0.3810 - accuracy: 0.8792\n",
      "159/313 [==============>...............] - ETA: 0s - loss: 0.3867 - accuracy: 0.8783\n",
      "187/313 [================>.............] - ETA: 0s - loss: 0.3901 - accuracy: 0.8777\n",
      "197/313 [=================>............] - ETA: 0s - loss: 0.3862 - accuracy: 0.8774\n",
      "211/313 [===================>..........] - ETA: 0s - loss: 0.3854 - accuracy: 0.8780\n",
      "225/313 [====================>.........] - ETA: 0s - loss: 0.3805 - accuracy: 0.8778\n",
      "232/313 [=====================>........] - ETA: 0s - loss: 0.3788 - accuracy: 0.8777\n",
      "239/313 [=====================>........] - ETA: 0s - loss: 0.3752 - accuracy: 0.8788\n",
      "252/313 [=======================>......] - ETA: 0s - loss: 0.3731 - accuracy: 0.8777\n",
      "263/313 [========================>.....] - ETA: 0s - loss: 0.3705 - accuracy: 0.8789\n",
      "271/313 [========================>.....] - ETA: 0s - loss: 0.3696 - accuracy: 0.8788\n",
      "289/313 [==========================>...] - ETA: 0s - loss: 0.3713 - accuracy: 0.8779\n",
      "295/313 [===========================>..] - ETA: 0s - loss: 0.3696 - accuracy: 0.8782\n",
      "301/313 [===========================>..] - ETA: 0s - loss: 0.3728 - accuracy: 0.8780\n",
      "313/313 [==============================] - 3s 9ms/step - loss: 0.3711 - accuracy: 0.8781\n"
     ]
    },
    {
     "name": "stderr",
     "output_type": "stream",
     "text": [
      "\u001b[33m(raylet)\u001b[0m [2024-02-23 11:59:42,046 E 58843 531688] (raylet) file_system_monitor.cc:111: /tmp/ray/session_2024-02-23_11-29-52_330678_58831 is over 95% full, available space: 6723584000; capacity: 245107195904. Object creation will fail if spilling is required.\n",
      "\u001b[33m(raylet)\u001b[0m [2024-02-23 11:59:52,062 E 58843 531688] (raylet) file_system_monitor.cc:111: /tmp/ray/session_2024-02-23_11-29-52_330678_58831 is over 95% full, available space: 6720856064; capacity: 245107195904. Object creation will fail if spilling is required.\n",
      "\u001b[33m(raylet)\u001b[0m [2024-02-23 12:00:02,064 E 58843 531688] (raylet) file_system_monitor.cc:111: /tmp/ray/session_2024-02-23_11-29-52_330678_58831 is over 95% full, available space: 6720659456; capacity: 245107195904. Object creation will fail if spilling is required.\n",
      "\u001b[33m(raylet)\u001b[0m [2024-02-23 12:00:12,162 E 58843 531688] (raylet) file_system_monitor.cc:111: /tmp/ray/session_2024-02-23_11-29-52_330678_58831 is over 95% full, available space: 6720294912; capacity: 245107195904. Object creation will fail if spilling is required.\n",
      "\u001b[33m(raylet)\u001b[0m [2024-02-23 12:00:22,192 E 58843 531688] (raylet) file_system_monitor.cc:111: /tmp/ray/session_2024-02-23_11-29-52_330678_58831 is over 95% full, available space: 6720110592; capacity: 245107195904. Object creation will fail if spilling is required.\n",
      "\u001b[33m(raylet)\u001b[0m [2024-02-23 12:00:32,200 E 58843 531688] (raylet) file_system_monitor.cc:111: /tmp/ray/session_2024-02-23_11-29-52_330678_58831 is over 95% full, available space: 6716071936; capacity: 245107195904. Object creation will fail if spilling is required.\n",
      "\u001b[33m(raylet)\u001b[0m [2024-02-23 12:00:42,201 E 58843 531688] (raylet) file_system_monitor.cc:111: /tmp/ray/session_2024-02-23_11-29-52_330678_58831 is over 95% full, available space: 6716768256; capacity: 245107195904. Object creation will fail if spilling is required.\n",
      "\u001b[33m(raylet)\u001b[0m [2024-02-23 12:00:52,209 E 58843 531688] (raylet) file_system_monitor.cc:111: /tmp/ray/session_2024-02-23_11-29-52_330678_58831 is over 95% full, available space: 6720503808; capacity: 245107195904. Object creation will fail if spilling is required.\n"
     ]
    },
    {
     "name": "stdout",
     "output_type": "stream",
     "text": [
      "  1/313 [..............................] - ETA: 10s - loss: 0.4141 - accuracy: 0.8438\n",
      " 23/313 [=>............................] - ETA: 0s - loss: 0.3568 - accuracy: 0.8804 \n",
      " 26/313 [=>............................] - ETA: 3s - loss: 0.3530 - accuracy: 0.8834\n",
      " 30/313 [=>............................] - ETA: 4s - loss: 0.3391 - accuracy: 0.8865\n",
      " 56/313 [====>.........................] - ETA: 2s - loss: 0.3304 - accuracy: 0.8823\n",
      " 79/313 [======>.......................] - ETA: 2s - loss: 0.3337 - accuracy: 0.8805\n",
      "100/313 [========>.....................] - ETA: 1s - loss: 0.3522 - accuracy: 0.8759\n",
      "136/313 [============>.................] - ETA: 1s - loss: 0.3667 - accuracy: 0.8734\n",
      "137/313 [============>.................] - ETA: 1s - loss: 0.3650 - accuracy: 0.8739\n",
      "144/313 [============>.................] - ETA: 1s - loss: 0.3591 - accuracy: 0.8767\n",
      "160/313 [==============>...............] - ETA: 1s - loss: 0.3658 - accuracy: 0.8729\n",
      "175/313 [===============>..............] - ETA: 1s - loss: 0.3785 - accuracy: 0.8720\n",
      "184/313 [================>.............] - ETA: 0s - loss: 0.3768 - accuracy: 0.8723\n",
      "188/313 [=================>............] - ETA: 1s - loss: 0.3768 - accuracy: 0.8722\n",
      "239/313 [=====================>........] - ETA: 0s - loss: 0.3697 - accuracy: 0.8758\n",
      "253/313 [=======================>......] - ETA: 0s - loss: 0.3665 - accuracy: 0.8759\n",
      "258/313 [=======================>......] - ETA: 0s - loss: 0.3653 - accuracy: 0.8765\n",
      "273/313 [=========================>....] - ETA: 0s - loss: 0.3643 - accuracy: 0.8767\n",
      "313/313 [==============================] - 2s 7ms/step - loss: 0.3637 - accuracy: 0.8767\n"
     ]
    },
    {
     "name": "stderr",
     "output_type": "stream",
     "text": [
      "\u001b[33m(raylet)\u001b[0m [2024-02-23 12:01:02,231 E 58843 531688] (raylet) file_system_monitor.cc:111: /tmp/ray/session_2024-02-23_11-29-52_330678_58831 is over 95% full, available space: 7787511808; capacity: 245107195904. Object creation will fail if spilling is required.\n",
      "\u001b[33m(raylet)\u001b[0m [2024-02-23 12:01:12,233 E 58843 531688] (raylet) file_system_monitor.cc:111: /tmp/ray/session_2024-02-23_11-29-52_330678_58831 is over 95% full, available space: 7786364928; capacity: 245107195904. Object creation will fail if spilling is required.\n",
      "\u001b[33m(raylet)\u001b[0m [2024-02-23 12:01:22,279 E 58843 531688] (raylet) file_system_monitor.cc:111: /tmp/ray/session_2024-02-23_11-29-52_330678_58831 is over 95% full, available space: 7779999744; capacity: 245107195904. Object creation will fail if spilling is required.\n",
      "\u001b[33m(raylet)\u001b[0m [2024-02-23 12:01:32,313 E 58843 531688] (raylet) file_system_monitor.cc:111: /tmp/ray/session_2024-02-23_11-29-52_330678_58831 is over 95% full, available space: 7775735808; capacity: 245107195904. Object creation will fail if spilling is required.\n"
     ]
    },
    {
     "name": "stdout",
     "output_type": "stream",
     "text": [
      "  1/313 [..............................] - ETA: 1:11 - loss: 0.2964 - accuracy: 0.8438\n",
      " 42/313 [===>..........................] - ETA: 0s - loss: 0.3389 - accuracy: 0.8839\n",
      " 49/313 [===>..........................] - ETA: 2s - loss: 0.3330 - accuracy: 0.8839\n",
      " 50/313 [===>..........................] - ETA: 3s - loss: 0.3315 - accuracy: 0.8844\n",
      " 60/313 [====>.........................] - ETA: 3s - loss: 0.3281 - accuracy: 0.8865\n",
      " 72/313 [=====>........................] - ETA: 2s - loss: 0.3248 - accuracy: 0.8893\n",
      " 99/313 [========>.....................] - ETA: 2s - loss: 0.3489 - accuracy: 0.8819\n",
      "123/313 [==========>...................] - ETA: 1s - loss: 0.3648 - accuracy: 0.8773\n",
      "129/313 [===========>..................] - ETA: 1s - loss: 0.3688 - accuracy: 0.8760\n",
      "134/313 [===========>..................] - ETA: 1s - loss: 0.3719 - accuracy: 0.8750\n",
      "156/313 [=============>................] - ETA: 1s - loss: 0.3640 - accuracy: 0.8772\n",
      "161/313 [==============>...............] - ETA: 1s - loss: 0.3694 - accuracy: 0.8748\n",
      "181/313 [================>.............] - ETA: 1s - loss: 0.3780 - accuracy: 0.8736\n",
      "198/313 [=================>............] - ETA: 1s - loss: 0.3752 - accuracy: 0.8734\n",
      "246/313 [======================>.......] - ETA: 0s - loss: 0.3642 - accuracy: 0.8770\n",
      "281/313 [=========================>....] - ETA: 0s - loss: 0.3646 - accuracy: 0.8759\n",
      "283/313 [==========================>...] - ETA: 0s - loss: 0.3638 - accuracy: 0.8762\n",
      "297/313 [===========================>..] - ETA: 0s - loss: 0.3653 - accuracy: 0.8752\n",
      "313/313 [==============================] - 3s 7ms/step - loss: 0.3638 - accuracy: 0.8758\n"
     ]
    },
    {
     "name": "stderr",
     "output_type": "stream",
     "text": [
      "\u001b[33m(raylet)\u001b[0m [2024-02-23 12:01:42,403 E 58843 531688] (raylet) file_system_monitor.cc:111: /tmp/ray/session_2024-02-23_11-29-52_330678_58831 is over 95% full, available space: 7774306304; capacity: 245107195904. Object creation will fail if spilling is required.\n",
      "\u001b[33m(raylet)\u001b[0m [2024-02-23 12:01:52,499 E 58843 531688] (raylet) file_system_monitor.cc:111: /tmp/ray/session_2024-02-23_11-29-52_330678_58831 is over 95% full, available space: 7770116096; capacity: 245107195904. Object creation will fail if spilling is required.\n"
     ]
    },
    {
     "name": "stdout",
     "output_type": "stream",
     "text": [
      " 30/313 [=>............................] - ETA: 0s - loss: 0.3496 - accuracy: 0.8896\n",
      " 32/313 [==>...........................] - ETA: 1s - loss: 0.3621 - accuracy: 0.8867\n",
      " 35/313 [==>...........................] - ETA: 1s - loss: 0.3614 - accuracy: 0.8857\n",
      " 51/313 [===>..........................] - ETA: 1s - loss: 0.3422 - accuracy: 0.8848\n",
      " 75/313 [======>.......................] - ETA: 1s - loss: 0.3322 - accuracy: 0.8833\n",
      "135/313 [===========>..................] - ETA: 0s - loss: 0.3707 - accuracy: 0.8722\n",
      "136/313 [============>.................] - ETA: 0s - loss: 0.3693 - accuracy: 0.8727\n",
      "148/313 [=============>................] - ETA: 0s - loss: 0.3640 - accuracy: 0.8731\n",
      "172/313 [===============>..............] - ETA: 0s - loss: 0.3733 - accuracy: 0.8706\n",
      "199/313 [==================>...........] - ETA: 0s - loss: 0.3773 - accuracy: 0.8706\n",
      "235/313 [=====================>........] - ETA: 0s - loss: 0.3701 - accuracy: 0.8741\n",
      "261/313 [========================>.....] - ETA: 0s - loss: 0.3651 - accuracy: 0.8755\n",
      "278/313 [=========================>....] - ETA: 0s - loss: 0.3664 - accuracy: 0.8756\n",
      "296/313 [===========================>..] - ETA: 0s - loss: 0.3669 - accuracy: 0.8752\n",
      "  1/313 [..............................] - ETA: 9s - loss: 0.5438 - accuracy: 0.8438\n",
      "313/313 [==============================] - 2s 5ms/step - loss: 0.3658 - accuracy: 0.8752\n",
      " 26/313 [=>............................] - ETA: 1s - loss: 0.3598 - accuracy: 0.8846\n",
      " 36/313 [==>...........................] - ETA: 1s - loss: 0.3592 - accuracy: 0.8880\n",
      " 94/313 [========>.....................] - ETA: 1s - loss: 0.3784 - accuracy: 0.8790\n",
      "157/313 [==============>...............] - ETA: 0s - loss: 0.3883 - accuracy: 0.8798\n",
      "190/313 [=================>............] - ETA: 0s - loss: 0.3976 - accuracy: 0.8770\n",
      "219/313 [===================>..........] - ETA: 0s - loss: 0.3987 - accuracy: 0.8761\n",
      "239/313 [=====================>........] - ETA: 0s - loss: 0.3904 - accuracy: 0.8779\n",
      "313/313 [==============================] - 1s 4ms/step - loss: 0.3813 - accuracy: 0.8801\n"
     ]
    },
    {
     "name": "stderr",
     "output_type": "stream",
     "text": [
      "\u001b[33m(raylet)\u001b[0m [2024-02-23 12:02:02,566 E 58843 531688] (raylet) file_system_monitor.cc:111: /tmp/ray/session_2024-02-23_11-29-52_330678_58831 is over 95% full, available space: 7771078656; capacity: 245107195904. Object creation will fail if spilling is required.\n",
      "\u001b[33m(raylet)\u001b[0m [2024-02-23 12:02:12,587 E 58843 531688] (raylet) file_system_monitor.cc:111: /tmp/ray/session_2024-02-23_11-29-52_330678_58831 is over 95% full, available space: 7767547904; capacity: 245107195904. Object creation will fail if spilling is required.\n",
      "\u001b[33m(raylet)\u001b[0m [2024-02-23 12:02:22,603 E 58843 531688] (raylet) file_system_monitor.cc:111: /tmp/ray/session_2024-02-23_11-29-52_330678_58831 is over 95% full, available space: 7765098496; capacity: 245107195904. Object creation will fail if spilling is required.\n",
      "\u001b[33m(raylet)\u001b[0m [2024-02-23 12:02:32,704 E 58843 531688] (raylet) file_system_monitor.cc:111: /tmp/ray/session_2024-02-23_11-29-52_330678_58831 is over 95% full, available space: 6685999104; capacity: 245107195904. Object creation will fail if spilling is required.\n",
      "\u001b[33m(raylet)\u001b[0m [2024-02-23 12:02:42,735 E 58843 531688] (raylet) file_system_monitor.cc:111: /tmp/ray/session_2024-02-23_11-29-52_330678_58831 is over 95% full, available space: 6683971584; capacity: 245107195904. Object creation will fail if spilling is required.\n",
      "\u001b[33m(raylet)\u001b[0m [2024-02-23 12:02:52,753 E 58843 531688] (raylet) file_system_monitor.cc:111: /tmp/ray/session_2024-02-23_11-29-52_330678_58831 is over 95% full, available space: 6683906048; capacity: 245107195904. Object creation will fail if spilling is required.\n"
     ]
    },
    {
     "name": "stdout",
     "output_type": "stream",
     "text": [
      " 29/313 [=>............................] - ETA: 0s - loss: 0.3718 - accuracy: 0.8879  \n",
      " 45/313 [===>..........................] - ETA: 2s - loss: 0.3650 - accuracy: 0.8840\n",
      "204/313 [==================>...........] - ETA: 0s - loss: 0.3988 - accuracy: 0.8762\n",
      "263/313 [========================>.....] - ETA: 0s - loss: 0.3837 - accuracy: 0.8794\n",
      "279/313 [=========================>....] - ETA: 0s - loss: 0.3842 - accuracy: 0.8794\n",
      "300/313 [===========================>..] - ETA: 0s - loss: 0.3847 - accuracy: 0.8792\n",
      " 35/313 [==>...........................] - ETA: 0s - loss: 0.3658 - accuracy: 0.8875\n",
      " 46/313 [===>..........................] - ETA: 1s - loss: 0.3602 - accuracy: 0.8859\n",
      " 59/313 [====>.........................] - ETA: 1s - loss: 0.3495 - accuracy: 0.8872\n",
      " 87/313 [=======>......................] - ETA: 1s - loss: 0.3467 - accuracy: 0.8836\n",
      "119/313 [==========>...................] - ETA: 0s - loss: 0.3763 - accuracy: 0.8776\n",
      "133/313 [===========>..................] - ETA: 0s - loss: 0.3808 - accuracy: 0.8766\n",
      "152/313 [=============>................] - ETA: 0s - loss: 0.3754 - accuracy: 0.8789\n",
      "169/313 [===============>..............] - ETA: 0s - loss: 0.3760 - accuracy: 0.8785\n",
      "186/313 [================>.............] - ETA: 0s - loss: 0.3814 - accuracy: 0.8789\n",
      "211/313 [===================>..........] - ETA: 0s - loss: 0.3808 - accuracy: 0.8784\n",
      "225/313 [====================>.........] - ETA: 0s - loss: 0.3779 - accuracy: 0.8785\n",
      "259/313 [=======================>......] - ETA: 0s - loss: 0.3683 - accuracy: 0.8813\n",
      "288/313 [==========================>...] - ETA: 0s - loss: 0.3676 - accuracy: 0.8813\n",
      "299/313 [===========================>..] - ETA: 0s - loss: 0.3677 - accuracy: 0.8814\n",
      "313/313 [==============================] - 2s 5ms/step - loss: 0.3662 - accuracy: 0.8825\n"
     ]
    },
    {
     "name": "stderr",
     "output_type": "stream",
     "text": [
      "\u001b[33m(raylet)\u001b[0m [2024-02-23 12:03:02,762 E 58843 531688] (raylet) file_system_monitor.cc:111: /tmp/ray/session_2024-02-23_11-29-52_330678_58831 is over 95% full, available space: 6721183744; capacity: 245107195904. Object creation will fail if spilling is required.\n",
      "\u001b[33m(raylet)\u001b[0m [2024-02-23 12:03:12,830 E 58843 531688] (raylet) file_system_monitor.cc:111: /tmp/ray/session_2024-02-23_11-29-52_330678_58831 is over 95% full, available space: 6720118784; capacity: 245107195904. Object creation will fail if spilling is required.\n"
     ]
    },
    {
     "name": "stdout",
     "output_type": "stream",
     "text": [
      "  1/313 [..............................] - ETA: 14s - loss: 0.6217 - accuracy: 0.8125\n",
      " 66/313 [=====>........................] - ETA: 0s - loss: 0.3706 - accuracy: 0.8731\n",
      "124/313 [==========>...................] - ETA: 0s - loss: 0.4022 - accuracy: 0.8695\n",
      "183/313 [================>.............] - ETA: 0s - loss: 0.4166 - accuracy: 0.8656\n",
      "185/313 [================>.............] - ETA: 0s - loss: 0.4147 - accuracy: 0.8662\n",
      "186/313 [================>.............] - ETA: 0s - loss: 0.4149 - accuracy: 0.8663\n",
      "209/313 [===================>..........] - ETA: 0s - loss: 0.4125 - accuracy: 0.8663\n",
      "231/313 [=====================>........] - ETA: 0s - loss: 0.4095 - accuracy: 0.8669\n",
      "245/313 [======================>.......] - ETA: 0s - loss: 0.4029 - accuracy: 0.8689\n",
      "255/313 [=======================>......] - ETA: 0s - loss: 0.4036 - accuracy: 0.8686\n",
      "267/313 [========================>.....] - ETA: 0s - loss: 0.3982 - accuracy: 0.8706\n",
      "294/313 [===========================>..] - ETA: 0s - loss: 0.3994 - accuracy: 0.8702\n",
      "313/313 [==============================] - 1s 4ms/step - loss: 0.3999 - accuracy: 0.8707\n"
     ]
    },
    {
     "name": "stderr",
     "output_type": "stream",
     "text": [
      "\u001b[33m(raylet)\u001b[0m [2024-02-23 12:03:22,929 E 58843 531688] (raylet) file_system_monitor.cc:111: /tmp/ray/session_2024-02-23_11-29-52_330678_58831 is over 95% full, available space: 6732886016; capacity: 245107195904. Object creation will fail if spilling is required.\n",
      "\u001b[33m(raylet)\u001b[0m [2024-02-23 12:03:32,933 E 58843 531688] (raylet) file_system_monitor.cc:111: /tmp/ray/session_2024-02-23_11-29-52_330678_58831 is over 95% full, available space: 6735405056; capacity: 245107195904. Object creation will fail if spilling is required.\n",
      "\u001b[33m(raylet)\u001b[0m [2024-02-23 12:03:43,014 E 58843 531688] (raylet) file_system_monitor.cc:111: /tmp/ray/session_2024-02-23_11-29-52_330678_58831 is over 95% full, available space: 6733627392; capacity: 245107195904. Object creation will fail if spilling is required.\n",
      "\u001b[33m(raylet)\u001b[0m [2024-02-23 12:03:53,031 E 58843 531688] (raylet) file_system_monitor.cc:111: /tmp/ray/session_2024-02-23_11-29-52_330678_58831 is over 95% full, available space: 6733008896; capacity: 245107195904. Object creation will fail if spilling is required.\n",
      "\u001b[33m(raylet)\u001b[0m [2024-02-23 12:04:03,044 E 58843 531688] (raylet) file_system_monitor.cc:111: /tmp/ray/session_2024-02-23_11-29-52_330678_58831 is over 95% full, available space: 6731382784; capacity: 245107195904. Object creation will fail if spilling is required.\n"
     ]
    },
    {
     "name": "stdout",
     "output_type": "stream",
     "text": [
      "  1/313 [..............................] - ETA: 1:05 - loss: 0.5594 - accuracy: 0.8125\n",
      " 38/313 [==>...........................] - ETA: 0s - loss: 0.4270 - accuracy: 0.8281\n",
      " 39/313 [==>...........................] - ETA: 1s - loss: 0.4304 - accuracy: 0.8261\n",
      " 60/313 [====>.........................] - ETA: 1s - loss: 0.4049 - accuracy: 0.8406\n",
      " 61/313 [====>.........................] - ETA: 1s - loss: 0.4035 - accuracy: 0.8407\n",
      " 77/313 [======>.......................] - ETA: 1s - loss: 0.3943 - accuracy: 0.8442\n",
      "101/313 [========>.....................] - ETA: 1s - loss: 0.4170 - accuracy: 0.8357\n",
      "126/313 [===========>..................] - ETA: 1s - loss: 0.4241 - accuracy: 0.8353\n",
      "145/313 [============>.................] - ETA: 0s - loss: 0.4208 - accuracy: 0.8351\n",
      "153/313 [=============>................] - ETA: 0s - loss: 0.4253 - accuracy: 0.8333\n",
      "156/313 [=============>................] - ETA: 0s - loss: 0.4239 - accuracy: 0.8335\n",
      "163/313 [==============>...............] - ETA: 0s - loss: 0.4299 - accuracy: 0.8313\n",
      "168/313 [===============>..............] - ETA: 1s - loss: 0.4299 - accuracy: 0.8320\n",
      "204/313 [==================>...........] - ETA: 0s - loss: 0.4298 - accuracy: 0.8329\n",
      "273/313 [=========================>....] - ETA: 0s - loss: 0.4193 - accuracy: 0.8352\n",
      "313/313 [==============================] - 2s 5ms/step - loss: 0.4212 - accuracy: 0.8347\n"
     ]
    },
    {
     "name": "stderr",
     "output_type": "stream",
     "text": [
      "\u001b[33m(raylet)\u001b[0m [2024-02-23 12:04:13,058 E 58843 531688] (raylet) file_system_monitor.cc:111: /tmp/ray/session_2024-02-23_11-29-52_330678_58831 is over 95% full, available space: 6729433088; capacity: 245107195904. Object creation will fail if spilling is required.\n",
      "\u001b[33m(raylet)\u001b[0m [2024-02-23 12:04:23,155 E 58843 531688] (raylet) file_system_monitor.cc:111: /tmp/ray/session_2024-02-23_11-29-52_330678_58831 is over 95% full, available space: 5652385792; capacity: 245107195904. Object creation will fail if spilling is required.\n",
      "\u001b[33m(raylet)\u001b[0m [2024-02-23 12:04:33,164 E 58843 531688] (raylet) file_system_monitor.cc:111: /tmp/ray/session_2024-02-23_11-29-52_330678_58831 is over 95% full, available space: 5669875712; capacity: 245107195904. Object creation will fail if spilling is required.\n",
      "\u001b[33m(raylet)\u001b[0m [2024-02-23 12:04:43,187 E 58843 531688] (raylet) file_system_monitor.cc:111: /tmp/ray/session_2024-02-23_11-29-52_330678_58831 is over 95% full, available space: 5668204544; capacity: 245107195904. Object creation will fail if spilling is required.\n"
     ]
    },
    {
     "name": "stdout",
     "output_type": "stream",
     "text": [
      " 36/313 [==>...........................] - ETA: 0s - loss: 0.3828 - accuracy: 0.8689  \n",
      " 71/313 [=====>........................] - ETA: 0s - loss: 0.3503 - accuracy: 0.8772\n",
      "100/313 [========>.....................] - ETA: 0s - loss: 0.3731 - accuracy: 0.8687\n",
      "109/313 [=========>....................] - ETA: 0s - loss: 0.3805 - accuracy: 0.8667\n",
      "144/313 [============>.................] - ETA: 0s - loss: 0.3826 - accuracy: 0.8668\n",
      "159/313 [==============>...............] - ETA: 0s - loss: 0.3903 - accuracy: 0.8642\n",
      "187/313 [================>.............] - ETA: 0s - loss: 0.4007 - accuracy: 0.8635\n",
      "209/313 [===================>..........] - ETA: 0s - loss: 0.4015 - accuracy: 0.8651\n",
      "238/313 [=====================>........] - ETA: 0s - loss: 0.3924 - accuracy: 0.8683\n",
      "266/313 [========================>.....] - ETA: 0s - loss: 0.3872 - accuracy: 0.8691\n",
      "313/313 [==============================] - 1s 4ms/step - loss: 0.3883 - accuracy: 0.8687\n"
     ]
    },
    {
     "name": "stderr",
     "output_type": "stream",
     "text": [
      "\u001b[33m(raylet)\u001b[0m [2024-02-23 12:04:53,190 E 58843 531688] (raylet) file_system_monitor.cc:111: /tmp/ray/session_2024-02-23_11-29-52_330678_58831 is over 95% full, available space: 6741876736; capacity: 245107195904. Object creation will fail if spilling is required.\n",
      "\u001b[33m(raylet)\u001b[0m [2024-02-23 12:05:03,191 E 58843 531688] (raylet) file_system_monitor.cc:111: /tmp/ray/session_2024-02-23_11-29-52_330678_58831 is over 95% full, available space: 6741004288; capacity: 245107195904. Object creation will fail if spilling is required.\n"
     ]
    },
    {
     "name": "stdout",
     "output_type": "stream",
     "text": [
      " 10/313 [..............................] - ETA: 1s - loss: 0.4206 - accuracy: 0.8562 \n",
      " 46/313 [===>..........................] - ETA: 0s - loss: 0.4323 - accuracy: 0.8363\n",
      " 78/313 [======>.......................] - ETA: 1s - loss: 0.4151 - accuracy: 0.8409\n",
      " 95/313 [========>.....................] - ETA: 1s - loss: 0.4273 - accuracy: 0.8342\n",
      "124/313 [==========>...................] - ETA: 1s - loss: 0.4392 - accuracy: 0.8314\n",
      "133/313 [===========>..................] - ETA: 1s - loss: 0.4408 - accuracy: 0.8313\n",
      "134/313 [===========>..................] - ETA: 1s - loss: 0.4407 - accuracy: 0.8312\n",
      "137/313 [============>.................] - ETA: 1s - loss: 0.4372 - accuracy: 0.8326\n",
      "151/313 [=============>................] - ETA: 1s - loss: 0.4367 - accuracy: 0.8334\n",
      "190/313 [=================>............] - ETA: 0s - loss: 0.4443 - accuracy: 0.8334\n",
      "226/313 [====================>.........] - ETA: 0s - loss: 0.4411 - accuracy: 0.8353\n",
      "279/313 [=========================>....] - ETA: 0s - loss: 0.4354 - accuracy: 0.8356\n",
      "290/313 [==========================>...] - ETA: 0s - loss: 0.4351 - accuracy: 0.8357\n",
      "300/313 [===========================>..] - ETA: 0s - loss: 0.4368 - accuracy: 0.8349\n",
      "313/313 [==============================] - 2s 6ms/step - loss: 0.4342 - accuracy: 0.8355\n"
     ]
    },
    {
     "name": "stderr",
     "output_type": "stream",
     "text": [
      "\u001b[33m(raylet)\u001b[0m [2024-02-23 12:05:13,216 E 58843 531688] (raylet) file_system_monitor.cc:111: /tmp/ray/session_2024-02-23_11-29-52_330678_58831 is over 95% full, available space: 6736674816; capacity: 245107195904. Object creation will fail if spilling is required.\n"
     ]
    },
    {
     "name": "stdout",
     "output_type": "stream",
     "text": [
      "  1/313 [..............................] - ETA: 10s - loss: 0.5881 - accuracy: 0.8750\n",
      " 76/313 [======>.......................] - ETA: 0s - loss: 0.3608 - accuracy: 0.8729\n",
      "111/313 [=========>....................] - ETA: 0s - loss: 0.4022 - accuracy: 0.8674\n",
      "114/313 [=========>....................] - ETA: 0s - loss: 0.3997 - accuracy: 0.8681\n",
      "129/313 [===========>..................] - ETA: 0s - loss: 0.4038 - accuracy: 0.8685\n",
      "141/313 [============>.................] - ETA: 0s - loss: 0.3975 - accuracy: 0.8681\n",
      "158/313 [==============>...............] - ETA: 0s - loss: 0.4028 - accuracy: 0.8671\n",
      "168/313 [===============>..............] - ETA: 0s - loss: 0.4085 - accuracy: 0.8670\n",
      "188/313 [=================>............] - ETA: 0s - loss: 0.4138 - accuracy: 0.8669\n",
      "206/313 [==================>...........] - ETA: 0s - loss: 0.4136 - accuracy: 0.8668\n",
      "221/313 [====================>.........] - ETA: 0s - loss: 0.4105 - accuracy: 0.8679\n",
      "313/313 [==============================] - 1s 4ms/step - loss: 0.4001 - accuracy: 0.8725\n"
     ]
    },
    {
     "name": "stderr",
     "output_type": "stream",
     "text": [
      "\u001b[33m(raylet)\u001b[0m [2024-02-23 12:05:23,290 E 58843 531688] (raylet) file_system_monitor.cc:111: /tmp/ray/session_2024-02-23_11-29-52_330678_58831 is over 95% full, available space: 6736580608; capacity: 245107195904. Object creation will fail if spilling is required.\n"
     ]
    },
    {
     "name": "stdout",
     "output_type": "stream",
     "text": [
      "  1/313 [..............................] - ETA: 2:15 - loss: 0.5565 - accuracy: 0.8750\n",
      "  9/313 [..............................] - ETA: 5s - loss: 0.3259 - accuracy: 0.8785\n",
      " 81/313 [======>.......................] - ETA: 0s - loss: 0.3485 - accuracy: 0.8715\n",
      "115/313 [==========>...................] - ETA: 0s - loss: 0.3799 - accuracy: 0.8655\n",
      "118/313 [==========>...................] - ETA: 0s - loss: 0.3841 - accuracy: 0.8660\n",
      "139/313 [============>.................] - ETA: 0s - loss: 0.3864 - accuracy: 0.8678\n",
      "155/313 [=============>................] - ETA: 0s - loss: 0.3838 - accuracy: 0.8675\n",
      "196/313 [=================>............] - ETA: 0s - loss: 0.3944 - accuracy: 0.8662\n",
      "275/313 [=========================>....] - ETA: 0s - loss: 0.3813 - accuracy: 0.8711\n",
      "295/313 [===========================>..] - ETA: 0s - loss: 0.3807 - accuracy: 0.8716\n",
      "313/313 [==============================] - 2s 4ms/step - loss: 0.3806 - accuracy: 0.8723\n"
     ]
    },
    {
     "name": "stderr",
     "output_type": "stream",
     "text": [
      "\u001b[33m(raylet)\u001b[0m [2024-02-23 12:05:33,312 E 58843 531688] (raylet) file_system_monitor.cc:111: /tmp/ray/session_2024-02-23_11-29-52_330678_58831 is over 95% full, available space: 6736330752; capacity: 245107195904. Object creation will fail if spilling is required.\n",
      "\u001b[33m(raylet)\u001b[0m [2024-02-23 12:05:43,384 E 58843 531688] (raylet) file_system_monitor.cc:111: /tmp/ray/session_2024-02-23_11-29-52_330678_58831 is over 95% full, available space: 6731567104; capacity: 245107195904. Object creation will fail if spilling is required.\n",
      "\u001b[33m(raylet)\u001b[0m [2024-02-23 12:05:53,433 E 58843 531688] (raylet) file_system_monitor.cc:111: /tmp/ray/session_2024-02-23_11-29-52_330678_58831 is over 95% full, available space: 6727491584; capacity: 245107195904. Object creation will fail if spilling is required.\n",
      "\u001b[33m(raylet)\u001b[0m [2024-02-23 12:06:03,506 E 58843 531688] (raylet) file_system_monitor.cc:111: /tmp/ray/session_2024-02-23_11-29-52_330678_58831 is over 95% full, available space: 6737203200; capacity: 245107195904. Object creation will fail if spilling is required.\n",
      "\u001b[33m(raylet)\u001b[0m [2024-02-23 12:06:13,531 E 58843 531688] (raylet) file_system_monitor.cc:111: /tmp/ray/session_2024-02-23_11-29-52_330678_58831 is over 95% full, available space: 6739894272; capacity: 245107195904. Object creation will fail if spilling is required.\n",
      "\u001b[33m(raylet)\u001b[0m [2024-02-23 12:06:23,623 E 58843 531688] (raylet) file_system_monitor.cc:111: /tmp/ray/session_2024-02-23_11-29-52_330678_58831 is over 95% full, available space: 6739980288; capacity: 245107195904. Object creation will fail if spilling is required.\n"
     ]
    },
    {
     "name": "stdout",
     "output_type": "stream",
     "text": [
      "  1/313 [..............................] - ETA: 9s - loss: 0.2749 - accuracy: 0.9062\n",
      " 55/313 [====>.........................] - ETA: 0s - loss: 0.3533 - accuracy: 0.8784\n",
      " 71/313 [=====>........................] - ETA: 0s - loss: 0.3450 - accuracy: 0.8812\n",
      " 83/313 [======>.......................] - ETA: 0s - loss: 0.3658 - accuracy: 0.8727\n",
      "103/313 [========>.....................] - ETA: 0s - loss: 0.3840 - accuracy: 0.8686\n",
      "124/313 [==========>...................] - ETA: 0s - loss: 0.3932 - accuracy: 0.8672\n",
      "130/313 [===========>..................] - ETA: 0s - loss: 0.3969 - accuracy: 0.8656\n",
      "145/313 [============>.................] - ETA: 0s - loss: 0.3861 - accuracy: 0.8687\n",
      "179/313 [================>.............] - ETA: 0s - loss: 0.3988 - accuracy: 0.8663\n",
      "220/313 [====================>.........] - ETA: 0s - loss: 0.3902 - accuracy: 0.8697\n",
      "253/313 [=======================>......] - ETA: 0s - loss: 0.3799 - accuracy: 0.8722\n",
      "271/313 [========================>.....] - ETA: 0s - loss: 0.3775 - accuracy: 0.8736\n",
      "313/313 [==============================] - 1s 4ms/step - loss: 0.3773 - accuracy: 0.8740\n"
     ]
    },
    {
     "name": "stderr",
     "output_type": "stream",
     "text": [
      "\u001b[33m(raylet)\u001b[0m [2024-02-23 12:06:33,676 E 58843 531688] (raylet) file_system_monitor.cc:111: /tmp/ray/session_2024-02-23_11-29-52_330678_58831 is over 95% full, available space: 6738182144; capacity: 245107195904. Object creation will fail if spilling is required.\n",
      "\u001b[33m(raylet)\u001b[0m [2024-02-23 12:06:43,770 E 58843 531688] (raylet) file_system_monitor.cc:111: /tmp/ray/session_2024-02-23_11-29-52_330678_58831 is over 95% full, available space: 5660270592; capacity: 245107195904. Object creation will fail if spilling is required.\n",
      "\u001b[33m(raylet)\u001b[0m [2024-02-23 12:06:53,813 E 58843 531688] (raylet) file_system_monitor.cc:111: /tmp/ray/session_2024-02-23_11-29-52_330678_58831 is over 95% full, available space: 5659574272; capacity: 245107195904. Object creation will fail if spilling is required.\n"
     ]
    },
    {
     "name": "stdout",
     "output_type": "stream",
     "text": [
      "  1/313 [..............................] - ETA: 10:06 - loss: 0.3814 - accuracy: 0.8750\n",
      " 35/313 [==>...........................] - ETA: 0s - loss: 0.3925 - accuracy: 0.8696   \n",
      " 63/313 [=====>........................] - ETA: 0s - loss: 0.3725 - accuracy: 0.8686\n",
      " 65/313 [=====>........................] - ETA: 1s - loss: 0.3760 - accuracy: 0.8673\n",
      "123/313 [==========>...................] - ETA: 0s - loss: 0.3962 - accuracy: 0.8582\n",
      "134/313 [===========>..................] - ETA: 0s - loss: 0.3996 - accuracy: 0.8575\n",
      "138/313 [============>.................] - ETA: 0s - loss: 0.3958 - accuracy: 0.8594\n",
      "157/313 [==============>...............] - ETA: 0s - loss: 0.3922 - accuracy: 0.8599\n",
      "168/313 [===============>..............] - ETA: 0s - loss: 0.3993 - accuracy: 0.8588\n",
      "200/313 [==================>...........] - ETA: 0s - loss: 0.4007 - accuracy: 0.8567\n",
      "244/313 [======================>.......] - ETA: 0s - loss: 0.3945 - accuracy: 0.8577\n",
      "286/313 [==========================>...] - ETA: 0s - loss: 0.3954 - accuracy: 0.8573\n",
      "313/313 [==============================] - 3s 4ms/step - loss: 0.3942 - accuracy: 0.8580\n"
     ]
    },
    {
     "name": "stderr",
     "output_type": "stream",
     "text": [
      "\u001b[33m(raylet)\u001b[0m [2024-02-23 12:07:03,830 E 58843 531688] (raylet) file_system_monitor.cc:111: /tmp/ray/session_2024-02-23_11-29-52_330678_58831 is over 95% full, available space: 5659148288; capacity: 245107195904. Object creation will fail if spilling is required.\n"
     ]
    },
    {
     "name": "stdout",
     "output_type": "stream",
     "text": [
      "  1/313 [..............................] - ETA: 19s - loss: 0.3555 - accuracy: 0.8750\n",
      " 19/313 [>.............................] - ETA: 2s - loss: 0.3255 - accuracy: 0.8914\n",
      " 20/313 [>.............................] - ETA: 7s - loss: 0.3398 - accuracy: 0.8906\n",
      " 29/313 [=>............................] - ETA: 6s - loss: 0.3534 - accuracy: 0.8847\n",
      " 36/313 [==>...........................] - ETA: 5s - loss: 0.3661 - accuracy: 0.8776\n",
      " 44/313 [===>..........................] - ETA: 5s - loss: 0.3643 - accuracy: 0.8729\n",
      " 52/313 [===>..........................] - ETA: 4s - loss: 0.3618 - accuracy: 0.8696\n",
      " 53/313 [====>.........................] - ETA: 5s - loss: 0.3593 - accuracy: 0.8703\n",
      " 54/313 [====>.........................] - ETA: 5s - loss: 0.3572 - accuracy: 0.8704\n",
      " 92/313 [=======>......................] - ETA: 3s - loss: 0.3646 - accuracy: 0.8675\n",
      "100/313 [========>.....................] - ETA: 3s - loss: 0.3718 - accuracy: 0.8666\n",
      "107/313 [=========>....................] - ETA: 3s - loss: 0.3758 - accuracy: 0.8642\n",
      "130/313 [===========>..................] - ETA: 2s - loss: 0.3897 - accuracy: 0.8618\n",
      "145/313 [============>.................] - ETA: 2s - loss: 0.3771 - accuracy: 0.8662\n",
      "159/313 [==============>...............] - ETA: 1s - loss: 0.3836 - accuracy: 0.8614\n",
      "215/313 [===================>..........] - ETA: 0s - loss: 0.3939 - accuracy: 0.8596\n",
      "239/313 [=====================>........] - ETA: 0s - loss: 0.3875 - accuracy: 0.8610\n",
      "255/313 [=======================>......] - ETA: 0s - loss: 0.3874 - accuracy: 0.8602\n",
      "281/313 [=========================>....] - ETA: 0s - loss: 0.3860 - accuracy: 0.8612\n",
      "313/313 [==============================] - 3s 8ms/step - loss: 0.3865 - accuracy: 0.8618\n"
     ]
    },
    {
     "name": "stderr",
     "output_type": "stream",
     "text": [
      "\u001b[33m(raylet)\u001b[0m [2024-02-23 12:07:13,906 E 58843 531688] (raylet) file_system_monitor.cc:111: /tmp/ray/session_2024-02-23_11-29-52_330678_58831 is over 95% full, available space: 5656604672; capacity: 245107195904. Object creation will fail if spilling is required.\n",
      "\u001b[33m(raylet)\u001b[0m [2024-02-23 12:07:24,313 E 58843 531688] (raylet) file_system_monitor.cc:111: /tmp/ray/session_2024-02-23_11-29-52_330678_58831 is over 95% full, available space: 5265293312; capacity: 245107195904. Object creation will fail if spilling is required.\n",
      "\u001b[33m(raylet)\u001b[0m [2024-02-23 12:07:34,333 E 58843 531688] (raylet) file_system_monitor.cc:111: /tmp/ray/session_2024-02-23_11-29-52_330678_58831 is over 95% full, available space: 4586962944; capacity: 245107195904. Object creation will fail if spilling is required.\n",
      "\u001b[33m(raylet)\u001b[0m [2024-02-23 12:07:44,341 E 58843 531688] (raylet) file_system_monitor.cc:111: /tmp/ray/session_2024-02-23_11-29-52_330678_58831 is over 95% full, available space: 4586586112; capacity: 245107195904. Object creation will fail if spilling is required.\n",
      "\u001b[33m(raylet)\u001b[0m [2024-02-23 12:07:54,372 E 58843 531688] (raylet) file_system_monitor.cc:111: /tmp/ray/session_2024-02-23_11-29-52_330678_58831 is over 95% full, available space: 4590194688; capacity: 245107195904. Object creation will fail if spilling is required.\n",
      "\u001b[33m(raylet)\u001b[0m [2024-02-23 12:08:04,375 E 58843 531688] (raylet) file_system_monitor.cc:111: /tmp/ray/session_2024-02-23_11-29-52_330678_58831 is over 95% full, available space: 4590104576; capacity: 245107195904. Object creation will fail if spilling is required.\n"
     ]
    },
    {
     "name": "stdout",
     "output_type": "stream",
     "text": [
      " 34/313 [==>...........................] - ETA: 0s - loss: 0.3787 - accuracy: 0.8805\n",
      " 56/313 [====>.........................] - ETA: 0s - loss: 0.3652 - accuracy: 0.8772\n",
      " 79/313 [======>.......................] - ETA: 0s - loss: 0.3633 - accuracy: 0.8734\n",
      "119/313 [==========>...................] - ETA: 0s - loss: 0.3892 - accuracy: 0.8658\n",
      "147/313 [=============>................] - ETA: 0s - loss: 0.3859 - accuracy: 0.8671\n",
      "163/313 [==============>...............] - ETA: 0s - loss: 0.3934 - accuracy: 0.8637\n",
      "198/313 [=================>............] - ETA: 0s - loss: 0.3983 - accuracy: 0.8613\n",
      "232/313 [=====================>........] - ETA: 0s - loss: 0.3977 - accuracy: 0.8602\n",
      "249/313 [======================>.......] - ETA: 0s - loss: 0.3940 - accuracy: 0.8616\n",
      "285/313 [==========================>...] - ETA: 0s - loss: 0.3931 - accuracy: 0.8616\n",
      "306/313 [============================>.] - ETA: 0s - loss: 0.3930 - accuracy: 0.8614\n",
      "313/313 [==============================] - 1s 4ms/step - loss: 0.3929 - accuracy: 0.8614\n",
      " 38/313 [==>...........................] - ETA: 0s - loss: 0.3503 - accuracy: 0.8783  \n",
      " 53/313 [====>.........................] - ETA: 0s - loss: 0.3435 - accuracy: 0.8785\n",
      " 73/313 [=====>........................] - ETA: 0s - loss: 0.3292 - accuracy: 0.8797\n",
      " 93/313 [=======>......................] - ETA: 0s - loss: 0.3487 - accuracy: 0.8737\n",
      "117/313 [==========>...................] - ETA: 0s - loss: 0.3634 - accuracy: 0.8715\n",
      "125/313 [==========>...................] - ETA: 0s - loss: 0.3674 - accuracy: 0.8708\n",
      "154/313 [=============>................] - ETA: 0s - loss: 0.3693 - accuracy: 0.8699\n",
      "198/313 [=================>............] - ETA: 0s - loss: 0.3725 - accuracy: 0.8682\n",
      "214/313 [===================>..........] - ETA: 0s - loss: 0.3719 - accuracy: 0.8686\n",
      "240/313 [======================>.......] - ETA: 0s - loss: 0.3648 - accuracy: 0.8711\n",
      "261/313 [========================>.....] - ETA: 0s - loss: 0.3622 - accuracy: 0.8718\n",
      "313/313 [==============================] - 1s 4ms/step - loss: 0.3622 - accuracy: 0.8728\n"
     ]
    },
    {
     "name": "stderr",
     "output_type": "stream",
     "text": [
      "\u001b[33m(raylet)\u001b[0m [2024-02-23 12:08:14,377 E 58843 531688] (raylet) file_system_monitor.cc:111: /tmp/ray/session_2024-02-23_11-29-52_330678_58831 is over 95% full, available space: 4589891584; capacity: 245107195904. Object creation will fail if spilling is required.\n",
      "\u001b[33m(raylet)\u001b[0m [2024-02-23 12:08:24,379 E 58843 531688] (raylet) file_system_monitor.cc:111: /tmp/ray/session_2024-02-23_11-29-52_330678_58831 is over 95% full, available space: 4589850624; capacity: 245107195904. Object creation will fail if spilling is required.\n",
      "\u001b[33m(raylet)\u001b[0m [2024-02-23 12:08:34,398 E 58843 531688] (raylet) file_system_monitor.cc:111: /tmp/ray/session_2024-02-23_11-29-52_330678_58831 is over 95% full, available space: 4589813760; capacity: 245107195904. Object creation will fail if spilling is required.\n"
     ]
    },
    {
     "name": "stdout",
     "output_type": "stream",
     "text": [
      " 52/313 [===>..........................] - ETA: 0s - loss: 0.3720 - accuracy: 0.8864\n",
      " 75/313 [======>.......................] - ETA: 0s - loss: 0.3487 - accuracy: 0.8921\n",
      " 88/313 [=======>......................] - ETA: 0s - loss: 0.3524 - accuracy: 0.8885\n",
      " 90/313 [=======>......................] - ETA: 1s - loss: 0.3577 - accuracy: 0.8875\n",
      "113/313 [=========>....................] - ETA: 1s - loss: 0.3911 - accuracy: 0.8800\n",
      "137/313 [============>.................] - ETA: 0s - loss: 0.3936 - accuracy: 0.8805\n",
      "173/313 [===============>..............] - ETA: 0s - loss: 0.4081 - accuracy: 0.8801\n"
     ]
    },
    {
     "name": "stderr",
     "output_type": "stream",
     "text": [
      "\u001b[33m(raylet)\u001b[0m [2024-02-23 12:08:44,416 E 58843 531688] (raylet) file_system_monitor.cc:111: /tmp/ray/session_2024-02-23_11-29-52_330678_58831 is over 95% full, available space: 4596744192; capacity: 245107195904. Object creation will fail if spilling is required.\n"
     ]
    },
    {
     "name": "stdout",
     "output_type": "stream",
     "text": [
      "197/313 [=================>............] - ETA: 0s - loss: 0.4077 - accuracy: 0.8793\n",
      "204/313 [==================>...........] - ETA: 0s - loss: 0.4069 - accuracy: 0.8797\n",
      "219/313 [===================>..........] - ETA: 0s - loss: 0.4053 - accuracy: 0.8806\n",
      "232/313 [=====================>........] - ETA: 0s - loss: 0.4027 - accuracy: 0.8807\n",
      "277/313 [=========================>....] - ETA: 0s - loss: 0.3920 - accuracy: 0.8829\n",
      "297/313 [===========================>..] - ETA: 0s - loss: 0.3946 - accuracy: 0.8818\n",
      "313/313 [==============================] - 2s 5ms/step - loss: 0.3927 - accuracy: 0.8822\n"
     ]
    },
    {
     "name": "stderr",
     "output_type": "stream",
     "text": [
      "\u001b[33m(raylet)\u001b[0m [2024-02-23 12:08:54,448 E 58843 531688] (raylet) file_system_monitor.cc:111: /tmp/ray/session_2024-02-23_11-29-52_330678_58831 is over 95% full, available space: 5670846464; capacity: 245107195904. Object creation will fail if spilling is required.\n",
      "\u001b[33m(raylet)\u001b[0m [2024-02-23 12:09:04,548 E 58843 531688] (raylet) file_system_monitor.cc:111: /tmp/ray/session_2024-02-23_11-29-52_330678_58831 is over 95% full, available space: 5670539264; capacity: 245107195904. Object creation will fail if spilling is required.\n"
     ]
    },
    {
     "name": "stdout",
     "output_type": "stream",
     "text": [
      " 17/313 [>.............................] - ETA: 0s - loss: 0.3708 - accuracy: 0.8934 \n",
      " 30/313 [=>............................] - ETA: 1s - loss: 0.3524 - accuracy: 0.8927\n",
      " 50/313 [===>..........................] - ETA: 1s - loss: 0.3682 - accuracy: 0.8894\n",
      " 66/313 [=====>........................] - ETA: 1s - loss: 0.3729 - accuracy: 0.8826\n",
      " 89/313 [=======>......................] - ETA: 1s - loss: 0.3604 - accuracy: 0.8838\n",
      "123/313 [==========>...................] - ETA: 0s - loss: 0.3920 - accuracy: 0.8770\n",
      "159/313 [==============>...............] - ETA: 0s - loss: 0.4010 - accuracy: 0.8746\n",
      "179/313 [================>.............] - ETA: 0s - loss: 0.4065 - accuracy: 0.8740\n",
      "200/313 [==================>...........] - ETA: 0s - loss: 0.3985 - accuracy: 0.8742\n",
      "217/313 [===================>..........] - ETA: 0s - loss: 0.3998 - accuracy: 0.8733\n",
      "250/313 [======================>.......] - ETA: 0s - loss: 0.3883 - accuracy: 0.8748\n",
      "269/313 [========================>.....] - ETA: 0s - loss: 0.3843 - accuracy: 0.8756\n",
      "313/313 [==============================] - 1s 4ms/step - loss: 0.3839 - accuracy: 0.8764\n"
     ]
    },
    {
     "name": "stderr",
     "output_type": "stream",
     "text": [
      "\u001b[33m(raylet)\u001b[0m [2024-02-23 12:09:14,550 E 58843 531688] (raylet) file_system_monitor.cc:111: /tmp/ray/session_2024-02-23_11-29-52_330678_58831 is over 95% full, available space: 5667155968; capacity: 245107195904. Object creation will fail if spilling is required.\n",
      "\u001b[33m(raylet)\u001b[0m [2024-02-23 12:09:24,581 E 58843 531688] (raylet) file_system_monitor.cc:111: /tmp/ray/session_2024-02-23_11-29-52_330678_58831 is over 95% full, available space: 5666222080; capacity: 245107195904. Object creation will fail if spilling is required.\n",
      "\u001b[33m(raylet)\u001b[0m [2024-02-23 12:09:34,612 E 58843 531688] (raylet) file_system_monitor.cc:111: /tmp/ray/session_2024-02-23_11-29-52_330678_58831 is over 95% full, available space: 5665239040; capacity: 245107195904. Object creation will fail if spilling is required.\n",
      "\u001b[33m(raylet)\u001b[0m [2024-02-23 12:09:44,645 E 58843 531688] (raylet) file_system_monitor.cc:111: /tmp/ray/session_2024-02-23_11-29-52_330678_58831 is over 95% full, available space: 5668519936; capacity: 245107195904. Object creation will fail if spilling is required.\n",
      "\u001b[33m(raylet)\u001b[0m [2024-02-23 12:09:54,650 E 58843 531688] (raylet) file_system_monitor.cc:111: /tmp/ray/session_2024-02-23_11-29-52_330678_58831 is over 95% full, available space: 5667184640; capacity: 245107195904. Object creation will fail if spilling is required.\n"
     ]
    },
    {
     "name": "stdout",
     "output_type": "stream",
     "text": [
      " 30/313 [=>............................] - ETA: 0s - loss: 0.3871 - accuracy: 0.8750  \n",
      " 55/313 [====>.........................] - ETA: 1s - loss: 0.3848 - accuracy: 0.8665\n",
      " 68/313 [=====>........................] - ETA: 1s - loss: 0.3839 - accuracy: 0.8663\n",
      "107/313 [=========>....................] - ETA: 1s - loss: 0.4049 - accuracy: 0.8598\n",
      "141/313 [============>.................] - ETA: 0s - loss: 0.4078 - accuracy: 0.8604\n",
      "167/313 [===============>..............] - ETA: 0s - loss: 0.4177 - accuracy: 0.8582\n",
      "185/313 [================>.............] - ETA: 0s - loss: 0.4216 - accuracy: 0.8552\n",
      "195/313 [=================>............] - ETA: 0s - loss: 0.4222 - accuracy: 0.8538\n",
      "212/313 [===================>..........] - ETA: 0s - loss: 0.4239 - accuracy: 0.8530\n",
      "225/313 [====================>.........] - ETA: 0s - loss: 0.4225 - accuracy: 0.8525\n",
      "239/313 [=====================>........] - ETA: 0s - loss: 0.4188 - accuracy: 0.8543\n",
      "260/313 [=======================>......] - ETA: 0s - loss: 0.4173 - accuracy: 0.8548\n",
      "270/313 [========================>.....] - ETA: 0s - loss: 0.4150 - accuracy: 0.8556\n",
      "288/313 [==========================>...] - ETA: 0s - loss: 0.4174 - accuracy: 0.8553\n",
      "297/313 [===========================>..] - ETA: 0s - loss: 0.4169 - accuracy: 0.8550\n",
      "308/313 [============================>.] - ETA: 0s - loss: 0.4161 - accuracy: 0.8556\n",
      "313/313 [==============================] - 3s 7ms/step - loss: 0.4172 - accuracy: 0.8556\n"
     ]
    },
    {
     "name": "stderr",
     "output_type": "stream",
     "text": [
      "\u001b[33m(raylet)\u001b[0m [2024-02-23 12:10:14,679 E 58843 531688] (raylet) file_system_monitor.cc:111: /tmp/ray/session_2024-02-23_11-29-52_330678_58831 is over 95% full, available space: 5666385920; capacity: 245107195904. Object creation will fail if spilling is required.\u001b[32m [repeated 2x across cluster]\u001b[0m\n"
     ]
    },
    {
     "name": "stdout",
     "output_type": "stream",
     "text": [
      "  1/313 [..............................] - ETA: 32s - loss: 0.4502 - accuracy: 0.8750\n",
      "  2/313 [..............................] - ETA: 1:20 - loss: 0.3690 - accuracy: 0.8750\n",
      " 17/313 [>.............................] - ETA: 6s - loss: 0.3495 - accuracy: 0.8897\n",
      " 45/313 [===>..........................] - ETA: 2s - loss: 0.3527 - accuracy: 0.8750\n",
      " 77/313 [======>.......................] - ETA: 1s - loss: 0.3342 - accuracy: 0.8758\n",
      "100/313 [========>.....................] - ETA: 1s - loss: 0.3586 - accuracy: 0.8694\n",
      "117/313 [==========>...................] - ETA: 1s - loss: 0.3651 - accuracy: 0.8673\n",
      "130/313 [===========>..................] - ETA: 1s - loss: 0.3731 - accuracy: 0.8661\n",
      "133/313 [===========>..................] - ETA: 1s - loss: 0.3718 - accuracy: 0.8670\n",
      "144/313 [============>.................] - ETA: 1s - loss: 0.3643 - accuracy: 0.8694\n",
      "146/313 [============>.................] - ETA: 1s - loss: 0.3646 - accuracy: 0.8690\n",
      "159/313 [==============>...............] - ETA: 1s - loss: 0.3677 - accuracy: 0.8677\n",
      "178/313 [================>.............] - ETA: 1s - loss: 0.3773 - accuracy: 0.8664\n",
      "184/313 [================>.............] - ETA: 1s - loss: 0.3768 - accuracy: 0.8668\n",
      "199/313 [==================>...........] - ETA: 1s - loss: 0.3725 - accuracy: 0.8681\n",
      "234/313 [=====================>........] - ETA: 0s - loss: 0.3676 - accuracy: 0.8675\n",
      "246/313 [======================>.......] - ETA: 0s - loss: 0.3622 - accuracy: 0.8688\n",
      "273/313 [=========================>....] - ETA: 0s - loss: 0.3632 - accuracy: 0.8687\n",
      "299/313 [===========================>..] - ETA: 0s - loss: 0.3664 - accuracy: 0.8679\n",
      "309/313 [============================>.] - ETA: 0s - loss: 0.3633 - accuracy: 0.8689\n",
      "313/313 [==============================] - 3s 10ms/step - loss: 0.3634 - accuracy: 0.8689\n"
     ]
    },
    {
     "name": "stderr",
     "output_type": "stream",
     "text": [
      "\u001b[33m(raylet)\u001b[0m [2024-02-23 12:10:24,759 E 58843 531688] (raylet) file_system_monitor.cc:111: /tmp/ray/session_2024-02-23_11-29-52_330678_58831 is over 95% full, available space: 7818477568; capacity: 245107195904. Object creation will fail if spilling is required.\n",
      "\u001b[33m(raylet)\u001b[0m [2024-02-23 12:10:34,774 E 58843 531688] (raylet) file_system_monitor.cc:111: /tmp/ray/session_2024-02-23_11-29-52_330678_58831 is over 95% full, available space: 7816630272; capacity: 245107195904. Object creation will fail if spilling is required.\n",
      "\u001b[33m(raylet)\u001b[0m [2024-02-23 12:10:44,778 E 58843 531688] (raylet) file_system_monitor.cc:111: /tmp/ray/session_2024-02-23_11-29-52_330678_58831 is over 95% full, available space: 7810580480; capacity: 245107195904. Object creation will fail if spilling is required.\n",
      "\u001b[33m(raylet)\u001b[0m [2024-02-23 12:10:54,869 E 58843 531688] (raylet) file_system_monitor.cc:111: /tmp/ray/session_2024-02-23_11-29-52_330678_58831 is over 95% full, available space: 7786422272; capacity: 245107195904. Object creation will fail if spilling is required.\n"
     ]
    },
    {
     "name": "stdout",
     "output_type": "stream",
     "text": [
      " 29/313 [=>............................] - ETA: 0s - loss: 0.3350 - accuracy: 0.8825 \n",
      " 75/313 [======>.......................] - ETA: 0s - loss: 0.3316 - accuracy: 0.8771\n",
      " 76/313 [======>.......................] - ETA: 1s - loss: 0.3304 - accuracy: 0.8766\n",
      " 77/313 [======>.......................] - ETA: 1s - loss: 0.3284 - accuracy: 0.8778\n",
      "119/313 [==========>...................] - ETA: 0s - loss: 0.3685 - accuracy: 0.8674\n",
      "135/313 [===========>..................] - ETA: 0s - loss: 0.3750 - accuracy: 0.8657\n",
      "141/313 [============>.................] - ETA: 0s - loss: 0.3676 - accuracy: 0.8686\n",
      "166/313 [==============>...............] - ETA: 0s - loss: 0.3758 - accuracy: 0.8662\n",
      "193/313 [=================>............] - ETA: 0s - loss: 0.3838 - accuracy: 0.8629\n",
      "231/313 [=====================>........] - ETA: 0s - loss: 0.3802 - accuracy: 0.8630\n",
      "245/313 [======================>.......] - ETA: 0s - loss: 0.3727 - accuracy: 0.8654\n",
      "288/313 [==========================>...] - ETA: 0s - loss: 0.3727 - accuracy: 0.8653\n",
      "300/313 [===========================>..] - ETA: 0s - loss: 0.3751 - accuracy: 0.8644\n",
      "303/313 [============================>.] - ETA: 0s - loss: 0.3753 - accuracy: 0.8644\n",
      "313/313 [==============================] - 2s 5ms/step - loss: 0.3729 - accuracy: 0.8652\n"
     ]
    },
    {
     "name": "stderr",
     "output_type": "stream",
     "text": [
      "\u001b[33m(raylet)\u001b[0m [2024-02-23 12:11:04,870 E 58843 531688] (raylet) file_system_monitor.cc:111: /tmp/ray/session_2024-02-23_11-29-52_330678_58831 is over 95% full, available space: 7779991552; capacity: 245107195904. Object creation will fail if spilling is required.\n",
      "\u001b[33m(raylet)\u001b[0m [2024-02-23 12:11:14,985 E 58843 531688] (raylet) file_system_monitor.cc:111: /tmp/ray/session_2024-02-23_11-29-52_330678_58831 is over 95% full, available space: 6697635840; capacity: 245107195904. Object creation will fail if spilling is required.\n",
      "\u001b[33m(raylet)\u001b[0m [2024-02-23 12:11:24,990 E 58843 531688] (raylet) file_system_monitor.cc:111: /tmp/ray/session_2024-02-23_11-29-52_330678_58831 is over 95% full, available space: 6696099840; capacity: 245107195904. Object creation will fail if spilling is required.\n",
      "\u001b[33m(raylet)\u001b[0m [2024-02-23 12:11:35,008 E 58843 531688] (raylet) file_system_monitor.cc:111: /tmp/ray/session_2024-02-23_11-29-52_330678_58831 is over 95% full, available space: 6693232640; capacity: 245107195904. Object creation will fail if spilling is required.\n",
      "\u001b[33m(raylet)\u001b[0m [2024-02-23 12:11:45,105 E 58843 531688] (raylet) file_system_monitor.cc:111: /tmp/ray/session_2024-02-23_11-29-52_330678_58831 is over 95% full, available space: 6681108480; capacity: 245107195904. Object creation will fail if spilling is required.\n"
     ]
    },
    {
     "name": "stdout",
     "output_type": "stream",
     "text": [
      " 20/313 [>.............................] - ETA: 0s - loss: 0.4349 - accuracy: 0.8813\n",
      " 55/313 [====>.........................] - ETA: 0s - loss: 0.4095 - accuracy: 0.8841\n",
      " 56/313 [====>.........................] - ETA: 1s - loss: 0.4069 - accuracy: 0.8856\n",
      "107/313 [=========>....................] - ETA: 0s - loss: 0.4285 - accuracy: 0.8768\n",
      "148/313 [=============>................] - ETA: 0s - loss: 0.4359 - accuracy: 0.8742\n",
      "166/313 [==============>...............] - ETA: 0s - loss: 0.4433 - accuracy: 0.8731\n",
      "174/313 [===============>..............] - ETA: 0s - loss: 0.4504 - accuracy: 0.8728\n",
      "185/313 [================>.............] - ETA: 0s - loss: 0.4440 - accuracy: 0.8733\n",
      "224/313 [====================>.........] - ETA: 0s - loss: 0.4339 - accuracy: 0.8750\n",
      "227/313 [====================>.........] - ETA: 0s - loss: 0.4344 - accuracy: 0.8746\n",
      "243/313 [======================>.......] - ETA: 0s - loss: 0.4228 - accuracy: 0.8772\n",
      "270/313 [========================>.....] - ETA: 0s - loss: 0.4199 - accuracy: 0.8769\n",
      "276/313 [=========================>....] - ETA: 0s - loss: 0.4226 - accuracy: 0.8760\n",
      "304/313 [============================>.] - ETA: 0s - loss: 0.4236 - accuracy: 0.8766\n",
      "313/313 [==============================] - 2s 5ms/step - loss: 0.4217 - accuracy: 0.8768\n"
     ]
    },
    {
     "name": "stderr",
     "output_type": "stream",
     "text": [
      "\u001b[33m(raylet)\u001b[0m [2024-02-23 12:11:55,206 E 58843 531688] (raylet) file_system_monitor.cc:111: /tmp/ray/session_2024-02-23_11-29-52_330678_58831 is over 95% full, available space: 6678511616; capacity: 245107195904. Object creation will fail if spilling is required.\n",
      "\u001b[33m(raylet)\u001b[0m [2024-02-23 12:12:05,237 E 58843 531688] (raylet) file_system_monitor.cc:111: /tmp/ray/session_2024-02-23_11-29-52_330678_58831 is over 95% full, available space: 6639316992; capacity: 245107195904. Object creation will fail if spilling is required.\n"
     ]
    },
    {
     "name": "stdout",
     "output_type": "stream",
     "text": [
      " 34/313 [==>...........................] - ETA: 0s - loss: 0.3700 - accuracy: 0.8879  \n",
      " 46/313 [===>..........................] - ETA: 1s - loss: 0.3613 - accuracy: 0.8865\n",
      " 75/313 [======>.......................] - ETA: 0s - loss: 0.3318 - accuracy: 0.8925\n",
      " 86/313 [=======>......................] - ETA: 0s - loss: 0.3419 - accuracy: 0.8881\n",
      "104/313 [========>.....................] - ETA: 0s - loss: 0.3680 - accuracy: 0.8831\n",
      "134/313 [===========>..................] - ETA: 0s - loss: 0.3798 - accuracy: 0.8785\n",
      "149/313 [=============>................] - ETA: 0s - loss: 0.3737 - accuracy: 0.8802\n",
      "176/313 [===============>..............] - ETA: 0s - loss: 0.3858 - accuracy: 0.8766\n",
      "193/313 [=================>............] - ETA: 0s - loss: 0.3803 - accuracy: 0.8786\n",
      "205/313 [==================>...........] - ETA: 0s - loss: 0.3764 - accuracy: 0.8794\n",
      "227/313 [====================>.........] - ETA: 0s - loss: 0.3748 - accuracy: 0.8798\n",
      "237/313 [=====================>........] - ETA: 0s - loss: 0.3683 - accuracy: 0.8820\n",
      "259/313 [=======================>......] - ETA: 0s - loss: 0.3625 - accuracy: 0.8828\n",
      "313/313 [==============================] - 2s 5ms/step - loss: 0.3596 - accuracy: 0.8837\n"
     ]
    },
    {
     "name": "stderr",
     "output_type": "stream",
     "text": [
      "\u001b[33m(raylet)\u001b[0m [2024-02-23 12:12:15,249 E 58843 531688] (raylet) file_system_monitor.cc:111: /tmp/ray/session_2024-02-23_11-29-52_330678_58831 is over 95% full, available space: 6622793728; capacity: 245107195904. Object creation will fail if spilling is required.\n",
      "\u001b[33m(raylet)\u001b[0m [2024-02-23 12:12:25,267 E 58843 531688] (raylet) file_system_monitor.cc:111: /tmp/ray/session_2024-02-23_11-29-52_330678_58831 is over 95% full, available space: 6619435008; capacity: 245107195904. Object creation will fail if spilling is required.\n",
      "\u001b[33m(raylet)\u001b[0m [2024-02-23 12:12:35,269 E 58843 531688] (raylet) file_system_monitor.cc:111: /tmp/ray/session_2024-02-23_11-29-52_330678_58831 is over 95% full, available space: 6618046464; capacity: 245107195904. Object creation will fail if spilling is required.\n",
      "\u001b[33m(raylet)\u001b[0m [2024-02-23 12:12:45,321 E 58843 531688] (raylet) file_system_monitor.cc:111: /tmp/ray/session_2024-02-23_11-29-52_330678_58831 is over 95% full, available space: 6602903552; capacity: 245107195904. Object creation will fail if spilling is required.\n"
     ]
    },
    {
     "name": "stdout",
     "output_type": "stream",
     "text": [
      "  1/313 [..............................] - ETA: 10s - loss: 0.5852 - accuracy: 0.8125\n",
      " 33/313 [==>...........................] - ETA: 0s - loss: 0.4020 - accuracy: 0.8826 \n",
      " 58/313 [====>.........................] - ETA: 2s - loss: 0.3658 - accuracy: 0.8798\n",
      " 76/313 [======>.......................] - ETA: 2s - loss: 0.3597 - accuracy: 0.8791\n",
      " 82/313 [======>.......................] - ETA: 2s - loss: 0.3653 - accuracy: 0.8769\n",
      " 84/313 [=======>......................] - ETA: 2s - loss: 0.3636 - accuracy: 0.8772\n",
      " 89/313 [=======>......................] - ETA: 3s - loss: 0.3679 - accuracy: 0.8768\n",
      "103/313 [========>.....................] - ETA: 2s - loss: 0.3948 - accuracy: 0.8717\n",
      "151/313 [=============>................] - ETA: 1s - loss: 0.3979 - accuracy: 0.8729\n",
      "190/313 [=================>............] - ETA: 1s - loss: 0.4129 - accuracy: 0.8714\n",
      "207/313 [==================>...........] - ETA: 0s - loss: 0.4093 - accuracy: 0.8718\n",
      "213/313 [===================>..........] - ETA: 0s - loss: 0.4080 - accuracy: 0.8719\n",
      "227/313 [====================>.........] - ETA: 0s - loss: 0.4080 - accuracy: 0.8713\n"
     ]
    },
    {
     "name": "stderr",
     "output_type": "stream",
     "text": [
      "\u001b[33m(raylet)\u001b[0m [2024-02-23 12:12:55,327 E 58843 531688] (raylet) file_system_monitor.cc:111: /tmp/ray/session_2024-02-23_11-29-52_330678_58831 is over 95% full, available space: 5517139968; capacity: 245107195904. Object creation will fail if spilling is required.\n"
     ]
    },
    {
     "name": "stdout",
     "output_type": "stream",
     "text": [
      "236/313 [=====================>........] - ETA: 0s - loss: 0.4044 - accuracy: 0.8725\n",
      "257/313 [=======================>......] - ETA: 0s - loss: 0.4022 - accuracy: 0.8724\n",
      "295/313 [===========================>..] - ETA: 0s - loss: 0.4018 - accuracy: 0.8735\n",
      "313/313 [==============================] - 2s 8ms/step - loss: 0.4013 - accuracy: 0.8744\n"
     ]
    },
    {
     "name": "stderr",
     "output_type": "stream",
     "text": [
      "\u001b[33m(raylet)\u001b[0m [2024-02-23 12:13:05,386 E 58843 531688] (raylet) file_system_monitor.cc:111: /tmp/ray/session_2024-02-23_11-29-52_330678_58831 is over 95% full, available space: 5513277440; capacity: 245107195904. Object creation will fail if spilling is required.\n",
      "\u001b[33m(raylet)\u001b[0m [2024-02-23 12:13:15,487 E 58843 531688] (raylet) file_system_monitor.cc:111: /tmp/ray/session_2024-02-23_11-29-52_330678_58831 is over 95% full, available space: 5536645120; capacity: 245107195904. Object creation will fail if spilling is required.\n",
      "\u001b[33m(raylet)\u001b[0m [2024-02-23 12:13:25,585 E 58843 531688] (raylet) file_system_monitor.cc:111: /tmp/ray/session_2024-02-23_11-29-52_330678_58831 is over 95% full, available space: 5534191616; capacity: 245107195904. Object creation will fail if spilling is required.\n"
     ]
    },
    {
     "name": "stdout",
     "output_type": "stream",
     "text": [
      "  1/313 [..............................] - ETA: 7s - loss: 0.3222 - accuracy: 0.8438\n",
      " 36/313 [==>...........................] - ETA: 1s - loss: 0.3478 - accuracy: 0.8741\n",
      " 54/313 [====>.........................] - ETA: 1s - loss: 0.3392 - accuracy: 0.8721\n",
      " 67/313 [=====>........................] - ETA: 1s - loss: 0.3417 - accuracy: 0.8759\n",
      " 74/313 [======>.......................] - ETA: 2s - loss: 0.3370 - accuracy: 0.8767\n",
      " 77/313 [======>.......................] - ETA: 2s - loss: 0.3340 - accuracy: 0.8766\n",
      "116/313 [==========>...................] - ETA: 1s - loss: 0.3707 - accuracy: 0.8683\n",
      "135/313 [===========>..................] - ETA: 1s - loss: 0.3766 - accuracy: 0.8662\n",
      "148/313 [=============>................] - ETA: 1s - loss: 0.3697 - accuracy: 0.8697\n",
      "158/313 [==============>...............] - ETA: 1s - loss: 0.3720 - accuracy: 0.8689\n",
      "173/313 [===============>..............] - ETA: 0s - loss: 0.3820 - accuracy: 0.8690\n",
      "204/313 [==================>...........] - ETA: 0s - loss: 0.3787 - accuracy: 0.8693\n",
      "217/313 [===================>..........] - ETA: 0s - loss: 0.3815 - accuracy: 0.8697\n",
      "237/313 [=====================>........] - ETA: 0s - loss: 0.3766 - accuracy: 0.8712\n",
      "258/313 [=======================>......] - ETA: 0s - loss: 0.3736 - accuracy: 0.8715\n",
      "278/313 [=========================>....] - ETA: 0s - loss: 0.3731 - accuracy: 0.8720\n",
      "297/313 [===========================>..] - ETA: 0s - loss: 0.3760 - accuracy: 0.8714\n",
      "302/313 [===========================>..] - ETA: 0s - loss: 0.3762 - accuracy: 0.8716\n",
      "313/313 [==============================] - 2s 6ms/step - loss: 0.3748 - accuracy: 0.8719\n"
     ]
    },
    {
     "name": "stderr",
     "output_type": "stream",
     "text": [
      "\u001b[33m(raylet)\u001b[0m [2024-02-23 12:13:35,597 E 58843 531688] (raylet) file_system_monitor.cc:111: /tmp/ray/session_2024-02-23_11-29-52_330678_58831 is over 95% full, available space: 5534023680; capacity: 245107195904. Object creation will fail if spilling is required.\n",
      "\u001b[33m(raylet)\u001b[0m [2024-02-23 12:13:45,598 E 58843 531688] (raylet) file_system_monitor.cc:111: /tmp/ray/session_2024-02-23_11-29-52_330678_58831 is over 95% full, available space: 5533024256; capacity: 245107195904. Object creation will fail if spilling is required.\n",
      "\u001b[33m(raylet)\u001b[0m [2024-02-23 12:13:55,694 E 58843 531688] (raylet) file_system_monitor.cc:111: /tmp/ray/session_2024-02-23_11-29-52_330678_58831 is over 95% full, available space: 5530333184; capacity: 245107195904. Object creation will fail if spilling is required.\n",
      "\u001b[33m(raylet)\u001b[0m [2024-02-23 12:14:05,694 E 58843 531688] (raylet) file_system_monitor.cc:111: /tmp/ray/session_2024-02-23_11-29-52_330678_58831 is over 95% full, available space: 5528031232; capacity: 245107195904. Object creation will fail if spilling is required.\n"
     ]
    },
    {
     "name": "stdout",
     "output_type": "stream",
     "text": [
      " 28/313 [=>............................] - ETA: 0s - loss: 0.3349 - accuracy: 0.8873  \n",
      " 57/313 [====>.........................] - ETA: 0s - loss: 0.3362 - accuracy: 0.8810\n",
      " 62/313 [====>.........................] - ETA: 0s - loss: 0.3388 - accuracy: 0.8821\n",
      " 63/313 [=====>........................] - ETA: 1s - loss: 0.3391 - accuracy: 0.8824\n",
      " 68/313 [=====>........................] - ETA: 1s - loss: 0.3378 - accuracy: 0.8819\n",
      " 73/313 [=====>........................] - ETA: 1s - loss: 0.3326 - accuracy: 0.8836\n",
      " 75/313 [======>.......................] - ETA: 2s - loss: 0.3324 - accuracy: 0.8833\n",
      " 87/313 [=======>......................] - ETA: 1s - loss: 0.3425 - accuracy: 0.8782\n",
      " 98/313 [========>.....................] - ETA: 2s - loss: 0.3548 - accuracy: 0.8750\n",
      "111/313 [=========>....................] - ETA: 1s - loss: 0.3656 - accuracy: 0.8722\n",
      "120/313 [==========>...................] - ETA: 1s - loss: 0.3650 - accuracy: 0.8719\n",
      "141/313 [============>.................] - ETA: 1s - loss: 0.3627 - accuracy: 0.8732\n",
      "151/313 [=============>................] - ETA: 1s - loss: 0.3636 - accuracy: 0.8729\n",
      "167/313 [===============>..............] - ETA: 1s - loss: 0.3699 - accuracy: 0.8713\n",
      "177/313 [===============>..............] - ETA: 1s - loss: 0.3736 - accuracy: 0.8706\n",
      "201/313 [==================>...........] - ETA: 0s - loss: 0.3713 - accuracy: 0.8705\n",
      "214/313 [===================>..........] - ETA: 0s - loss: 0.3714 - accuracy: 0.8703\n",
      "225/313 [====================>.........] - ETA: 0s - loss: 0.3706 - accuracy: 0.8697\n",
      "244/313 [======================>.......] - ETA: 0s - loss: 0.3635 - accuracy: 0.8715\n",
      "270/313 [========================>.....] - ETA: 0s - loss: 0.3624 - accuracy: 0.8716\n",
      "276/313 [=========================>....] - ETA: 0s - loss: 0.3637 - accuracy: 0.8713\n",
      "287/313 [==========================>...] - ETA: 0s - loss: 0.3650 - accuracy: 0.8713\n",
      "306/313 [============================>.] - ETA: 0s - loss: 0.3640 - accuracy: 0.8715\n",
      "313/313 [==============================] - 3s 8ms/step - loss: 0.3635 - accuracy: 0.8719\n"
     ]
    },
    {
     "name": "stderr",
     "output_type": "stream",
     "text": [
      "\u001b[33m(raylet)\u001b[0m [2024-02-23 12:14:15,719 E 58843 531688] (raylet) file_system_monitor.cc:111: /tmp/ray/session_2024-02-23_11-29-52_330678_58831 is over 95% full, available space: 5517697024; capacity: 245107195904. Object creation will fail if spilling is required.\n",
      "\u001b[33m(raylet)\u001b[0m [2024-02-23 12:14:25,729 E 58843 531688] (raylet) file_system_monitor.cc:111: /tmp/ray/session_2024-02-23_11-29-52_330678_58831 is over 95% full, available space: 5523972096; capacity: 245107195904. Object creation will fail if spilling is required.\n"
     ]
    },
    {
     "name": "stdout",
     "output_type": "stream",
     "text": [
      " 40/313 [==>...........................] - ETA: 0s - loss: 0.3395 - accuracy: 0.8797\n",
      " 67/313 [=====>........................] - ETA: 0s - loss: 0.3359 - accuracy: 0.8811\n",
      " 87/313 [=======>......................] - ETA: 0s - loss: 0.3394 - accuracy: 0.8775\n",
      " 89/313 [=======>......................] - ETA: 0s - loss: 0.3395 - accuracy: 0.8778\n",
      "106/313 [=========>....................] - ETA: 1s - loss: 0.3588 - accuracy: 0.8723\n",
      "111/313 [=========>....................] - ETA: 1s - loss: 0.3690 - accuracy: 0.8699\n",
      "134/313 [===========>..................] - ETA: 1s - loss: 0.3729 - accuracy: 0.8680\n",
      "181/313 [================>.............] - ETA: 0s - loss: 0.3825 - accuracy: 0.8662\n",
      "198/313 [=================>............] - ETA: 0s - loss: 0.3807 - accuracy: 0.8666\n",
      "202/313 [==================>...........] - ETA: 0s - loss: 0.3790 - accuracy: 0.8673\n",
      "213/313 [===================>..........] - ETA: 0s - loss: 0.3808 - accuracy: 0.8672\n",
      "231/313 [=====================>........] - ETA: 0s - loss: 0.3784 - accuracy: 0.8673\n",
      "244/313 [======================>.......] - ETA: 0s - loss: 0.3719 - accuracy: 0.8689\n",
      "257/313 [=======================>......] - ETA: 0s - loss: 0.3717 - accuracy: 0.8686\n",
      "313/313 [==============================] - 2s 6ms/step - loss: 0.3739 - accuracy: 0.8684\n"
     ]
    },
    {
     "name": "stderr",
     "output_type": "stream",
     "text": [
      "\u001b[33m(raylet)\u001b[0m [2024-02-23 12:14:35,829 E 58843 531688] (raylet) file_system_monitor.cc:111: /tmp/ray/session_2024-02-23_11-29-52_330678_58831 is over 95% full, available space: 5523505152; capacity: 245107195904. Object creation will fail if spilling is required.\n",
      "\u001b[33m(raylet)\u001b[0m [2024-02-23 12:14:45,868 E 58843 531688] (raylet) file_system_monitor.cc:111: /tmp/ray/session_2024-02-23_11-29-52_330678_58831 is over 95% full, available space: 4445102080; capacity: 245107195904. Object creation will fail if spilling is required.\n",
      "\u001b[33m(raylet)\u001b[0m [2024-02-23 12:14:55,872 E 58843 531688] (raylet) file_system_monitor.cc:111: /tmp/ray/session_2024-02-23_11-29-52_330678_58831 is over 95% full, available space: 4443324416; capacity: 245107195904. Object creation will fail if spilling is required.\n",
      "\u001b[33m(raylet)\u001b[0m [2024-02-23 12:15:05,972 E 58843 531688] (raylet) file_system_monitor.cc:111: /tmp/ray/session_2024-02-23_11-29-52_330678_58831 is over 95% full, available space: 4439560192; capacity: 245107195904. Object creation will fail if spilling is required.\n",
      "\u001b[33m(raylet)\u001b[0m [2024-02-23 12:15:15,985 E 58843 531688] (raylet) file_system_monitor.cc:111: /tmp/ray/session_2024-02-23_11-29-52_330678_58831 is over 95% full, available space: 4439543808; capacity: 245107195904. Object creation will fail if spilling is required.\n",
      "\u001b[33m(raylet)\u001b[0m [2024-02-23 12:15:25,985 E 58843 531688] (raylet) file_system_monitor.cc:111: /tmp/ray/session_2024-02-23_11-29-52_330678_58831 is over 95% full, available space: 4439465984; capacity: 245107195904. Object creation will fail if spilling is required.\n",
      "\u001b[33m(raylet)\u001b[0m [2024-02-23 12:15:36,007 E 58843 531688] (raylet) file_system_monitor.cc:111: /tmp/ray/session_2024-02-23_11-29-52_330678_58831 is over 95% full, available space: 4436606976; capacity: 245107195904. Object creation will fail if spilling is required.\n"
     ]
    },
    {
     "name": "stdout",
     "output_type": "stream",
     "text": [
      " 22/313 [=>............................] - ETA: 0s - loss: 0.3587 - accuracy: 0.8906  \n",
      " 23/313 [=>............................] - ETA: 1s - loss: 0.3763 - accuracy: 0.8872\n",
      " 28/313 [=>............................] - ETA: 2s - loss: 0.3585 - accuracy: 0.8929\n",
      " 29/313 [=>............................] - ETA: 3s - loss: 0.3623 - accuracy: 0.8912\n"
     ]
    },
    {
     "name": "stderr",
     "output_type": "stream",
     "text": [
      "\u001b[33m(raylet)\u001b[0m [2024-02-23 12:15:46,020 E 58843 531688] (raylet) file_system_monitor.cc:111: /tmp/ray/session_2024-02-23_11-29-52_330678_58831 is over 95% full, available space: 4444962816; capacity: 245107195904. Object creation will fail if spilling is required.\n"
     ]
    },
    {
     "name": "stdout",
     "output_type": "stream",
     "text": [
      " 39/313 [==>...........................] - ETA: 3s - loss: 0.3677 - accuracy: 0.8854\n",
      " 62/313 [====>.........................] - ETA: 2s - loss: 0.3713 - accuracy: 0.8866\n",
      "105/313 [=========>....................] - ETA: 1s - loss: 0.3922 - accuracy: 0.8765\n",
      "160/313 [==============>...............] - ETA: 0s - loss: 0.4088 - accuracy: 0.8721\n",
      "206/313 [==================>...........] - ETA: 0s - loss: 0.4131 - accuracy: 0.8721\n",
      "212/313 [===================>..........] - ETA: 0s - loss: 0.4139 - accuracy: 0.8723\n",
      "215/313 [===================>..........] - ETA: 0s - loss: 0.4129 - accuracy: 0.8727\n",
      "221/313 [====================>.........] - ETA: 0s - loss: 0.4119 - accuracy: 0.8729\n",
      "231/313 [=====================>........] - ETA: 0s - loss: 0.4103 - accuracy: 0.8736\n",
      "242/313 [======================>.......] - ETA: 0s - loss: 0.4011 - accuracy: 0.8754\n",
      "254/313 [=======================>......] - ETA: 0s - loss: 0.4003 - accuracy: 0.8752\n",
      "266/313 [========================>.....] - ETA: 0s - loss: 0.3955 - accuracy: 0.8769\n",
      "272/313 [=========================>....] - ETA: 0s - loss: 0.3955 - accuracy: 0.8771\n",
      "284/313 [==========================>...] - ETA: 0s - loss: 0.3972 - accuracy: 0.8767\n",
      "313/313 [==============================] - 2s 6ms/step - loss: 0.3972 - accuracy: 0.8771\n",
      " 43/313 [===>..........................] - ETA: 0s - loss: 0.3473 - accuracy: 0.8874\n",
      " 64/313 [=====>........................] - ETA: 1s - loss: 0.3442 - accuracy: 0.8857\n",
      " 82/313 [======>.......................] - ETA: 1s - loss: 0.3471 - accuracy: 0.8861\n",
      " 91/313 [=======>......................] - ETA: 1s - loss: 0.3535 - accuracy: 0.8832\n",
      "106/313 [=========>....................] - ETA: 1s - loss: 0.3718 - accuracy: 0.8809\n",
      "112/313 [=========>....................] - ETA: 1s - loss: 0.3836 - accuracy: 0.8786\n",
      "131/313 [===========>..................] - ETA: 1s - loss: 0.3969 - accuracy: 0.8757\n",
      "148/313 [=============>................] - ETA: 1s - loss: 0.3870 - accuracy: 0.8794\n",
      "158/313 [==============>...............] - ETA: 1s - loss: 0.3895 - accuracy: 0.8790\n",
      "171/313 [===============>..............] - ETA: 0s - loss: 0.3926 - accuracy: 0.8787\n",
      "188/313 [=================>............] - ETA: 0s - loss: 0.3992 - accuracy: 0.8777\n",
      "195/313 [=================>............] - ETA: 0s - loss: 0.3965 - accuracy: 0.8784\n",
      "207/313 [==================>...........] - ETA: 0s - loss: 0.3963 - accuracy: 0.8791\n",
      "277/313 [=========================>....] - ETA: 0s - loss: 0.3835 - accuracy: 0.8801\n",
      "219/313 [===================>..........] - ETA: 0s - loss: 0.3935 - accuracy: 0.8793\n",
      "287/313 [==========================>...] - ETA: 0s - loss: 0.3851 - accuracy: 0.8806\n",
      "300/313 [===========================>..] - ETA: 0s - loss: 0.3866 - accuracy: 0.8806\n",
      "306/313 [============================>.] - ETA: 0s - loss: 0.3858 - accuracy: 0.8813\n",
      "234/313 [=====================>........] - ETA: 0s - loss: 0.3866 - accuracy: 0.8807\n",
      "313/313 [==============================] - 2s 8ms/step - loss: 0.3859 - accuracy: 0.8816\n"
     ]
    },
    {
     "name": "stderr",
     "output_type": "stream",
     "text": [
      "\u001b[33m(raylet)\u001b[0m [2024-02-23 12:15:56,040 E 58843 531688] (raylet) file_system_monitor.cc:111: /tmp/ray/session_2024-02-23_11-29-52_330678_58831 is over 95% full, available space: 6593675264; capacity: 245107195904. Object creation will fail if spilling is required.\n",
      "\u001b[33m(raylet)\u001b[0m [2024-02-23 12:16:06,139 E 58843 531688] (raylet) file_system_monitor.cc:111: /tmp/ray/session_2024-02-23_11-29-52_330678_58831 is over 95% full, available space: 6592774144; capacity: 245107195904. Object creation will fail if spilling is required.\n",
      "\u001b[33m(raylet)\u001b[0m [2024-02-23 12:16:16,143 E 58843 531688] (raylet) file_system_monitor.cc:111: /tmp/ray/session_2024-02-23_11-29-52_330678_58831 is over 95% full, available space: 6592430080; capacity: 245107195904. Object creation will fail if spilling is required.\n",
      "\u001b[33m(raylet)\u001b[0m [2024-02-23 12:16:26,243 E 58843 531688] (raylet) file_system_monitor.cc:111: /tmp/ray/session_2024-02-23_11-29-52_330678_58831 is over 95% full, available space: 6591733760; capacity: 245107195904. Object creation will fail if spilling is required.\n",
      "\u001b[33m(raylet)\u001b[0m [2024-02-23 12:16:36,245 E 58843 531688] (raylet) file_system_monitor.cc:111: /tmp/ray/session_2024-02-23_11-29-52_330678_58831 is over 95% full, available space: 6591275008; capacity: 245107195904. Object creation will fail if spilling is required.\n",
      "\u001b[33m(raylet)\u001b[0m [2024-02-23 12:16:46,248 E 58843 531688] (raylet) file_system_monitor.cc:111: /tmp/ray/session_2024-02-23_11-29-52_330678_58831 is over 95% full, available space: 6589452288; capacity: 245107195904. Object creation will fail if spilling is required.\n",
      "\u001b[33m(raylet)\u001b[0m [2024-02-23 12:16:56,346 E 58843 531688] (raylet) file_system_monitor.cc:111: /tmp/ray/session_2024-02-23_11-29-52_330678_58831 is over 95% full, available space: 6589304832; capacity: 245107195904. Object creation will fail if spilling is required.\n",
      "\u001b[33m(raylet)\u001b[0m [2024-02-23 12:17:06,347 E 58843 531688] (raylet) file_system_monitor.cc:111: /tmp/ray/session_2024-02-23_11-29-52_330678_58831 is over 95% full, available space: 6586793984; capacity: 245107195904. Object creation will fail if spilling is required.\n"
     ]
    },
    {
     "name": "stdout",
     "output_type": "stream",
     "text": [
      "  1/313 [..............................] - ETA: 1:37 - loss: 0.3310 - accuracy: 0.8750\n",
      "265/313 [========================>.....] - ETA: 0s - loss: 0.3822 - accuracy: 0.8811\n",
      " 34/313 [==>...........................] - ETA: 0s - loss: 0.3116 - accuracy: 0.8860\n",
      " 40/313 [==>...........................] - ETA: 1s - loss: 0.3109 - accuracy: 0.8836\n",
      " 45/313 [===>..........................] - ETA: 1s - loss: 0.3104 - accuracy: 0.8833\n",
      " 77/313 [======>.......................] - ETA: 1s - loss: 0.2945 - accuracy: 0.8892\n",
      " 86/313 [=======>......................] - ETA: 1s - loss: 0.3039 - accuracy: 0.8852\n",
      " 99/313 [========>.....................] - ETA: 1s - loss: 0.3146 - accuracy: 0.8832\n",
      "130/313 [===========>..................] - ETA: 1s - loss: 0.3349 - accuracy: 0.8774\n",
      "135/313 [===========>..................] - ETA: 1s - loss: 0.3326 - accuracy: 0.8778\n",
      "152/313 [=============>................] - ETA: 1s - loss: 0.3285 - accuracy: 0.8806\n",
      "167/313 [===============>..............] - ETA: 1s - loss: 0.3345 - accuracy: 0.8797\n",
      "207/313 [==================>...........] - ETA: 0s - loss: 0.3390 - accuracy: 0.8795\n",
      "224/313 [====================>.........] - ETA: 0s - loss: 0.3364 - accuracy: 0.8792\n",
      "239/313 [=====================>........] - ETA: 0s - loss: 0.3318 - accuracy: 0.8808\n",
      "274/313 [=========================>....] - ETA: 0s - loss: 0.3297 - accuracy: 0.8816\n",
      "286/313 [==========================>...] - ETA: 0s - loss: 0.3297 - accuracy: 0.8820\n",
      "294/313 [===========================>..] - ETA: 0s - loss: 0.3297 - accuracy: 0.8817\n",
      "313/313 [==============================] - 2s 6ms/step - loss: 0.3285 - accuracy: 0.8826\n"
     ]
    },
    {
     "name": "stderr",
     "output_type": "stream",
     "text": [
      "\u001b[33m(raylet)\u001b[0m [2024-02-23 12:17:16,445 E 58843 531688] (raylet) file_system_monitor.cc:111: /tmp/ray/session_2024-02-23_11-29-52_330678_58831 is over 95% full, available space: 6586548224; capacity: 245107195904. Object creation will fail if spilling is required.\n",
      "\u001b[33m(raylet)\u001b[0m [2024-02-23 12:17:26,445 E 58843 531688] (raylet) file_system_monitor.cc:111: /tmp/ray/session_2024-02-23_11-29-52_330678_58831 is over 95% full, available space: 6585790464; capacity: 245107195904. Object creation will fail if spilling is required.\n"
     ]
    },
    {
     "name": "stdout",
     "output_type": "stream",
     "text": [
      "  1/313 [..............................] - ETA: 7s - loss: 0.6061 - accuracy: 0.8750\n",
      " 41/313 [==>...........................] - ETA: 0s - loss: 0.3803 - accuracy: 0.8986\n",
      " 82/313 [======>.......................] - ETA: 0s - loss: 0.3582 - accuracy: 0.8914\n",
      " 98/313 [========>.....................] - ETA: 0s - loss: 0.3645 - accuracy: 0.8890\n",
      "120/313 [==========>...................] - ETA: 0s - loss: 0.3830 - accuracy: 0.8839\n",
      "168/313 [===============>..............] - ETA: 0s - loss: 0.3916 - accuracy: 0.8845\n",
      "178/313 [================>.............] - ETA: 0s - loss: 0.3984 - accuracy: 0.8829\n",
      "180/313 [================>.............] - ETA: 0s - loss: 0.3966 - accuracy: 0.8830\n",
      "196/313 [=================>............] - ETA: 0s - loss: 0.3975 - accuracy: 0.8823\n",
      "217/313 [===================>..........] - ETA: 0s - loss: 0.3927 - accuracy: 0.8828\n",
      "226/313 [====================>.........] - ETA: 0s - loss: 0.3915 - accuracy: 0.8825\n",
      "253/313 [=======================>......] - ETA: 0s - loss: 0.3800 - accuracy: 0.8850\n",
      "263/313 [========================>.....] - ETA: 0s - loss: 0.3771 - accuracy: 0.8865\n",
      "277/313 [=========================>....] - ETA: 0s - loss: 0.3789 - accuracy: 0.8859\n",
      "291/313 [==========================>...] - ETA: 0s - loss: 0.3790 - accuracy: 0.8861\n",
      "300/313 [===========================>..] - ETA: 0s - loss: 0.3787 - accuracy: 0.8865\n",
      "301/313 [===========================>..] - ETA: 0s - loss: 0.3778 - accuracy: 0.8866\n",
      "313/313 [==============================] - 2s 6ms/step - loss: 0.3763 - accuracy: 0.8868\n"
     ]
    },
    {
     "name": "stderr",
     "output_type": "stream",
     "text": [
      "\u001b[33m(raylet)\u001b[0m [2024-02-23 12:17:36,545 E 58843 531688] (raylet) file_system_monitor.cc:111: /tmp/ray/session_2024-02-23_11-29-52_330678_58831 is over 95% full, available space: 5511213056; capacity: 245107195904. Object creation will fail if spilling is required.\n",
      "\u001b[33m(raylet)\u001b[0m [2024-02-23 12:17:46,545 E 58843 531688] (raylet) file_system_monitor.cc:111: /tmp/ray/session_2024-02-23_11-29-52_330678_58831 is over 95% full, available space: 5511135232; capacity: 245107195904. Object creation will fail if spilling is required.\n"
     ]
    },
    {
     "name": "stdout",
     "output_type": "stream",
     "text": [
      "  1/313 [..............................] - ETA: 2:50 - loss: 0.3044 - accuracy: 0.9062\n",
      " 49/313 [===>..........................] - ETA: 0s - loss: 0.3524 - accuracy: 0.8782  \n",
      " 99/313 [========>.....................] - ETA: 0s - loss: 0.3671 - accuracy: 0.8706\n",
      "146/313 [============>.................] - ETA: 0s - loss: 0.3732 - accuracy: 0.8690\n",
      "147/313 [=============>................] - ETA: 0s - loss: 0.3758 - accuracy: 0.8684\n",
      "148/313 [=============>................] - ETA: 0s - loss: 0.3752 - accuracy: 0.8689\n",
      "154/313 [=============>................] - ETA: 0s - loss: 0.3763 - accuracy: 0.8683\n",
      "169/313 [===============>..............] - ETA: 0s - loss: 0.3815 - accuracy: 0.8667\n",
      "203/313 [==================>...........] - ETA: 0s - loss: 0.3837 - accuracy: 0.8655\n",
      "223/313 [====================>.........] - ETA: 0s - loss: 0.3830 - accuracy: 0.8658\n",
      "234/313 [=====================>........] - ETA: 0s - loss: 0.3785 - accuracy: 0.8674\n",
      "257/313 [=======================>......] - ETA: 0s - loss: 0.3769 - accuracy: 0.8678\n",
      "263/313 [========================>.....] - ETA: 0s - loss: 0.3752 - accuracy: 0.8689\n",
      "277/313 [=========================>....] - ETA: 0s - loss: 0.3763 - accuracy: 0.8687\n",
      "284/313 [==========================>...] - ETA: 0s - loss: 0.3770 - accuracy: 0.8684\n",
      "313/313 [==============================] - 2s 5ms/step - loss: 0.3772 - accuracy: 0.8683\n"
     ]
    },
    {
     "name": "stderr",
     "output_type": "stream",
     "text": [
      "\u001b[33m(raylet)\u001b[0m [2024-02-23 12:17:56,602 E 58843 531688] (raylet) file_system_monitor.cc:111: /tmp/ray/session_2024-02-23_11-29-52_330678_58831 is over 95% full, available space: 5517516800; capacity: 245107195904. Object creation will fail if spilling is required.\n",
      "\u001b[33m(raylet)\u001b[0m [2024-02-23 12:18:06,613 E 58843 531688] (raylet) file_system_monitor.cc:111: /tmp/ray/session_2024-02-23_11-29-52_330678_58831 is over 95% full, available space: 5516558336; capacity: 245107195904. Object creation will fail if spilling is required.\n",
      "\u001b[33m(raylet)\u001b[0m [2024-02-23 12:18:16,618 E 58843 531688] (raylet) file_system_monitor.cc:111: /tmp/ray/session_2024-02-23_11-29-52_330678_58831 is over 95% full, available space: 5516484608; capacity: 245107195904. Object creation will fail if spilling is required.\n",
      "\u001b[33m(raylet)\u001b[0m [2024-02-23 12:18:26,623 E 58843 531688] (raylet) file_system_monitor.cc:111: /tmp/ray/session_2024-02-23_11-29-52_330678_58831 is over 95% full, available space: 5518503936; capacity: 245107195904. Object creation will fail if spilling is required.\n",
      "\u001b[33m(raylet)\u001b[0m [2024-02-23 12:18:36,658 E 58843 531688] (raylet) file_system_monitor.cc:111: /tmp/ray/session_2024-02-23_11-29-52_330678_58831 is over 95% full, available space: 5509140480; capacity: 245107195904. Object creation will fail if spilling is required.\n",
      "\u001b[33m(raylet)\u001b[0m [2024-02-23 12:18:46,756 E 58843 531688] (raylet) file_system_monitor.cc:111: /tmp/ray/session_2024-02-23_11-29-52_330678_58831 is over 95% full, available space: 5509120000; capacity: 245107195904. Object creation will fail if spilling is required.\n",
      "\u001b[33m(raylet)\u001b[0m [2024-02-23 12:18:56,759 E 58843 531688] (raylet) file_system_monitor.cc:111: /tmp/ray/session_2024-02-23_11-29-52_330678_58831 is over 95% full, available space: 5508919296; capacity: 245107195904. Object creation will fail if spilling is required.\n",
      "\u001b[33m(raylet)\u001b[0m [2024-02-23 12:19:06,769 E 58843 531688] (raylet) file_system_monitor.cc:111: /tmp/ray/session_2024-02-23_11-29-52_330678_58831 is over 95% full, available space: 5506826240; capacity: 245107195904. Object creation will fail if spilling is required.\n",
      "\u001b[33m(raylet)\u001b[0m [2024-02-23 12:19:16,810 E 58843 531688] (raylet) file_system_monitor.cc:111: /tmp/ray/session_2024-02-23_11-29-52_330678_58831 is over 95% full, available space: 5502459904; capacity: 245107195904. Object creation will fail if spilling is required.\n",
      "\u001b[33m(raylet)\u001b[0m [2024-02-23 12:19:26,908 E 58843 531688] (raylet) file_system_monitor.cc:111: /tmp/ray/session_2024-02-23_11-29-52_330678_58831 is over 95% full, available space: 5511651328; capacity: 245107195904. Object creation will fail if spilling is required.\n"
     ]
    },
    {
     "name": "stdout",
     "output_type": "stream",
     "text": [
      " 22/313 [=>............................] - ETA: 0s - loss: 0.3424 - accuracy: 0.8750\n",
      " 23/313 [=>............................] - ETA: 2s - loss: 0.3543 - accuracy: 0.8750\n",
      " 25/313 [=>............................] - ETA: 3s - loss: 0.3478 - accuracy: 0.8813\n",
      " 29/313 [=>............................] - ETA: 4s - loss: 0.3355 - accuracy: 0.8847\n",
      " 57/313 [====>.........................] - ETA: 2s - loss: 0.3241 - accuracy: 0.8860\n",
      " 76/313 [======>.......................] - ETA: 1s - loss: 0.3181 - accuracy: 0.8849\n",
      " 82/313 [======>.......................] - ETA: 1s - loss: 0.3282 - accuracy: 0.8815\n",
      " 96/313 [========>.....................] - ETA: 1s - loss: 0.3399 - accuracy: 0.8773\n",
      " 97/313 [========>.....................] - ETA: 1s - loss: 0.3420 - accuracy: 0.8763\n",
      "122/313 [==========>...................] - ETA: 1s - loss: 0.3562 - accuracy: 0.8737\n",
      "127/313 [===========>..................] - ETA: 1s - loss: 0.3578 - accuracy: 0.8733\n",
      "170/313 [===============>..............] - ETA: 0s - loss: 0.3574 - accuracy: 0.8732\n",
      "181/313 [================>.............] - ETA: 0s - loss: 0.3643 - accuracy: 0.8719\n",
      "211/313 [===================>..........] - ETA: 0s - loss: 0.3616 - accuracy: 0.8725\n",
      "245/313 [======================>.......] - ETA: 0s - loss: 0.3516 - accuracy: 0.8754\n",
      "255/313 [=======================>......] - ETA: 0s - loss: 0.3524 - accuracy: 0.8749\n",
      "259/313 [=======================>......] - ETA: 0s - loss: 0.3509 - accuracy: 0.8755\n",
      "270/313 [========================>.....] - ETA: 0s - loss: 0.3498 - accuracy: 0.8756\n",
      "296/313 [===========================>..] - ETA: 0s - loss: 0.3507 - accuracy: 0.8752\n",
      "298/313 [===========================>..] - ETA: 0s - loss: 0.3514 - accuracy: 0.8753\n",
      "311/313 [============================>.] - ETA: 0s - loss: 0.3505 - accuracy: 0.8757\n",
      "313/313 [==============================] - 2s 7ms/step - loss: 0.3505 - accuracy: 0.8755\n"
     ]
    },
    {
     "name": "stderr",
     "output_type": "stream",
     "text": [
      "\u001b[33m(raylet)\u001b[0m [2024-02-23 12:19:36,911 E 58843 531688] (raylet) file_system_monitor.cc:111: /tmp/ray/session_2024-02-23_11-29-52_330678_58831 is over 95% full, available space: 4435050496; capacity: 245107195904. Object creation will fail if spilling is required.\n",
      "\u001b[33m(raylet)\u001b[0m [2024-02-23 12:19:46,941 E 58843 531688] (raylet) file_system_monitor.cc:111: /tmp/ray/session_2024-02-23_11-29-52_330678_58831 is over 95% full, available space: 4434718720; capacity: 245107195904. Object creation will fail if spilling is required.\n",
      "\u001b[33m(raylet)\u001b[0m [2024-02-23 12:19:57,033 E 58843 531688] (raylet) file_system_monitor.cc:111: /tmp/ray/session_2024-02-23_11-29-52_330678_58831 is over 95% full, available space: 4434247680; capacity: 245107195904. Object creation will fail if spilling is required.\n",
      "\u001b[33m(raylet)\u001b[0m [2024-02-23 12:20:07,067 E 58843 531688] (raylet) file_system_monitor.cc:111: /tmp/ray/session_2024-02-23_11-29-52_330678_58831 is over 95% full, available space: 6586646528; capacity: 245107195904. Object creation will fail if spilling is required.\n"
     ]
    },
    {
     "name": "stdout",
     "output_type": "stream",
     "text": [
      " 23/313 [=>............................] - ETA: 0s - loss: 0.3489 - accuracy: 0.8886\n",
      " 32/313 [==>...........................] - ETA: 1s - loss: 0.3554 - accuracy: 0.8916\n",
      " 40/313 [==>...........................] - ETA: 2s - loss: 0.3436 - accuracy: 0.8891\n",
      " 42/313 [===>..........................] - ETA: 3s - loss: 0.3537 - accuracy: 0.8876\n",
      " 43/313 [===>..........................] - ETA: 3s - loss: 0.3499 - accuracy: 0.8895\n",
      " 80/313 [======>.......................] - ETA: 1s - loss: 0.3425 - accuracy: 0.8879\n",
      " 86/313 [=======>......................] - ETA: 2s - loss: 0.3477 - accuracy: 0.8863\n",
      "109/313 [=========>....................] - ETA: 1s - loss: 0.3766 - accuracy: 0.8802\n",
      "126/313 [===========>..................] - ETA: 1s - loss: 0.3869 - accuracy: 0.8777\n",
      "137/313 [============>.................] - ETA: 1s - loss: 0.3853 - accuracy: 0.8771\n",
      "139/313 [============>.................] - ETA: 1s - loss: 0.3868 - accuracy: 0.8768\n",
      "162/313 [==============>...............] - ETA: 1s - loss: 0.3970 - accuracy: 0.8754\n",
      "167/313 [===============>..............] - ETA: 1s - loss: 0.3977 - accuracy: 0.8756\n",
      "172/313 [===============>..............] - ETA: 1s - loss: 0.3963 - accuracy: 0.8759\n",
      "181/313 [================>.............] - ETA: 1s - loss: 0.3993 - accuracy: 0.8755\n",
      "193/313 [=================>............] - ETA: 1s - loss: 0.3972 - accuracy: 0.8760\n",
      "199/313 [==================>...........] - ETA: 1s - loss: 0.3953 - accuracy: 0.8761\n",
      "212/313 [===================>..........] - ETA: 1s - loss: 0.3951 - accuracy: 0.8760\n",
      "236/313 [=====================>........] - ETA: 0s - loss: 0.3870 - accuracy: 0.8775\n",
      "238/313 [=====================>........] - ETA: 0s - loss: 0.3861 - accuracy: 0.8776\n",
      "254/313 [=======================>......] - ETA: 0s - loss: 0.3826 - accuracy: 0.8781\n",
      "264/313 [========================>.....] - ETA: 0s - loss: 0.3809 - accuracy: 0.8788\n",
      "273/313 [=========================>....] - ETA: 0s - loss: 0.3798 - accuracy: 0.8787\n",
      "277/313 [=========================>....] - ETA: 0s - loss: 0.3811 - accuracy: 0.8785\n",
      "289/313 [==========================>...] - ETA: 0s - loss: 0.3823 - accuracy: 0.8784\n",
      "292/313 [==========================>...] - ETA: 0s - loss: 0.3834 - accuracy: 0.8782\n",
      "313/313 [==============================] - 3s 10ms/step - loss: 0.3825 - accuracy: 0.8793\n"
     ]
    },
    {
     "name": "stderr",
     "output_type": "stream",
     "text": [
      "\u001b[33m(raylet)\u001b[0m [2024-02-23 12:20:17,088 E 58843 531688] (raylet) file_system_monitor.cc:111: /tmp/ray/session_2024-02-23_11-29-52_330678_58831 is over 95% full, available space: 6590623744; capacity: 245107195904. Object creation will fail if spilling is required.\n",
      "\u001b[33m(raylet)\u001b[0m [2024-02-23 12:20:27,116 E 58843 531688] (raylet) file_system_monitor.cc:111: /tmp/ray/session_2024-02-23_11-29-52_330678_58831 is over 95% full, available space: 6595014656; capacity: 245107195904. Object creation will fail if spilling is required.\n",
      "\u001b[33m(raylet)\u001b[0m [2024-02-23 12:20:37,143 E 58843 531688] (raylet) file_system_monitor.cc:111: /tmp/ray/session_2024-02-23_11-29-52_330678_58831 is over 95% full, available space: 6594703360; capacity: 245107195904. Object creation will fail if spilling is required.\n",
      "\u001b[33m(raylet)\u001b[0m [2024-02-23 12:20:47,178 E 58843 531688] (raylet) file_system_monitor.cc:111: /tmp/ray/session_2024-02-23_11-29-52_330678_58831 is over 95% full, available space: 6596276224; capacity: 245107195904. Object creation will fail if spilling is required.\n",
      "\u001b[33m(raylet)\u001b[0m [2024-02-23 12:20:57,198 E 58843 531688] (raylet) file_system_monitor.cc:111: /tmp/ray/session_2024-02-23_11-29-52_330678_58831 is over 95% full, available space: 6595788800; capacity: 245107195904. Object creation will fail if spilling is required.\n",
      "\u001b[33m(raylet)\u001b[0m [2024-02-23 12:21:07,255 E 58843 531688] (raylet) file_system_monitor.cc:111: /tmp/ray/session_2024-02-23_11-29-52_330678_58831 is over 95% full, available space: 6593396736; capacity: 245107195904. Object creation will fail if spilling is required.\n"
     ]
    },
    {
     "name": "stdout",
     "output_type": "stream",
     "text": [
      " 18/313 [>.............................] - ETA: 1s - loss: 0.3366 - accuracy: 0.8854  \n",
      " 25/313 [=>............................] - ETA: 2s - loss: 0.3693 - accuracy: 0.8788\n",
      " 29/313 [=>............................] - ETA: 2s - loss: 0.3577 - accuracy: 0.8825\n",
      " 43/313 [===>..........................] - ETA: 2s - loss: 0.3637 - accuracy: 0.8808\n",
      " 54/313 [====>.........................] - ETA: 2s - loss: 0.3551 - accuracy: 0.8814\n",
      " 60/313 [====>.........................] - ETA: 2s - loss: 0.3506 - accuracy: 0.8854\n",
      " 69/313 [=====>........................] - ETA: 2s - loss: 0.3505 - accuracy: 0.8850\n",
      " 79/313 [======>.......................] - ETA: 2s - loss: 0.3558 - accuracy: 0.8845\n",
      " 92/313 [=======>......................] - ETA: 2s - loss: 0.3706 - accuracy: 0.8804\n",
      "116/313 [==========>...................] - ETA: 1s - loss: 0.3992 - accuracy: 0.8745\n",
      "138/313 [============>.................] - ETA: 1s - loss: 0.4045 - accuracy: 0.8727\n",
      "146/313 [============>.................] - ETA: 1s - loss: 0.3952 - accuracy: 0.8741\n",
      "163/313 [==============>...............] - ETA: 1s - loss: 0.4069 - accuracy: 0.8717\n",
      "183/313 [================>.............] - ETA: 1s - loss: 0.4140 - accuracy: 0.8714\n",
      "198/313 [=================>............] - ETA: 0s - loss: 0.4132 - accuracy: 0.8709\n",
      "212/313 [===================>..........] - ETA: 0s - loss: 0.4107 - accuracy: 0.8713\n",
      "234/313 [=====================>........] - ETA: 0s - loss: 0.4039 - accuracy: 0.8725\n",
      "255/313 [=======================>......] - ETA: 0s - loss: 0.4023 - accuracy: 0.8722\n",
      "267/313 [========================>.....] - ETA: 0s - loss: 0.3977 - accuracy: 0.8730\n",
      "292/313 [==========================>...] - ETA: 0s - loss: 0.4022 - accuracy: 0.8730\n",
      "313/313 [==============================] - 3s 7ms/step - loss: 0.3999 - accuracy: 0.8743\n",
      "  1/313 [..............................] - ETA: 6s - loss: 0.2680 - accuracy: 0.8750\n",
      " 46/313 [===>..........................] - ETA: 0s - loss: 0.3709 - accuracy: 0.8825\n",
      "109/313 [=========>....................] - ETA: 1s - loss: 0.3740 - accuracy: 0.8784\n",
      "148/313 [=============>................] - ETA: 0s - loss: 0.3820 - accuracy: 0.8775\n",
      "182/313 [================>.............] - ETA: 0s - loss: 0.3955 - accuracy: 0.8731\n",
      "206/313 [==================>...........] - ETA: 0s - loss: 0.3933 - accuracy: 0.8739\n",
      "222/313 [====================>.........] - ETA: 0s - loss: 0.3904 - accuracy: 0.8749\n",
      "249/313 [======================>.......] - ETA: 0s - loss: 0.3828 - accuracy: 0.8770\n",
      "265/313 [========================>.....] - ETA: 0s - loss: 0.3805 - accuracy: 0.8782\n",
      "277/313 [=========================>....] - ETA: 0s - loss: 0.3802 - accuracy: 0.8779\n",
      "300/313 [===========================>..] - ETA: 0s - loss: 0.3826 - accuracy: 0.8788\n"
     ]
    },
    {
     "name": "stderr",
     "output_type": "stream",
     "text": [
      "\u001b[33m(raylet)\u001b[0m [2024-02-23 12:21:17,329 E 58843 531688] (raylet) file_system_monitor.cc:111: /tmp/ray/session_2024-02-23_11-29-52_330678_58831 is over 95% full, available space: 7669133312; capacity: 245107195904. Object creation will fail if spilling is required.\n",
      "\u001b[33m(raylet)\u001b[0m [2024-02-23 12:21:27,342 E 58843 531688] (raylet) file_system_monitor.cc:111: /tmp/ray/session_2024-02-23_11-29-52_330678_58831 is over 95% full, available space: 7671877632; capacity: 245107195904. Object creation will fail if spilling is required.\n",
      "\u001b[33m(raylet)\u001b[0m [2024-02-23 12:21:37,370 E 58843 531688] (raylet) file_system_monitor.cc:111: /tmp/ray/session_2024-02-23_11-29-52_330678_58831 is over 95% full, available space: 8848715776; capacity: 245107195904. Object creation will fail if spilling is required.\n",
      "\u001b[33m(raylet)\u001b[0m [2024-02-23 12:21:47,378 E 58843 531688] (raylet) file_system_monitor.cc:111: /tmp/ray/session_2024-02-23_11-29-52_330678_58831 is over 95% full, available space: 8842944512; capacity: 245107195904. Object creation will fail if spilling is required.\n",
      "\u001b[33m(raylet)\u001b[0m [2024-02-23 12:21:57,384 E 58843 531688] (raylet) file_system_monitor.cc:111: /tmp/ray/session_2024-02-23_11-29-52_330678_58831 is over 95% full, available space: 8840802304; capacity: 245107195904. Object creation will fail if spilling is required.\n"
     ]
    },
    {
     "name": "stdout",
     "output_type": "stream",
     "text": [
      " 54/313 [====>.........................] - ETA: 1s - loss: 0.3549 - accuracy: 0.8866\n",
      " 64/313 [=====>........................] - ETA: 1s - loss: 0.3602 - accuracy: 0.8828\n",
      " 82/313 [======>.......................] - ETA: 1s - loss: 0.3564 - accuracy: 0.8830\n",
      "138/313 [============>.................] - ETA: 0s - loss: 0.3816 - accuracy: 0.8779\n",
      "313/313 [==============================] - 2s 5ms/step - loss: 0.3808 - accuracy: 0.8785\n",
      "  1/313 [..............................] - ETA: 36s - loss: 0.3422 - accuracy: 0.8438\n",
      " 57/313 [====>.........................] - ETA: 0s - loss: 0.3387 - accuracy: 0.8849\n",
      "118/313 [==========>...................] - ETA: 0s - loss: 0.3585 - accuracy: 0.8731\n",
      "142/313 [============>.................] - ETA: 0s - loss: 0.3600 - accuracy: 0.8741\n",
      "184/313 [================>.............] - ETA: 0s - loss: 0.3720 - accuracy: 0.8726\n",
      "227/313 [====================>.........] - ETA: 0s - loss: 0.3688 - accuracy: 0.8731\n",
      "253/313 [=======================>......] - ETA: 0s - loss: 0.3611 - accuracy: 0.8755\n",
      "272/313 [=========================>....] - ETA: 0s - loss: 0.3584 - accuracy: 0.8765\n",
      "313/313 [==============================] - 1s 3ms/step - loss: 0.3594 - accuracy: 0.8755\n"
     ]
    },
    {
     "name": "stderr",
     "output_type": "stream",
     "text": [
      "\u001b[33m(raylet)\u001b[0m [2024-02-23 12:22:07,401 E 58843 531688] (raylet) file_system_monitor.cc:111: /tmp/ray/session_2024-02-23_11-29-52_330678_58831 is over 95% full, available space: 8840167424; capacity: 245107195904. Object creation will fail if spilling is required.\n",
      "\u001b[33m(raylet)\u001b[0m [2024-02-23 12:22:17,422 E 58843 531688] (raylet) file_system_monitor.cc:111: /tmp/ray/session_2024-02-23_11-29-52_330678_58831 is over 95% full, available space: 8839290880; capacity: 245107195904. Object creation will fail if spilling is required.\n"
     ]
    },
    {
     "name": "stdout",
     "output_type": "stream",
     "text": [
      " 35/313 [==>...........................] - ETA: 0s - loss: 0.3483 - accuracy: 0.8821\n",
      " 87/313 [=======>......................] - ETA: 0s - loss: 0.3332 - accuracy: 0.8793\n",
      "144/313 [============>.................] - ETA: 0s - loss: 0.3603 - accuracy: 0.8711\n",
      "202/313 [==================>...........] - ETA: 0s - loss: 0.3756 - accuracy: 0.8680\n",
      "251/313 [=======================>......] - ETA: 0s - loss: 0.3692 - accuracy: 0.8693\n",
      "313/313 [==============================] - 1s 2ms/step - loss: 0.3692 - accuracy: 0.8691\n"
     ]
    },
    {
     "name": "stderr",
     "output_type": "stream",
     "text": [
      "\u001b[33m(raylet)\u001b[0m [2024-02-23 12:22:27,431 E 58843 531688] (raylet) file_system_monitor.cc:111: /tmp/ray/session_2024-02-23_11-29-52_330678_58831 is over 95% full, available space: 9913487360; capacity: 245107195904. Object creation will fail if spilling is required.\n"
     ]
    },
    {
     "name": "stdout",
     "output_type": "stream",
     "text": [
      "\u001b[36m(train_model pid=58862)\u001b[0m \r",
      "  1/313 [..............................] - ETA: 4s - loss: 0.2794 - accuracy: 0.8750\b\b\b\b\b\b\b\b\b\b\b\b\b\b\b\b\b\b\b\b\b\b\b\b\b\b\b\b\b\b\b\b\b\b\b\b\b\b\b\b\b\b\b\b\b\b\b\b\b\b\b\b\b\b\b\b\b\b\b\b\b\b\b\b\b\b\b\b\b\b\b\b\b\b\b\b\b\b\b\b\b\b\b\b\r",
      " 36/313 [==>...........................] - ETA: 0s - loss: 0.3565 - accuracy: 0.8793\n",
      "\u001b[36m(train_model pid=58862)\u001b[0m \b\b\b\b\b\b\b\b\b\b\b\b\b\b\b\b\b\b\b\b\b\b\b\b\b\b\b\b\b\b\b\b\b\b\b\b\b\b\b\b\b\b\b\b\b\b\b\b\b\b\b\b\b\b\b\b\b\b\b\b\b\b\b\b\b\b\b\b\b\b\b\b\b\b\b\b\b\b\b\b\b\b\b\b\r",
      " 75/313 [======>.......................] - ETA: 0s - loss: 0.3305 - accuracy: 0.8817\b\b\b\b\b\b\b\b\b\b\b\b\b\b\b\b\b\b\b\b\b\b\b\b\b\b\b\b\b\b\b\b\b\b\b\b\b\b\b\b\b\b\b\b\b\b\b\b\b\b\b\b\b\b\b\b\b\b\b\b\b\b\b\b\b\b\b\b\b\b\b\b\b\b\b\b\b\b\b\b\b\b\b\b\r",
      "113/313 [=========>....................] - ETA: 0s - loss: 0.3678 - accuracy: 0.8725\n"
     ]
    },
    {
     "name": "stderr",
     "output_type": "stream",
     "text": [
      "\u001b[33m(raylet)\u001b[0m [2024-02-23 12:22:37,434 E 58843 531688] (raylet) file_system_monitor.cc:111: /tmp/ray/session_2024-02-23_11-29-52_330678_58831 is over 95% full, available space: 9916702720; capacity: 245107195904. Object creation will fail if spilling is required.\n"
     ]
    },
    {
     "name": "stdout",
     "output_type": "stream",
     "text": [
      "179/313 [================>.............] - ETA: 0s - loss: 0.3799 - accuracy: 0.8685\n",
      "246/313 [======================>.......] - ETA: 0s - loss: 0.3671 - accuracy: 0.8739\n",
      "313/313 [==============================] - 0s 1ms/step - loss: 0.3680 - accuracy: 0.8741\n"
     ]
    },
    {
     "name": "stderr",
     "output_type": "stream",
     "text": [
      "\u001b[33m(raylet)\u001b[0m [2024-02-23 12:22:47,438 E 58843 531688] (raylet) file_system_monitor.cc:111: /tmp/ray/session_2024-02-23_11-29-52_330678_58831 is over 95% full, available space: 9912172544; capacity: 245107195904. Object creation will fail if spilling is required.\n"
     ]
    },
    {
     "name": "stdout",
     "output_type": "stream",
     "text": [
      "  1/313 [..............................] - ETA: 26s - loss: 0.3803 - accuracy: 0.8438\n",
      "109/313 [=========>....................] - ETA: 0s - loss: 0.3645 - accuracy: 0.8773\n",
      "218/313 [===================>..........] - ETA: 0s - loss: 0.3686 - accuracy: 0.8799\n",
      "313/313 [==============================] - 0s 924us/step - loss: 0.3582 - accuracy: 0.8821\n"
     ]
    },
    {
     "name": "stderr",
     "output_type": "stream",
     "text": [
      "\u001b[33m(raylet)\u001b[0m [2024-02-23 12:22:57,443 E 58843 531688] (raylet) file_system_monitor.cc:111: /tmp/ray/session_2024-02-23_11-29-52_330678_58831 is over 95% full, available space: 10987159552; capacity: 245107195904. Object creation will fail if spilling is required.\n",
      "\u001b[33m(raylet)\u001b[0m [2024-02-23 12:23:07,542 E 58843 531688] (raylet) file_system_monitor.cc:111: /tmp/ray/session_2024-02-23_11-29-52_330678_58831 is over 95% full, available space: 10987106304; capacity: 245107195904. Object creation will fail if spilling is required.\n"
     ]
    },
    {
     "name": "stdout",
     "output_type": "stream",
     "text": [
      "\u001b[36m(train_model pid=58864)\u001b[0m \r",
      "  1/313 [..............................] - ETA: 19s - loss: 0.2818 - accuracy: 0.8438\b\b\b\b\b\b\b\b\b\b\b\b\b\b\b\b\b\b\b\b\b\b\b\b\b\b\b\b\b\b\b\b\b\b\b\b\b\b\b\b\b\b\b\b\b\b\b\b\b\b\b\b\b\b\b\b\b\b\b\b\b\b\b\b\b\b\b\b\b\b\b\b\b\b\b\b\b\b\b\b\b\b\b\b\b\r",
      " 80/313 [======>.......................] - ETA: 0s - loss: 0.3386 - accuracy: 0.8805 \n",
      "\u001b[36m(train_model pid=58864)\u001b[0m \b\b\b\b\b\b\b\b\b\b\b\b\b\b\b\b\b\b\b\b\b\b\b\b\b\b\b\b\b\b\b\b\b\b\b\b\b\b\b\b\b\b\b\b\b\b\b\b\b\b\b\b\b\b\b\b\b\b\b\b\b\b\b\b\b\b\b\b\b\b\b\b\b\b\b\b\b\b\b\b\b\b\b\b\r",
      "158/313 [==============>...............] - ETA: 0s - loss: 0.3747 - accuracy: 0.8714\b\b\b\b\b\b\b\b\b\b\b\b\b\b\b\b\b\b\b\b\b\b\b\b\b\b\b\b\b\b\b\b\b\b\b\b\b\b\b\b\b\b\b\b\b\b\b\b\b\b\b\b\b\b\b\b\b\b\b\b\b\b\b\b\b\b\b\b\b\b\b\b\b\b\b\b\b\b\b\b\b\b\b\b\r",
      "239/313 [=====================>........] - ETA: 0s - loss: 0.3752 - accuracy: 0.8709\b\b\b\b\b\b\b\b\b\b\b\b\b\b\b\b\b\b\b\b\b\b\b\b\b\b\b\b\b\b\b\b\b\b\b\b\b\b\b\b\b\b\b\b\b\b\b\b\b\b\b\b\b\b\b\b\b\b\b\b\b\b\b\b\b\b\b\b\b\b\b\b\b\b\b\b\b\b\b\b\b\b\b\b\r",
      "313/313 [==============================] - 0s 626us/step - loss: 0.3740 - accuracy: 0.8720\n"
     ]
    },
    {
     "name": "stderr",
     "output_type": "stream",
     "text": [
      "2024-02-23 12:23:16,879\tINFO tune.py:1042 -- Total run time: 3201.89 seconds (3199.43 seconds for the tuning loop).\n"
     ]
    }
   ],
   "source": [
    "# Run hyperparameter tuning\n",
    "analysis = tune.run(\n",
    "    train_model,\n",
    "    config=search_space,\n",
    "    metric=\"test_accuracy\",\n",
    "    mode=\"max\",\n",
    ")"
   ]
  },
  {
   "cell_type": "code",
   "execution_count": 7,
   "metadata": {},
   "outputs": [],
   "source": [
    "ray.shutdown()"
   ]
  },
  {
   "cell_type": "code",
   "execution_count": 8,
   "metadata": {
    "id": "RgUHMkiSDKZj",
    "outputId": "88b1f24e-23bf-42b4-f9b4-38e5512d009d"
   },
   "outputs": [
    {
     "name": "stdout",
     "output_type": "stream",
     "text": [
      "Best hyperparameters: {'units_1': 256, 'units_2': 256, 'dropouts_1': 0.1, 'dropouts_2': 0.1, 'batch_size': 64}\n",
      "Best accuracy: 0.8867999911308289\n"
     ]
    }
   ],
   "source": [
    "# Print the best hyperparameters and results\n",
    "config = analysis.best_config\n",
    "print(\"Best hyperparameters:\", analysis.best_config)\n",
    "print(\"Best accuracy:\", analysis.best_result[\"test_accuracy\"])"
   ]
  }
 ],
 "metadata": {
  "accelerator": "TPU",
  "colab": {
   "provenance": []
  },
  "kernelspec": {
   "display_name": "Python 3 (ipykernel)",
   "language": "python",
   "name": "python3"
  },
  "language_info": {
   "codemirror_mode": {
    "name": "ipython",
    "version": 3
   },
   "file_extension": ".py",
   "mimetype": "text/x-python",
   "name": "python",
   "nbconvert_exporter": "python",
   "pygments_lexer": "ipython3",
   "version": "3.11.5"
  }
 },
 "nbformat": 4,
 "nbformat_minor": 1
}
