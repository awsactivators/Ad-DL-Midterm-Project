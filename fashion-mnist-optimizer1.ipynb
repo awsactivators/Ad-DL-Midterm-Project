{
 "cells": [
  {
   "cell_type": "markdown",
   "metadata": {
    "id": "0BL-NITwDKZi"
   },
   "source": [
    "## Implementation using TensorFlow on fashion minst dataset."
   ]
  },
  {
   "cell_type": "code",
   "execution_count": null,
   "metadata": {
    "id": "q7jewJ3bDKZi"
   },
   "outputs": [],
   "source": [
    "from fashionmnist_model import FMM\n",
    "import tensorflow as tf"
   ]
  },
  {
   "cell_type": "code",
   "execution_count": null,
   "metadata": {
    "id": "9g8A7WBWDKZj"
   },
   "outputs": [],
   "source": [
    "# Load the data\n",
    "X_train, y_train, X_test, y_test = FMM.load_data()"
   ]
  },
  {
   "cell_type": "code",
   "execution_count": null,
   "metadata": {
    "id": "RgUHMkiSDKZj",
    "outputId": "88b1f24e-23bf-42b4-f9b4-38e5512d009d"
   },
   "outputs": [],
   "source": [
    "# Create and compile the model with the optimizer\n",
    "optimizer = tf.keras.optimizers.Adam(\n",
    "    **{\n",
    "        \"learning_rate\": 0.001048353562375999,\n",
    "        \"beta_1\": 0.9579452319747783,\n",
    "        \"beta_2\": 0.970555575375257,\n",
    "        \"epsilon\": 6.27029953769078e-08,\n",
    "        \"weight_decay\": 3.464892852166533e-06,\n",
    "    }\n",
    ")\n",
    "model = FMM.create_model()\n",
    "print(f\"Training with {optimizer.__class__.__name__} optimizer...\")\n",
    "history, train_accuracy, val_accuracy = FMM.compile_and_train(\n",
    "    model, X_train, y_train, X_test, y_test, optimizer\n",
    ")"
   ]
  },
  {
   "cell_type": "code",
   "execution_count": null,
   "metadata": {
    "id": "eDWdb7JdDKZk",
    "outputId": "3cf54c01-268a-460a-998e-a61ac7211dfd"
   },
   "outputs": [],
   "source": [
    "loss, accuracy = FMM.evaluate(model, X_test, y_test)"
   ]
  },
  {
   "cell_type": "code",
   "execution_count": null,
   "metadata": {
    "id": "N0HRSDXhDKZk",
    "outputId": "3ccc8b70-e178-4050-99ee-1ee131ec0d3a"
   },
   "outputs": [],
   "source": [
    "print(f\"Training accuracy : {train_accuracy}\")\n",
    "print(f\"Validation accuracy : {val_accuracy}\")\n",
    "print(f\"Loss : {loss}\")\n",
    "print(f\"Accuracy : {accuracy}\")"
   ]
  },
  {
   "cell_type": "code",
   "execution_count": null,
   "metadata": {
    "id": "HqTtXxagDKZl",
    "outputId": "a649bb40-6170-4410-f195-7d2ea6092792"
   },
   "outputs": [],
   "source": [
    "FMM.plot_history(history, optimizer)"
   ]
  },
  {
   "cell_type": "code",
   "execution_count": null,
   "metadata": {},
   "outputs": [],
   "source": [
    "raise KeyboardInterrupt"
   ]
  },
  {
   "cell_type": "code",
   "execution_count": null,
   "metadata": {
    "colab": {
     "base_uri": "https://localhost:8080/"
    },
    "id": "NaC2gDY1Deuj",
    "outputId": "a64ff6f3-5cd7-4bfc-efe7-dbd80870a5d2"
   },
   "outputs": [],
   "source": [
    "! pip install -U \"ray[data,train,tune,serve]\""
   ]
  },
  {
   "cell_type": "code",
   "execution_count": null,
   "metadata": {
    "id": "jwo_a1uyDKZm"
   },
   "outputs": [],
   "source": [
    "import ray\n",
    "from ray import tune, train\n",
    "from ray.tune import grid_search\n",
    "import tensorflow as tf\n",
    "from tensorflow.keras.datasets import fashion_mnist"
   ]
  },
  {
   "cell_type": "code",
   "execution_count": null,
   "metadata": {
    "colab": {
     "base_uri": "https://localhost:8080/",
     "height": 93
    },
    "id": "GsucQLSADKZm",
    "outputId": "e2db9b2b-5634-4d4e-bc46-973d4d1254ba"
   },
   "outputs": [],
   "source": [
    "ray.init()"
   ]
  },
  {
   "cell_type": "code",
   "execution_count": null,
   "metadata": {
    "id": "-NTHKLMvDKZm"
   },
   "outputs": [],
   "source": [
    "# Define a function to train the model\n",
    "def train_model(config):\n",
    "    # Load and preprocess the Fashion MNIST dataset\n",
    "    (X_train, y_train), (X_test, y_test) = fashion_mnist.load_data()\n",
    "    X_train, X_test = X_train / 255.0, X_test / 255.0  # Normalize pixel values\n",
    "\n",
    "    # Define a TensorFlow model\n",
    "    model = tf.keras.Sequential(\n",
    "        [\n",
    "            tf.keras.layers.Flatten(input_shape=(28, 28)),\n",
    "            tf.keras.layers.Dense(256, activation=\"relu\"),\n",
    "            tf.keras.layers.Dense(64, activation=\"relu\"),\n",
    "            tf.keras.layers.Dense(10, activation=\"softmax\"),\n",
    "        ]\n",
    "    )\n",
    "\n",
    "    # Compile the model\n",
    "    optimizer = tf.keras.optimizers.legacy.Adam(\n",
    "        learning_rate=config[\"learning_rate\"],\n",
    "        #         beta_1=config[\"beta_1\"],\n",
    "        #         beta_2=config[\"beta_2\"],\n",
    "        #         epsilon=config[\"epsilon\"],\n",
    "    )\n",
    "    model.compile(\n",
    "        optimizer=optimizer,\n",
    "        loss=\"sparse_categorical_crossentropy\",\n",
    "        metrics=[\"accuracy\"],\n",
    "    )\n",
    "\n",
    "    # Train the model\n",
    "    model.fit(X_train, y_train, epochs=50, verbose=0)\n",
    "\n",
    "    # Evaluate the model\n",
    "    loss, accuracy = model.evaluate(X_test, y_test)\n",
    "    train.report({\"accuracy\": accuracy, \"loss\": loss})"
   ]
  },
  {
   "cell_type": "code",
   "execution_count": null,
   "metadata": {},
   "outputs": [],
   "source": [
    "search_space = {\n",
    "    \"learning_rate\": tune.loguniform(1e-4, 1e-2),  # Learning rate\n",
    "    #     \"beta_1\": tune.uniform(0.8, 0.999),  # Beta1\n",
    "    #     \"beta_2\": tune.uniform(0.8, 0.999),  # Beta2\n",
    "    #     \"epsilon\": tune.loguniform(1e-10, 1e-6),  # Epsilon\n",
    "    #     \"weight_decay\": tune.loguniform(1e-6, 1e-3),\n",
    "}"
   ]
  },
  {
   "cell_type": "code",
   "execution_count": null,
   "metadata": {
    "colab": {
     "base_uri": "https://localhost:8080/"
    },
    "id": "Ro-ukGpHH_EV",
    "outputId": "4cf2dcde-484e-459d-8dbd-175805b65d96"
   },
   "outputs": [],
   "source": [
    "# Run hyperparameter tuning\n",
    "analysis = tune.run(\n",
    "    train_model,\n",
    "    config=search_space,\n",
    "    num_samples=16,\n",
    "    metric=\"accuracy\",\n",
    "    mode=\"max\",\n",
    "    resources_per_trial={\"cpu\": 2},\n",
    "    verbose=1,\n",
    ")"
   ]
  },
  {
   "cell_type": "code",
   "execution_count": null,
   "metadata": {
    "id": "ksM1feu4D1aH"
   },
   "outputs": [],
   "source": [
    "# Print the best hyperparameters and results\n",
    "config = analysis.best_config\n",
    "print(\"Best hyperparameters:\", analysis.best_config)\n",
    "print(\"Best accuracy:\", analysis.best_result[\"accuracy\"])"
   ]
  },
  {
   "cell_type": "code",
   "execution_count": null,
   "metadata": {},
   "outputs": [],
   "source": [
    "optimizer = tf.keras.optimizers.Adam(**config)\n",
    "model = FMM.create_model()\n",
    "print(f\"Training with {optimizer.__class__.__name__} optimizer...\")\n",
    "print(f\"OPtimizer hyperparameters : {optimizer.get_config()}.\")\n",
    "history, train_accuracy, val_accuracy = FMM.compile_and_train(\n",
    "    model, X_train, y_train, X_test, y_test, optimizer\n",
    ")"
   ]
  },
  {
   "cell_type": "code",
   "execution_count": null,
   "metadata": {},
   "outputs": [],
   "source": [
    "loss, accuracy = FMM.evaluate(model, X_test, y_test)"
   ]
  },
  {
   "cell_type": "code",
   "execution_count": null,
   "metadata": {},
   "outputs": [],
   "source": [
    "print(f\"Training accuracy : {train_accuracy}\")\n",
    "print(f\"Validation accuracy : {val_accuracy}\")\n",
    "print(f\"Loss : {loss}\")\n",
    "print(f\"Accuracy : {accuracy}\")"
   ]
  },
  {
   "cell_type": "code",
   "execution_count": null,
   "metadata": {},
   "outputs": [],
   "source": [
    "FMM.plot_history(history, optimizer)"
   ]
  },
  {
   "cell_type": "code",
   "execution_count": null,
   "metadata": {},
   "outputs": [],
   "source": [
    "ray.shutdown()"
   ]
  },
  {
   "cell_type": "code",
   "execution_count": null,
   "metadata": {},
   "outputs": [],
   "source": []
  }
 ],
 "metadata": {
  "accelerator": "TPU",
  "colab": {
   "provenance": []
  },
  "kernelspec": {
   "display_name": "Python 3 (ipykernel)",
   "language": "python",
   "name": "python3"
  },
  "language_info": {
   "codemirror_mode": {
    "name": "ipython",
    "version": 3
   },
   "file_extension": ".py",
   "mimetype": "text/x-python",
   "name": "python",
   "nbconvert_exporter": "python",
   "pygments_lexer": "ipython3",
   "version": "3.11.5"
  }
 },
 "nbformat": 4,
 "nbformat_minor": 1
}
